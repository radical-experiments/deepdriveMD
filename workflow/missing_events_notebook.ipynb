{
 "cells": [
  {
   "cell_type": "code",
   "execution_count": 2,
   "metadata": {},
   "outputs": [
    {
     "data": {
      "text/html": [
       "<style>.container { width:100% !important; }</style>"
      ],
      "text/plain": [
       "<IPython.core.display.HTML object>"
      ]
     },
     "metadata": {},
     "output_type": "display_data"
    }
   ],
   "source": [
    "%matplotlib inline\n",
    "%run 'notebook_utils.py'\n",
    "\n",
    "import sys\n",
    "import pprint\n",
    "import cProfile\n",
    "\n",
    "import matplotlib.pyplot as plt\n",
    "import numpy             as np\n",
    "\n",
    "import radical.utils     as ru\n",
    "import radical.pilot     as rp\n",
    "import radical.analytics as ra\n",
    "\n",
    "from   radical.utils.profile import *\n",
    "from   radical.pilot.states  import *\n",
    "import glob\n",
    "from math import sqrt\n",
    "from matplotlib.ticker import MaxNLocator\n",
    "from matplotlib.ticker import AutoMinorLocator"
   ]
  },
  {
   "cell_type": "code",
   "execution_count": 6,
   "metadata": {},
   "outputs": [
    {
     "name": "stdout",
     "output_type": "stream",
     "text": [
      "['session_close', 'config_parser_stop', 'staging_in_start', 'session_start', 'staging_in_stop', 'get', 'component_init', 'drop', 'submission_start', 'session_stop', 'submission_stop', 'state', 'update_request', 'update_pushed', 'flush', 'put', 'sync_abs', 'config_parser_start', 'component_final', 'setup_done', 'END']\n",
      "0\n",
      "[]\n",
      "[]\n"
     ]
    }
   ],
   "source": [
    "rp_folder = glob.glob('../stress-ng-12000-supermic-ss/ss-dur-12000/7_hyp_ss_fac_4_run_1/rp.*')\n",
    "\n",
    "rp_session = ra.Session(stype='radical.pilot', src=rp_folder[0])\n",
    "rp_pilots = rp_session.get(etype='pilot') \n",
    "rp_pilots = rp_session.filter(etype='pilot', inplace=False)\n",
    "\n",
    "events = rp_session.list('event')\n",
    "print events\n",
    "\n",
    "rp_units = rp_session.filter(etype='unit', inplace=False)\n",
    "durations=list()\n",
    "exec_duration = rp_units.duration(state=[rp.AGENT_EXECUTING,\n",
    "                                    rp.AGENT_STAGING_OUTPUT_PENDING])\n",
    "\n",
    "start_data = rp_units.timestamps(event = [{ru.EVENT: 'exec_start'}])\n",
    "stop_data = rp_units.timestamps(event = [{ru.EVENT: 'exec_stop'}])\n",
    "\n",
    "\n",
    "print exec_duration\n",
    "print start_data\n",
    "print stop_data"
   ]
  },
  {
   "cell_type": "code",
   "execution_count": null,
   "metadata": {},
   "outputs": [],
   "source": []
  }
 ],
 "metadata": {
  "kernelspec": {
   "display_name": "Python 2",
   "language": "python",
   "name": "python2"
  },
  "language_info": {
   "codemirror_mode": {
    "name": "ipython",
    "version": 2
   },
   "file_extension": ".py",
   "mimetype": "text/x-python",
   "name": "python",
   "nbconvert_exporter": "python",
   "pygments_lexer": "ipython2",
   "version": "2.7.12"
  }
 },
 "nbformat": 4,
 "nbformat_minor": 2
}
