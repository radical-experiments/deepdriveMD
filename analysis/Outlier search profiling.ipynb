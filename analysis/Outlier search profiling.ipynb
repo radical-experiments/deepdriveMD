{
 "cells": [
  {
   "cell_type": "markdown",
   "metadata": {},
   "source": [
    "## Outlier Search\n",
    "This is the last stage in DeepDriveMD searching outlier and this ipython provides profiling results to evaluate which lines of code are expensive in computation.\n",
    "\n",
    "The main code is here: https://github.com/2019-ncovgroup/DrugWorkflows/blob/wf2/adrp/workflow-2/Outlier_search/outlier_locator.py"
   ]
  },
  {
   "cell_type": "markdown",
   "metadata": {},
   "source": [
    "## Description\n",
    "- step 1. read all trajectories and contact matrices from simulation\n",
    "- step 2. read all trained models and find one with the lowest loss\n",
    "- step 3. calculate cvae prediction *GPU required*\n",
    "- step 4. search the right eps for DBSCAN\n",
    "- step 5: Set up input configurations for next batch of MD simulations using pdb (Restart points from outliers) *i/o intensive*"
   ]
  },
  {
   "cell_type": "markdown",
   "metadata": {},
   "source": [
    "## Profiling of ADRP"
   ]
  },
  {
   "cell_type": "markdown",
   "metadata": {},
   "source": [
    "```\n",
    "$ python -m line_profiler outlier_locator.py.lprof \n",
    "Timer unit: 1e-06 s\n",
    "\n",
    "Total time: 8001.62 s\n",
    "File: /gpfs/alpine/scratch/hrlee/med110/hm0/Outlier_search/outlier_locator.py\n",
    "Function: main at line 11\n",
    "\n",
    "Line #      Hits         Time  Per Hit   % Time  Line Contents\n",
    "==============================================================\n",
    "...\n",
    "    73         1  214(sec) 214(sec)      2.7      cvae_input = cm_to_cvae(cm_data_lists)\n",
    "...\n",
    "    97         1 1801(sec) 1801(sec)     22.5         cm_predict = predict_from_cvae(model_best, cvae_input, hyper_dim=model_dim)\n",
    "...\n",
    "   153       346       7319.0     21.2      0.0          # Only write new pdbs to reduce redundancy.\n",
    "   157       346      5871(sec) 16(sec)     73.4              outlier_pdb = write_pdb_frame(traj_file, pdb_current_file, num_frame, outlier_pdb_file)\n",
    "\n",
    "...\n",
    "\n",
    "```"
   ]
  }
 ],
 "metadata": {
  "kernelspec": {
   "display_name": "Python 3",
   "language": "python",
   "name": "python3"
  },
  "language_info": {
   "codemirror_mode": {
    "name": "ipython",
    "version": 3
   },
   "file_extension": ".py",
   "mimetype": "text/x-python",
   "name": "python",
   "nbconvert_exporter": "python",
   "pygments_lexer": "ipython3",
   "version": "3.6.10"
  }
 },
 "nbformat": 4,
 "nbformat_minor": 4
}
