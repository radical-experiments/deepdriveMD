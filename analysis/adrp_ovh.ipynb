{
 "cells": [
  {
   "cell_type": "code",
   "execution_count": 1,
   "metadata": {},
   "outputs": [],
   "source": [
    "import radical.analytics as ra\n",
    "import radical.pilot as rp\n",
    "import radical.utils as ru"
   ]
  },
  {
   "cell_type": "markdown",
   "metadata": {},
   "source": [
    "## Import session\n",
    "Session provides profiling data, the data for this particular experiment can be found here: https://github.com/radical-experiments/deepdriveMD/tree/master/data/raw/incite\n",
    "\n",
    "The latest run with adrp completes 10 iterations by using 60 gpus."
   ]
  },
  {
   "cell_type": "code",
   "execution_count": 2,
   "metadata": {},
   "outputs": [],
   "source": [
    "sid = 're.session.login4.hrlee.018463.0000'\n",
    "session = ra.Session(sid, \"radical.pilot\")"
   ]
  },
  {
   "cell_type": "markdown",
   "metadata": {},
   "source": [
    "## Pilot Lifetime\n",
    "This is active time of a job, for example the pilot job is created like:\n",
    "```\n",
    "235238  hrlee      RUN    421      batch       Jul 20 17:49  Jul 21 05:49  pilot.0000                    \n",
    "```\n",
    "\n",
    "And the duration between `bootstrap` and `END` states i.e. FAILED, DONE, CANCELED give actual node hours consumed."
   ]
  },
  {
   "cell_type": "code",
   "execution_count": 3,
   "metadata": {},
   "outputs": [
    {
     "name": "stdout",
     "output_type": "stream",
     "text": [
      "21626.449905872345\n"
     ]
    }
   ],
   "source": [
    "session.get(etype=\"pilot\")[0].duration(event=[{1:\"bootstrap_0_start\"}, [{ru.STATE:rp.CANCELED},{ru.STATE:rp.DONE},{ru.STATE:rp.FAILED}]])"
   ]
  },
  {
   "cell_type": "markdown",
   "metadata": {},
   "source": [
    "## Unit duration\n",
    "Multiple units are started and finished at different time and this duration measures elapsed time between the first and last units."
   ]
  },
  {
   "cell_type": "code",
   "execution_count": 7,
   "metadata": {},
   "outputs": [],
   "source": [
    "units=session.filter(etype='unit'    , inplace=False)"
   ]
  },
  {
   "cell_type": "code",
   "execution_count": 8,
   "metadata": {},
   "outputs": [
    {
     "name": "stdout",
     "output_type": "stream",
     "text": [
      "21291.0\n"
     ]
    }
   ],
   "source": [
    "units.duration(event=[{ru.EVENT: 'cu_exec_start', ru.STATE: None},\n",
    "                      {ru.EVENT: 'cu_exec_stop' , ru.STATE: None} ])"
   ]
  },
  {
   "cell_type": "markdown",
   "metadata": {},
   "source": [
    "### 623 units created for 10 iterations"
   ]
  },
  {
   "cell_type": "code",
   "execution_count": 10,
   "metadata": {},
   "outputs": [],
   "source": [
    "unit_cnt=len(session.get(etype='unit'))"
   ]
  },
  {
   "cell_type": "markdown",
   "metadata": {},
   "source": [
    "## Timestamps\n",
    "This relative delta is useful to compare the difference between two events."
   ]
  },
  {
   "cell_type": "markdown",
   "metadata": {},
   "source": [
    "### Last unit\n",
    "\n",
    "This is when the last application is finished."
   ]
  },
  {
   "cell_type": "code",
   "execution_count": 11,
   "metadata": {},
   "outputs": [
    {
     "name": "stdout",
     "output_type": "stream",
     "text": [
      "[37458.40424966812]\n"
     ]
    }
   ],
   "source": [
    "session.get(etype='unit')[unit_cnt-1].timestamps(event={ru.EVENT:'cu_exec_stop'})"
   ]
  },
  {
   "cell_type": "markdown",
   "metadata": {},
   "source": [
    "### The pilot termination\n",
    "This is when the pilot is terminated and the job scheduler freed the allocation."
   ]
  },
  {
   "cell_type": "code",
   "execution_count": 12,
   "metadata": {},
   "outputs": [
    {
     "name": "stdout",
     "output_type": "stream",
     "text": [
      "[37492.70757961273]\n"
     ]
    }
   ],
   "source": [
    "session.get(etype=\"pilot\")[0].timestamps(event= {ru.STATE:rp.CANCELED})"
   ]
  },
  {
   "cell_type": "markdown",
   "metadata": {},
   "source": [
    "### bootstrap \n",
    "This is the first event when a pilot kicks in."
   ]
  },
  {
   "cell_type": "code",
   "execution_count": 13,
   "metadata": {},
   "outputs": [
    {
     "name": "stdout",
     "output_type": "stream",
     "text": [
      "[15866.257673740387]\n"
     ]
    }
   ],
   "source": [
    "session.get(etype='pilot')[0].timestamps(event={ru.EVENT:'bootstrap_0_start'})"
   ]
  },
  {
   "cell_type": "markdown",
   "metadata": {},
   "source": [
    "### First unit"
   ]
  },
  {
   "cell_type": "code",
   "execution_count": 14,
   "metadata": {},
   "outputs": [
    {
     "name": "stdout",
     "output_type": "stream",
     "text": [
      "[15923.404249668121]\n"
     ]
    }
   ],
   "source": [
    "session.get(etype='unit')[0].timestamps(event={ru.EVENT:'cu_exec_start'})"
   ]
  },
  {
   "cell_type": "code",
   "execution_count": 7,
   "metadata": {},
   "outputs": [
    {
     "data": {
      "text/html": [
       "<div>\n",
       "<style scoped>\n",
       "    .dataframe tbody tr th:only-of-type {\n",
       "        vertical-align: middle;\n",
       "    }\n",
       "\n",
       "    .dataframe tbody tr th {\n",
       "        vertical-align: top;\n",
       "    }\n",
       "\n",
       "    .dataframe thead th {\n",
       "        text-align: right;\n",
       "    }\n",
       "</style>\n",
       "<table border=\"1\" class=\"dataframe\">\n",
       "  <thead>\n",
       "    <tr style=\"text-align: right;\">\n",
       "      <th></th>\n",
       "      <th>ovh_s</th>\n",
       "      <th>ovh_e</th>\n",
       "      <th>ovh</th>\n",
       "      <th>unit</th>\n",
       "    </tr>\n",
       "  </thead>\n",
       "  <tbody>\n",
       "    <tr>\n",
       "      <th>adrp</th>\n",
       "      <td>57.146576</td>\n",
       "      <td>34.30333</td>\n",
       "      <td>335.449906</td>\n",
       "      <td>21291</td>\n",
       "    </tr>\n",
       "  </tbody>\n",
       "</table>\n",
       "</div>"
      ],
      "text/plain": [
       "          ovh_s     ovh_e         ovh   unit\n",
       "adrp  57.146576  34.30333  335.449906  21291"
      ]
     },
     "execution_count": 7,
     "metadata": {},
     "output_type": "execute_result"
    },
    {
     "data": {
      "image/png": "[encoded data removed]",
      "text/plain": [
       "<Figure size 432x288 with 1 Axes>"
      ]
     },
     "metadata": {
      "needs_background": "light"
     },
     "output_type": "display_data"
    }
   ],
   "source": [
    "import pandas\n",
    "ovh_s = [15923.404249668121-15866.257673740387]\n",
    "ovh_e = [37492.70757961273-37458.40424966812]\n",
    "ovh = [21626.449905872345 - 21291.0 ]\n",
    "unit = [21291]\n",
    "index = ['adrp']\n",
    "df = pd.DataFrame({'ovh_s': ovh_s,\n",
    "                   'ovh_e': ovh_e,\n",
    "                  'ovh': ovh,\n",
    "                  'unit': unit}, index=index)\n",
    "ax = df.plot.bar(rot=0)\n",
    "df"
   ]
  },
  {
   "cell_type": "markdown",
   "metadata": {},
   "source": [
    "## Walltime utilization"
   ]
  },
  {
   "cell_type": "code",
   "execution_count": 10,
   "metadata": {},
   "outputs": [
    {
     "data": {
      "text/plain": [
       "'98.4244520877366 %'"
      ]
     },
     "execution_count": 10,
     "metadata": {},
     "output_type": "execute_result"
    }
   ],
   "source": [
    "\"{} %\".format((21291- 335.449906)/ 21291 * 100)"
   ]
  }
 ],
 "metadata": {
  "kernelspec": {
   "display_name": "Python 3",
   "language": "python",
   "name": "python3"
  },
  "language_info": {
   "codemirror_mode": {
    "name": "ipython",
    "version": 3
   },
   "file_extension": ".py",
   "mimetype": "text/x-python",
   "name": "python",
   "nbconvert_exporter": "python",
   "pygments_lexer": "ipython3",
   "version": "3.6.10"
  }
 },
 "nbformat": 4,
 "nbformat_minor": 2
}
