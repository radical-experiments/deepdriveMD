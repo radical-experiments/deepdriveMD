{
 "cells": [
  {
   "cell_type": "markdown",
   "metadata": {},
   "source": [
    "# DeepDriveMD with ADRP"
   ]
  },
  {
   "cell_type": "markdown",
   "metadata": {},
   "source": [
    "## Configuration\n",
    "\n",
    "- Node count: 10 nodes on Summit, 60 GPUs\n",
    "- Iteration count: 10\n",
    "- contact matrix size: [166,166,1] for adrp\n",
    "- Simulation length: 5ns for the first and then 1ns\n",
    "- Retraining interval: every 5th iteration i.e. iter1 and iter6 out of 10 iterations\n",
    "- Walltime: 9+ hours\n"
   ]
  },
  {
   "cell_type": "code",
   "execution_count": 2,
   "metadata": {},
   "outputs": [],
   "source": [
    "import pandas as pd"
   ]
  },
  {
   "cell_type": "markdown",
   "metadata": {},
   "source": [
    "## Raw data (collected manually)"
   ]
  },
  {
   "cell_type": "code",
   "execution_count": 35,
   "metadata": {},
   "outputs": [
    {
     "data": {
      "text/plain": [
       "{'md': [1913, 423, 427, 425, 427, 429, 424, 424, 420, 427],\n",
       " 'hdf5': [15, 0, 0, 0, 0, 73, 0, 0, 0, 0],\n",
       " 'cvae': [1177, 0, 0, 0, 0, 2321, 0, 0, 0, 0],\n",
       " 'infer': [4693, 1274, 1153, 1344, 1423, 4623, 2003, 2328, 2345, 2258]}"
      ]
     },
     "execution_count": 35,
     "metadata": {},
     "output_type": "execute_result"
    }
   ],
   "source": [
    "res={'md': [1913, 423, 427, 425, 427, 429, 424, 424, 420, 427],\n",
    "     'hdf5': [15, 0, 0, 0, 0, 73, 0, 0, 0, 0], \n",
    "     'cvae': [1177, 0, 0, 0, 0, 2321, 0, 0, 0, 0], \n",
    "     'infer': [4693, 1274, 1153, 1344, 1423, 4623, 2003, 2328, 2345, 2258]}\n",
    "res"
   ]
  },
  {
   "cell_type": "markdown",
   "metadata": {},
   "source": [
    "## Accumulated stage durations"
   ]
  },
  {
   "cell_type": "code",
   "execution_count": 34,
   "metadata": {},
   "outputs": [
    {
     "data": {
      "text/plain": [
       "Text(0.5, 0, 'ADRP/9hrs/60GPUs')"
      ]
     },
     "execution_count": 34,
     "metadata": {},
     "output_type": "execute_result"
    },
    {
     "data": {
      "image/png": "[encoded data removed]",
      "text/plain": [
       "<Figure size 432x288 with 1 Axes>"
      ]
     },
     "metadata": {
      "needs_background": "light"
     },
     "output_type": "display_data"
    }
   ],
   "source": [
    "df = pd.DataFrame({\"OpenMM\": sum(res['md'])/3600,\n",
    "                  \"HDF5\":sum(res['hdf5'])/3600,\n",
    "                  \"CVAE\":sum(res['cvae'])/3600,\n",
    "                  \"INFER\":sum(res['infer'])/3600},index=[''])\n",
    "ax=df.plot.bar(rot=0)\n",
    "ax.set_ylabel('Duration in Hour')\n",
    "ax.set_xlabel('ADRP/9hrs/60GPUs')"
   ]
  },
  {
   "cell_type": "markdown",
   "metadata": {},
   "source": [
    "## Stage duration on each iteration"
   ]
  },
  {
   "cell_type": "code",
   "execution_count": 6,
   "metadata": {},
   "outputs": [],
   "source": [
    "index = [ \"iter-%s\" % x for x in range(1,11) ]"
   ]
  },
  {
   "cell_type": "code",
   "execution_count": 29,
   "metadata": {},
   "outputs": [
    {
     "data": {
      "text/plain": [
       "Text(0, 0.5, 'Duration in Minute')"
      ]
     },
     "execution_count": 29,
     "metadata": {},
     "output_type": "execute_result"
    },
    {
     "data": {
      "image/png": "[encoded data removed]",
      "text/plain": [
       "<Figure size 1080x360 with 1 Axes>"
      ]
     },
     "metadata": {
      "needs_background": "light"
     },
     "output_type": "display_data"
    }
   ],
   "source": [
    "df = pd.DataFrame({\"OpenMM\": [ x / 60 for x in res['md']],\n",
    "                  \"HDF5\":[ x / 60 for x in res['hdf5']],\n",
    "                  \"CVAE\":[ x / 60 for x in res['cvae']],\n",
    "                  \"INFER\":[ x / 60 for x in res['infer']]}, index=index)\n",
    "ax=df.plot.bar(rot=0,figsize=(15,5))\n",
    "ax.set_xlabel(\"System: ADRP / Total runtime: 9 Hours / Total GPUs: 60\")\n",
    "ax.set_ylabel('Duration in Minute')"
   ]
  },
  {
   "cell_type": "markdown",
   "metadata": {},
   "source": [
    "## TTX in seconds"
   ]
  },
  {
   "cell_type": "code",
   "execution_count": 22,
   "metadata": {},
   "outputs": [
    {
     "data": {
      "text/plain": [
       "32769"
      ]
     },
     "execution_count": 22,
     "metadata": {},
     "output_type": "execute_result"
    }
   ],
   "source": [
    "ttx=0\n",
    "for x in res:\n",
    "    ttx += sum(res[x])\n",
    "ttx"
   ]
  }
 ],
 "metadata": {
  "kernelspec": {
   "display_name": "Python 3",
   "language": "python",
   "name": "python3"
  },
  "language_info": {
   "codemirror_mode": {
    "name": "ipython",
    "version": 3
   },
   "file_extension": ".py",
   "mimetype": "text/x-python",
   "name": "python",
   "nbconvert_exporter": "python",
   "pygments_lexer": "ipython3",
   "version": "3.6.10"
  }
 },
 "nbformat": 4,
 "nbformat_minor": 2
}
