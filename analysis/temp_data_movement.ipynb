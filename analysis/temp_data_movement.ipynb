{
 "cells": [
  {
   "cell_type": "code",
   "execution_count": 1,
   "metadata": {},
   "outputs": [],
   "source": [
    "import pandas as pd\n",
    "import matplotlib.pyplot as plt"
   ]
  },
  {
   "cell_type": "code",
   "execution_count": 2,
   "metadata": {},
   "outputs": [],
   "source": [
    "ns=200\n",
    "gb_conv = 10**9\n",
    "residues = [x for x in range(20,300,20)]\n",
    "element_size = 8 # bytes\n",
    "md_counts = [60,120,240]\n",
    "data = []\n",
    "for i in residues:\n",
    "    tmp = []\n",
    "    for j in md_counts:\n",
    "        tmp.append(ns * j * i * i * element_size / gb_conv)\n",
    "    data.append(tmp)"
   ]
  },
  {
   "cell_type": "code",
   "execution_count": 3,
   "metadata": {},
   "outputs": [
    {
     "data": {
      "text/plain": [
       "[[0.0384, 0.0768, 0.1536],\n",
       " [0.1536, 0.3072, 0.6144],\n",
       " [0.3456, 0.6912, 1.3824],\n",
       " [0.6144, 1.2288, 2.4576],\n",
       " [0.96, 1.92, 3.84],\n",
       " [1.3824, 2.7648, 5.5296],\n",
       " [1.8816, 3.7632, 7.5264],\n",
       " [2.4576, 4.9152, 9.8304],\n",
       " [3.1104, 6.2208, 12.4416],\n",
       " [3.84, 7.68, 15.36],\n",
       " [4.6464, 9.2928, 18.5856],\n",
       " [5.5296, 11.0592, 22.1184],\n",
       " [6.4896, 12.9792, 25.9584],\n",
       " [7.5264, 15.0528, 30.1056]]"
      ]
     },
     "execution_count": 3,
     "metadata": {},
     "output_type": "execute_result"
    }
   ],
   "source": [
    "data"
   ]
  },
  {
   "cell_type": "markdown",
   "metadata": {},
   "source": [
    "Reference\n",
    "- fs-peptide: 23 residues\n",
    "- orf7a: 66 residues\n",
    "- adrp: 168 residues"
   ]
  },
  {
   "cell_type": "code",
   "execution_count": 4,
   "metadata": {},
   "outputs": [
    {
     "data": {
      "text/plain": [
       "Text(0, 0.5, 'Data size (GB)')"
      ]
     },
     "execution_count": 4,
     "metadata": {},
     "output_type": "execute_result"
    },
    {
     "data": {
      "image/png": "[encoded data removed]",
      "text/plain": [
       "<Figure size 1080x360 with 1 Axes>"
      ]
     },
     "metadata": {
      "needs_background": "light"
     },
     "output_type": "display_data"
    }
   ],
   "source": [
    "df2 = pd.DataFrame(data, \n",
    "                   columns=md_counts,\n",
    "                   index=residues)\n",
    "\n",
    "ax=df2.plot.bar(figsize=(15,5))\n",
    "plt.axhline(y=16, color='r', linestyle='-')\n",
    "ax.set_xlabel('Residues')\n",
    "ax.set_ylabel('Data size (GB)')"
   ]
  }
 ],
 "metadata": {
  "kernelspec": {
   "display_name": "Python 3",
   "language": "python",
   "name": "python3"
  },
  "language_info": {
   "codemirror_mode": {
    "name": "ipython",
    "version": 3
   },
   "file_extension": ".py",
   "mimetype": "text/x-python",
   "name": "python",
   "nbconvert_exporter": "python",
   "pygments_lexer": "ipython3",
   "version": "3.6.10"
  }
 },
 "nbformat": 4,
 "nbformat_minor": 2
}
