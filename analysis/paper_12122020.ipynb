{
 "cells": [
  {
   "cell_type": "code",
   "execution_count": 1,
   "metadata": {
    "ExecuteTime": {
     "end_time": "2020-12-22T18:48:06.455100Z",
     "start_time": "2020-12-22T18:48:05.202747Z"
    }
   },
   "outputs": [
    {
     "data": {
      "text/html": [
       "<style>.container { width:100% !important; }</style>"
      ],
      "text/plain": [
       "<IPython.core.display.HTML object>"
      ]
     },
     "metadata": {},
     "output_type": "display_data"
    }
   ],
   "source": [
    "%matplotlib inline\n",
    "%run 'bin/notebook_utils.py'\n",
    "%run 'bin/plot_utilization.py'\n",
    "import matplotlib.ticker as mticker"
   ]
  },
  {
   "cell_type": "code",
   "execution_count": 2,
   "metadata": {
    "ExecuteTime": {
     "end_time": "2020-12-22T18:48:06.923820Z",
     "start_time": "2020-12-22T18:48:06.456968Z"
    }
   },
   "outputs": [
    {
     "name": "stdout",
     "output_type": "stream",
     "text": [
      "\r\n",
      "  python               : 3.8.6\r\n",
      "  pythonpath           : \r\n",
      "  virtualenv           : /Users/mturilli/.virtualenvs/analytics-devel\r\n",
      "\r\n",
      "  radical.analytics    : 1.5.0-v1.5.0-5-g2ad4481@feature-ru-option\r\n",
      "  radical.entk         : 1.5.1\r\n",
      "  radical.gtod         : 1.5.0\r\n",
      "  radical.pilot        : 1.5.8-v1.5.8-84-g0a2304e29@fix-issue_ra_117\r\n",
      "  radical.saga         : 1.5.2\r\n",
      "  radical.utils        : 1.5.8\r\n",
      "\r\n"
     ]
    }
   ],
   "source": [
    "! radical-stack"
   ]
  },
  {
   "cell_type": "code",
   "execution_count": 3,
   "metadata": {
    "ExecuteTime": {
     "end_time": "2020-12-22T18:48:06.932593Z",
     "start_time": "2020-12-22T18:48:06.927671Z"
    }
   },
   "outputs": [],
   "source": [
    "suds = [\n",
    "        're.session.login2.hrlee.018599.0001',      # PLC  20   nodes  Summit\n",
    "        're.session.login2.hrlee.018602.0014',      # PLC  160  nodes  Summit\n",
    "        're.session.login5.hrlee.018606.0000',      # PLC  20   nodes  Summit\n",
    "        're.session.login1.hrlee.018610.0002',      # PLC  20   nodes  Summit\n",
    "        're.session.login1.hrlee.018610.0003',      # PLC  20   nodes  Summit\n",
    "        're.session.login1.hrlee.018610.0005',      # PLC  20   nodes  Summit\n",
    "        're.session.login2.hrlee.018610.0008',      # PLC  160  nodes  Summit\n",
    "        're.session.login2.hrlee.018610.0007',      # PLC  160  nodes  Summit\n",
    "        're.session.login2.iyakushin.018593.0000',  # PF   20   nodes  Summit\n",
    "        're.session.login2.iyakushin.018598.0002',  # PF   92   nodes  Summit\n",
    "        're.session.lassen708.lee1078.018606.0011', # PLC  160  nodes  Lassen\n",
    "       ] \n",
    "sdir = '../data/raw/paper_12122020/'\n",
    "sids = [sdir+s for s in suds]"
   ]
  },
  {
   "cell_type": "code",
   "execution_count": 4,
   "metadata": {
    "ExecuteTime": {
     "end_time": "2020-12-22T18:49:05.562881Z",
     "start_time": "2020-12-22T18:48:06.935425Z"
    }
   },
   "outputs": [],
   "source": [
    "%%capture capt\n",
    "\n",
    "ss = {}\n",
    "for sid in suds:\n",
    "    sp = sdir+sid\n",
    "    ss[sid] = {'s': ra.Session(sp, 'radical.pilot')}\n",
    "    ss[sid].update({'p': ss[sid]['s'].filter(etype='pilot'   , inplace=False),\n",
    "                    'u': ss[sid]['s'].filter(etype='unit'    , inplace=False),\n",
    "                    't': ss[sid]['s'].filter(etype='task'    , inplace=False),\n",
    "                    'w': ss[sid]['s'].filter(etype='pipeline', inplace=False)})\n"
   ]
  },
  {
   "cell_type": "code",
   "execution_count": 5,
   "metadata": {
    "ExecuteTime": {
     "end_time": "2020-12-22T18:49:05.636528Z",
     "start_time": "2020-12-22T18:49:05.564952Z"
    }
   },
   "outputs": [],
   "source": [
    "for sid in suds:\n",
    "    ss[sid].update({'sid'     : ss[sid]['s'].uid,\n",
    "                    'pid'     : ss[sid]['p'].list('uid'),\n",
    "                    'npilot'  : len(ss[sid]['p'].get()),\n",
    "                    'lm'      : ss[sid]['s'].get(etype='pilot')[0].cfg['agent_launch_method'],\n",
    "                    'npact'   : len(ss[sid]['p'].timestamps(state='PMGR_ACTIVE')),\n",
    "                    'nunit'   : len(ss[sid]['u'].get()),\n",
    "                    'nudone'  : len(ss[sid]['u'].timestamps(state='DONE')),\n",
    "                    'nufail'  : len(ss[sid]['u'].timestamps(state='FAILED')),\n",
    "                    'hostid'  : ss[sid]['s'].get(etype='pilot')[0].cfg['hostid'],\n",
    "                    'gpu_node': ss[sid]['s'].get(etype='pilot')[0].cfg['gpus_per_node']})\n",
    "    ss[sid].update({'pres'    : ss[sid]['p'].get(uid=ss[sid]['pid'])[0].description['resource'],\n",
    "                    'ncores'  : ss[sid]['p'].get(uid=ss[sid]['pid'])[0].description['cores'],\n",
    "                    'ngpus'   : ss[sid]['p'].get(uid=ss[sid]['pid'])[0].description['gpus']})\n",
    "    ss[sid].update({'nnodes'  : int(ss[sid]['ngpus']/ss[sid]['gpu_node'])})"
   ]
  },
  {
   "cell_type": "code",
   "execution_count": 6,
   "metadata": {
    "ExecuteTime": {
     "end_time": "2020-12-22T18:49:05.662599Z",
     "start_time": "2020-12-22T18:49:05.638697Z"
    }
   },
   "outputs": [
    {
     "data": {
      "text/html": [
       "<div>\n",
       "<style scoped>\n",
       "    .dataframe tbody tr th:only-of-type {\n",
       "        vertical-align: middle;\n",
       "    }\n",
       "\n",
       "    .dataframe tbody tr th {\n",
       "        vertical-align: top;\n",
       "    }\n",
       "\n",
       "    .dataframe thead th {\n",
       "        text-align: right;\n",
       "    }\n",
       "</style>\n",
       "<table border=\"1\" class=\"dataframe\">\n",
       "  <thead>\n",
       "    <tr style=\"text-align: right;\">\n",
       "      <th></th>\n",
       "      <th>session</th>\n",
       "      <th>resource</th>\n",
       "      <th>pilot_lm</th>\n",
       "      <th>pilots</th>\n",
       "      <th>ps_active</th>\n",
       "      <th>cores</th>\n",
       "      <th>gpus</th>\n",
       "      <th>nodes</th>\n",
       "      <th>tasks</th>\n",
       "      <th>ts_done</th>\n",
       "      <th>ts_failed</th>\n",
       "    </tr>\n",
       "  </thead>\n",
       "  <tbody>\n",
       "    <tr>\n",
       "      <th>0</th>\n",
       "      <td>re.session.login2.hrlee.018599.0001</td>\n",
       "      <td>ornl.summit</td>\n",
       "      <td>JSRUN</td>\n",
       "      <td>1</td>\n",
       "      <td>1</td>\n",
       "      <td>840.0</td>\n",
       "      <td>120</td>\n",
       "      <td>20</td>\n",
       "      <td>250</td>\n",
       "      <td>236</td>\n",
       "      <td>0</td>\n",
       "    </tr>\n",
       "    <tr>\n",
       "      <th>1</th>\n",
       "      <td>re.session.login2.hrlee.018602.0014</td>\n",
       "      <td>ornl.summit</td>\n",
       "      <td>JSRUN</td>\n",
       "      <td>1</td>\n",
       "      <td>1</td>\n",
       "      <td>6720.0</td>\n",
       "      <td>960</td>\n",
       "      <td>160</td>\n",
       "      <td>2000</td>\n",
       "      <td>1984</td>\n",
       "      <td>7</td>\n",
       "    </tr>\n",
       "    <tr>\n",
       "      <th>2</th>\n",
       "      <td>re.session.login5.hrlee.018606.0000</td>\n",
       "      <td>ornl.summit</td>\n",
       "      <td>JSRUN</td>\n",
       "      <td>1</td>\n",
       "      <td>1</td>\n",
       "      <td>840.0</td>\n",
       "      <td>120</td>\n",
       "      <td>20</td>\n",
       "      <td>250</td>\n",
       "      <td>236</td>\n",
       "      <td>0</td>\n",
       "    </tr>\n",
       "    <tr>\n",
       "      <th>3</th>\n",
       "      <td>re.session.login1.hrlee.018610.0002</td>\n",
       "      <td>ornl.summit</td>\n",
       "      <td>JSRUN</td>\n",
       "      <td>1</td>\n",
       "      <td>1</td>\n",
       "      <td>840.0</td>\n",
       "      <td>120</td>\n",
       "      <td>20</td>\n",
       "      <td>250</td>\n",
       "      <td>234</td>\n",
       "      <td>0</td>\n",
       "    </tr>\n",
       "    <tr>\n",
       "      <th>4</th>\n",
       "      <td>re.session.login1.hrlee.018610.0003</td>\n",
       "      <td>ornl.summit</td>\n",
       "      <td>JSRUN</td>\n",
       "      <td>1</td>\n",
       "      <td>1</td>\n",
       "      <td>840.0</td>\n",
       "      <td>120</td>\n",
       "      <td>20</td>\n",
       "      <td>250</td>\n",
       "      <td>239</td>\n",
       "      <td>0</td>\n",
       "    </tr>\n",
       "    <tr>\n",
       "      <th>5</th>\n",
       "      <td>re.session.login1.hrlee.018610.0005</td>\n",
       "      <td>ornl.summit</td>\n",
       "      <td>JSRUN</td>\n",
       "      <td>1</td>\n",
       "      <td>1</td>\n",
       "      <td>840.0</td>\n",
       "      <td>120</td>\n",
       "      <td>20</td>\n",
       "      <td>250</td>\n",
       "      <td>237</td>\n",
       "      <td>0</td>\n",
       "    </tr>\n",
       "    <tr>\n",
       "      <th>6</th>\n",
       "      <td>re.session.login2.hrlee.018610.0008</td>\n",
       "      <td>ornl.summit</td>\n",
       "      <td>JSRUN</td>\n",
       "      <td>1</td>\n",
       "      <td>1</td>\n",
       "      <td>6720.0</td>\n",
       "      <td>960</td>\n",
       "      <td>160</td>\n",
       "      <td>2000</td>\n",
       "      <td>1985</td>\n",
       "      <td>4</td>\n",
       "    </tr>\n",
       "    <tr>\n",
       "      <th>7</th>\n",
       "      <td>re.session.login2.hrlee.018610.0007</td>\n",
       "      <td>ornl.summit</td>\n",
       "      <td>JSRUN</td>\n",
       "      <td>1</td>\n",
       "      <td>1</td>\n",
       "      <td>6720.0</td>\n",
       "      <td>960</td>\n",
       "      <td>160</td>\n",
       "      <td>2000</td>\n",
       "      <td>1980</td>\n",
       "      <td>8</td>\n",
       "    </tr>\n",
       "    <tr>\n",
       "      <th>8</th>\n",
       "      <td>re.session.login2.iyakushin.018593.0000</td>\n",
       "      <td>ornl.summit</td>\n",
       "      <td>JSRUN</td>\n",
       "      <td>1</td>\n",
       "      <td>1</td>\n",
       "      <td>143.0</td>\n",
       "      <td>131</td>\n",
       "      <td>21</td>\n",
       "      <td>141</td>\n",
       "      <td>0</td>\n",
       "      <td>0</td>\n",
       "    </tr>\n",
       "    <tr>\n",
       "      <th>9</th>\n",
       "      <td>re.session.login2.iyakushin.018598.0002</td>\n",
       "      <td>ornl.summit</td>\n",
       "      <td>JSRUN</td>\n",
       "      <td>1</td>\n",
       "      <td>1</td>\n",
       "      <td>143.0</td>\n",
       "      <td>552</td>\n",
       "      <td>92</td>\n",
       "      <td>154</td>\n",
       "      <td>140</td>\n",
       "      <td>0</td>\n",
       "    </tr>\n",
       "    <tr>\n",
       "      <th>10</th>\n",
       "      <td>re.session.lassen708.lee1078.018606.0011</td>\n",
       "      <td>llnl.lassen</td>\n",
       "      <td>JSRUN</td>\n",
       "      <td>1</td>\n",
       "      <td>1</td>\n",
       "      <td>10080.0</td>\n",
       "      <td>960</td>\n",
       "      <td>240</td>\n",
       "      <td>2000</td>\n",
       "      <td>1982</td>\n",
       "      <td>0</td>\n",
       "    </tr>\n",
       "  </tbody>\n",
       "</table>\n",
       "</div>"
      ],
      "text/plain": [
       "                                     session     resource pilot_lm  pilots  ps_active    cores  gpus  nodes  tasks  ts_done  ts_failed\n",
       "0        re.session.login2.hrlee.018599.0001  ornl.summit    JSRUN       1          1    840.0   120     20    250      236          0\n",
       "1        re.session.login2.hrlee.018602.0014  ornl.summit    JSRUN       1          1   6720.0   960    160   2000     1984          7\n",
       "2        re.session.login5.hrlee.018606.0000  ornl.summit    JSRUN       1          1    840.0   120     20    250      236          0\n",
       "3        re.session.login1.hrlee.018610.0002  ornl.summit    JSRUN       1          1    840.0   120     20    250      234          0\n",
       "4        re.session.login1.hrlee.018610.0003  ornl.summit    JSRUN       1          1    840.0   120     20    250      239          0\n",
       "5        re.session.login1.hrlee.018610.0005  ornl.summit    JSRUN       1          1    840.0   120     20    250      237          0\n",
       "6        re.session.login2.hrlee.018610.0008  ornl.summit    JSRUN       1          1   6720.0   960    160   2000     1985          4\n",
       "7        re.session.login2.hrlee.018610.0007  ornl.summit    JSRUN       1          1   6720.0   960    160   2000     1980          8\n",
       "8    re.session.login2.iyakushin.018593.0000  ornl.summit    JSRUN       1          1    143.0   131     21    141        0          0\n",
       "9    re.session.login2.iyakushin.018598.0002  ornl.summit    JSRUN       1          1    143.0   552     92    154      140          0\n",
       "10  re.session.lassen708.lee1078.018606.0011  llnl.lassen    JSRUN       1          1  10080.0   960    240   2000     1982          0"
      ]
     },
     "execution_count": 6,
     "metadata": {},
     "output_type": "execute_result"
    }
   ],
   "source": [
    "info = []\n",
    "for sid in suds:\n",
    "    info.append({'session'  : sid,\n",
    "                 'resource' : ss[sid]['pres'],\n",
    "                 'pilot_lm' : ss[sid]['lm'], \n",
    "                 'pilots'   : ss[sid]['npilot'],\n",
    "                 'ps_active': ss[sid]['npact'],\n",
    "                 'cores'    : ss[sid]['ncores']/4, \n",
    "                 'gpus'     : ss[sid]['ngpus'], \n",
    "                 'nodes'    : ss[sid]['nnodes'], \n",
    "                 'tasks'    : ss[sid]['nunit'], \n",
    "                 'ts_done'  : ss[sid]['nudone'],  \n",
    "                 'ts_failed': ss[sid]['nufail']})\n",
    "\n",
    "df_info = pd.DataFrame(info) \n",
    "df_info"
   ]
  },
  {
   "cell_type": "code",
   "execution_count": 7,
   "metadata": {
    "ExecuteTime": {
     "end_time": "2020-12-22T18:49:22.086613Z",
     "start_time": "2020-12-22T18:49:05.664658Z"
    }
   },
   "outputs": [],
   "source": [
    "%%capture capt\n",
    "\n",
    "u_durations = {}\n",
    "\n",
    "for sid in suds:\n",
    "    u_durations[sid] = {}\n",
    "\n",
    "for sid in suds:\n",
    "    for uid in ss[sid]['u'].list('uid'):\n",
    "        unit = ss[sid]['u'].get(etype='unit', uid=uid)[0]\n",
    "        durations = {}\n",
    "        for k,v in rp.utils.UNIT_DURATIONS_DEBUG.items():\n",
    "            try:\n",
    "                durations[k] = unit.duration(event=v)\n",
    "            except:\n",
    "                print(\"WARNING: %s: %s: event %s missing\" % (sid, uid, v))\n",
    "                durations[k] = 0\n",
    "        u_durations[sid].update({uid: durations})"
   ]
  },
  {
   "cell_type": "code",
   "execution_count": 8,
   "metadata": {
    "ExecuteTime": {
     "end_time": "2020-12-22T18:49:22.561827Z",
     "start_time": "2020-12-22T18:49:22.090535Z"
    }
   },
   "outputs": [],
   "source": [
    "%%capture capt\n",
    "\n",
    "p_durations = {}\n",
    "\n",
    "for sid in suds:\n",
    "    p_durations[sid] = {}\n",
    "\n",
    "for sid in suds:\n",
    "    for pid in ss[sid]['p'].list('uid'):\n",
    "        pilot = ss[sid]['p'].get(etype='pilot', uid=pid)[0]\n",
    "        durations = {}\n",
    "        for k,v in rp.utils.PILOT_DURATIONS_DEBUG.items():\n",
    "            try:\n",
    "                durations[k] = pilot.duration(event=v)\n",
    "            except:\n",
    "                print(\"WARNING: %s: %s: event %s missing\" % (sid, pid, v))\n",
    "                durations[k] = 0\n",
    "        p_durations[sid].update({pid: durations})"
   ]
  },
  {
   "cell_type": "code",
   "execution_count": 9,
   "metadata": {
    "ExecuteTime": {
     "end_time": "2020-12-22T18:49:23.127436Z",
     "start_time": "2020-12-22T18:49:22.564285Z"
    }
   },
   "outputs": [],
   "source": [
    "# With RP < 1.5.2, on Summit, bootstrap_0_stop, cu_pre_start|stop are \n",
    "# not recorded. We cannot use the default durations.\n",
    "\n",
    "for sid in suds:\n",
    "    w  = ss[sid]['w']\n",
    "    u  = ss[sid]['u']\n",
    "    t  = ss[sid]['t']\n",
    "    p  = ss[sid]['p']\n",
    "    p0 = p.get(uid=ss[sid]['pid'])[0]\n",
    "\n",
    "    ss[sid].update({\n",
    "      'ttx_p': p0.duration(event=[ {ru.EVENT: 'bootstrap_0_start', ru.STATE: None   },\n",
    "                                 # {ru.EVENT: 'bootstrap_0_stop', ru.STATE: None    }]),\n",
    "                                  [{ru.EVENT: 'state'        , ru.STATE: rp.DONE    },\n",
    "                                   {ru.EVENT: 'state'        , ru.STATE: rp.FAILED  },\n",
    "                                   {ru.EVENT: 'state'        , ru.STATE: rp.CANCELED}]]),\n",
    "      'ttx_u': u.duration( event=[ {ru.EVENT: 'cu_exec_start', ru.STATE: None       },      \n",
    "                                   {ru.EVENT: 'cu_exec_stop' , ru.STATE: None       } ])})\n",
    "    \n",
    "    ss[sid].update({'ovh_rtc': ss[sid]['ttx_p'] - ss[sid]['ttx_u']})"
   ]
  },
  {
   "cell_type": "code",
   "execution_count": 10,
   "metadata": {
    "ExecuteTime": {
     "end_time": "2020-12-22T18:49:23.132597Z",
     "start_time": "2020-12-22T18:49:23.129478Z"
    }
   },
   "outputs": [],
   "source": [
    "# skip = ['re.session.login5.hrlee.018606.0000',\n",
    "#         're.session.login1.hrlee.018610.0002',\n",
    "#         're.session.login1.hrlee.018610.0003',\n",
    "#         're.session.login1.hrlee.018610.0005',\n",
    "#         're.session.login2.hrlee.018610.0008',\n",
    "#         're.session.login2.hrlee.018610.0007',\n",
    "#         're.session.login2.iyakushin.018593.0000',  # PF 20 nodes\n",
    "#         're.session.login2.iyakushin.018598.0002']  # PF 92 nodes\n",
    "# nsids = len(suds) - len(skip)\n",
    "\n",
    "# fwidth = 6*nsids\n",
    "# fhight = 4\n",
    "# fig, axarr = plt.subplots(1, nsids, sharey=True, figsize=(fwidth, fhight))\n",
    "\n",
    "# i = 0\n",
    "# j = 'a'\n",
    "# for sid in suds:\n",
    "\n",
    "#     if sid in skip:\n",
    "#         continue\n",
    "\n",
    "#     if len(suds) > 1:\n",
    "#         ax = axarr[i]\n",
    "#     else:\n",
    "#         ax = axarr\n",
    "    \n",
    "#     ax.title.set_text('%s/%s Tasks/Nodes' % (ss[sid]['nunit'], int(ss[sid]['nnodes'])))\n",
    "\n",
    "#     ax.bar(x = 'OVH', height = ss[sid]['ovh_rtc'], color = tableau20[1])\n",
    "#     ax.bar(x = 'TTX', height = ss[sid]['ttx_u']  , color = tableau20[3])\n",
    "\n",
    "#     ax.set_xlabel('(%s)' % j, labelpad=45)\n",
    "\n",
    "#     i = i+1\n",
    "#     j = chr(ord(j) + 1)\n",
    "\n",
    "# fig.text( 0.01,  0.5 , 'Time (s)', va='center', rotation='vertical', fontsize=24)\n",
    "# fig.text( 0.5 , -0.05, 'Metric'  , ha='center', fontsize=24)\n",
    "# fig.legend(['RADICAL Cybertools overhead (OVH)', 'Workflow time to completion (TTX)'], loc='upper center', \n",
    "#            bbox_to_anchor=(0.52, 1.35), fontsize=24, ncol=1)\n",
    "    \n",
    "# # plt.savefig('figures/paper_12122020_ovh_ttx.pdf', dpi=300, bbox_inches='tight')\n",
    "# # plt.savefig('figures/paper_12122020_ovh_ttx.png', dpi=300, bbox_inches='tight')"
   ]
  },
  {
   "cell_type": "markdown",
   "metadata": {},
   "source": [
    "# Overheads Igor's runs on Summit - Experiment 2"
   ]
  },
  {
   "cell_type": "code",
   "execution_count": 11,
   "metadata": {
    "ExecuteTime": {
     "end_time": "2020-12-22T18:49:23.858922Z",
     "start_time": "2020-12-22T18:49:23.134827Z"
    }
   },
   "outputs": [
    {
     "data": {
      "text/plain": [
       "<matplotlib.legend.Legend at 0x1ada5e190>"
      ]
     },
     "execution_count": 11,
     "metadata": {},
     "output_type": "execute_result"
    },
    {
     "data": {
      "image/png": "[encoded data removed]",
      "text/plain": [
       "<Figure size 864x288 with 2 Axes>"
      ]
     },
     "metadata": {},
     "output_type": "display_data"
    }
   ],
   "source": [
    "skip = [\n",
    "        're.session.login2.hrlee.018599.0001', # PLC 20 nodes\n",
    "        're.session.login2.hrlee.018602.0014', # PLC 160 nodes\n",
    "        're.session.login5.hrlee.018606.0000',\n",
    "        're.session.login1.hrlee.018610.0002',\n",
    "        're.session.login1.hrlee.018610.0003',\n",
    "        're.session.login1.hrlee.018610.0005',\n",
    "        're.session.login2.hrlee.018610.0008',\n",
    "        're.session.login2.hrlee.018610.0007',\n",
    "        're.session.lassen708.lee1078.018606.0011' # PF 92 nodes\n",
    "       ]  \n",
    "nsids = len(suds) - len(skip)\n",
    "\n",
    "fwidth = 6*nsids\n",
    "fhight = 4\n",
    "fig, axarr = plt.subplots(1, nsids, sharey=True, figsize=(fwidth, fhight))\n",
    "\n",
    "i = 0\n",
    "j = 'a'\n",
    "for sid in suds:\n",
    "\n",
    "    if sid in skip:\n",
    "        continue\n",
    "\n",
    "    if len(suds) > 1:\n",
    "        ax = axarr[i]\n",
    "    else:\n",
    "        ax = axarr\n",
    "    \n",
    "    ax.title.set_text('%s/%s Tasks/Nodes' % (ss[sid]['nunit'], int(ss[sid]['nnodes'])))\n",
    "\n",
    "    ax.bar(x = 'OVH', height = ss[sid]['ovh_rtc'], color = tableau20[1])\n",
    "    ax.bar(x = 'TTX', height = ss[sid]['ttx_u']  , color = tableau20[3])\n",
    "\n",
    "    ax.set_xlabel('(%s)' % j, labelpad=45)\n",
    "\n",
    "    i = i+1\n",
    "    j = chr(ord(j) + 1)\n",
    "\n",
    "fig.text( 0.01,  0.5 , 'Time (s)', va='center', rotation='vertical', fontsize=24)\n",
    "fig.text( 0.5 , -0.05, 'Metric'  , ha='center', fontsize=24)\n",
    "fig.legend(['RADICAL Cybertools overhead (OVH)', 'Workflow time to completion (TTX)'], loc='upper center', \n",
    "           bbox_to_anchor=(0.52, 1.35), fontsize=24, ncol=1)\n",
    "    \n",
    "# plt.savefig('figures/paper_12122020_ovh_ttx.pdf', dpi=300, bbox_inches='tight')\n",
    "# plt.savefig('figures/paper_12122020_ovh_ttx.png', dpi=300, bbox_inches='tight')"
   ]
  },
  {
   "cell_type": "markdown",
   "metadata": {},
   "source": [
    "# Overheads ExperimentS: PCL-1; PCL-3"
   ]
  },
  {
   "cell_type": "code",
   "execution_count": 12,
   "metadata": {
    "ExecuteTime": {
     "end_time": "2020-12-22T18:49:23.870718Z",
     "start_time": "2020-12-22T18:49:23.861258Z"
    }
   },
   "outputs": [],
   "source": [
    "skip = [\n",
    "        're.session.login2.iyakushin.018593.0000',  # PF   20   nodes  Summit\n",
    "        're.session.login2.iyakushin.018598.0002',  # PF   92   nodes  Summit\n",
    "        're.session.lassen708.lee1078.018606.0011'  # PLC  160  nodes  Lassen\n",
    "       ]\n",
    "nnodes = {}\n",
    "\n",
    "for s in ss:\n",
    "    if s in skip:\n",
    "        continue\n",
    "    \n",
    "    nns = int(ss[s]['nnodes'])\n",
    "    ovh_rtc = ss[s]['ovh_rtc']\n",
    "    ttx_u = ss[s]['ttx_u']\n",
    "    nt = ss[s]['nunit']\n",
    "    if nns not in nnodes.keys():\n",
    "        nnodes[nns] = {'OVH': [ovh_rtc]}\n",
    "        nnodes[nns]['TTX'] = [ttx_u]\n",
    "        nnodes[nns]['ntask'] = [nt]\n",
    "    else:\n",
    "        nnodes[nns]['OVH'].append(ovh_rtc)\n",
    "        nnodes[nns]['TTX'].append(ttx_u)\n",
    "        nnodes[nns]['ntask'].append(nt)\n",
    "\n",
    "for nns in nnodes.keys():\n",
    "    nnodes[nns]['OVH_mean'] = np.mean(nnodes[nns]['OVH'])\n",
    "    nnodes[nns]['TTX_mean'] = np.mean(nnodes[nns]['TTX'])\n",
    "    nnodes[nns]['ntask_mean'] = np.mean(nnodes[nns]['ntask'])\n",
    "    nnodes[nns]['OVH_std'] = np.std(nnodes[nns]['OVH'])\n",
    "    nnodes[nns]['TTX_std'] = np.std(nnodes[nns]['TTX'])"
   ]
  },
  {
   "cell_type": "code",
   "execution_count": 13,
   "metadata": {
    "ExecuteTime": {
     "end_time": "2020-12-22T18:49:25.809494Z",
     "start_time": "2020-12-22T18:49:23.873620Z"
    }
   },
   "outputs": [
    {
     "data": {
      "image/png": "[encoded data removed]",
      "text/plain": [
       "<Figure size 864x288 with 2 Axes>"
      ]
     },
     "metadata": {},
     "output_type": "display_data"
    }
   ],
   "source": [
    "fwidth = 6*len(nnodes.keys())\n",
    "fhight = 4\n",
    "fig, axarr = plt.subplots(1, len(nnodes.keys()), sharey=True, figsize=(fwidth, fhight))\n",
    "\n",
    "i = 0\n",
    "j = 'a'\n",
    "for nns in nnodes.keys():\n",
    "    if len(nnodes.keys()) > 1:\n",
    "        ax = axarr[i]\n",
    "    else:\n",
    "        ax = axarr\n",
    "    \n",
    "    ax.title.set_text('%s/%s Tasks/Nodes' % (int(nnodes[nns]['ntask_mean']), nns))\n",
    "\n",
    "    ax.bar(x = 'OVH', height = nnodes[nns]['OVH_mean'], yerr = nnodes[nns]['OVH_std'], color = tableau20[1])\n",
    "    ax.bar(x = 'TTX', height = nnodes[nns]['TTX_mean'], yerr = nnodes[nns]['TTX_std'], color = tableau20[3])\n",
    "\n",
    "    ax.set_xlabel('(%s)' % j, labelpad=45)\n",
    "\n",
    "    i = i+1\n",
    "    j = chr(ord(j) + 1)\n",
    "\n",
    "fig.text( 0.01,  0.5 , 'Time (s)', va='center', rotation='vertical', fontsize=24)\n",
    "fig.text( 0.5 , -0.05, 'Metric'  , ha='center', fontsize=24)\n",
    "fig.legend(['RADICAL Cybertools overhead (OVH)', 'Workflow time to completion (TTX)'], loc='upper center', \n",
    "           bbox_to_anchor=(0.52, 1.35), fontsize=24, ncol=1)\n",
    "\n",
    "plt.savefig('figures/paper_12122020_ovh_ttx.pdf', dpi=300, bbox_inches='tight')\n",
    "plt.savefig('figures/paper_12122020_ovh_ttx.png', dpi=300, bbox_inches='tight')"
   ]
  },
  {
   "cell_type": "markdown",
   "metadata": {},
   "source": [
    "# Overheads experiments PCL-4"
   ]
  },
  {
   "cell_type": "code",
   "execution_count": 14,
   "metadata": {
    "ExecuteTime": {
     "end_time": "2020-12-22T18:49:26.832598Z",
     "start_time": "2020-12-22T18:49:25.811732Z"
    }
   },
   "outputs": [
    {
     "data": {
      "image/png": "[encoded data removed]",
      "text/plain": [
       "<Figure size 432x288 with 1 Axes>"
      ]
     },
     "metadata": {},
     "output_type": "display_data"
    }
   ],
   "source": [
    "skip = [\n",
    "        're.session.login2.hrlee.018599.0001',      # PLC  20   nodes  Summit\n",
    "        're.session.login2.hrlee.018602.0014',      # PLC  160  nodes  Summit\n",
    "        're.session.login5.hrlee.018606.0000',      # PLC  20   nodes  Summit\n",
    "        're.session.login1.hrlee.018610.0002',      # PLC  20   nodes  Summit\n",
    "        're.session.login1.hrlee.018610.0003',      # PLC  20   nodes  Summit\n",
    "        're.session.login1.hrlee.018610.0005',      # PLC  20   nodes  Summit\n",
    "        're.session.login2.hrlee.018610.0008',      # PLC  160  nodes  Summit\n",
    "        're.session.login2.hrlee.018610.0007',      # PLC  160  nodes  Summit\n",
    "        're.session.login2.iyakushin.018593.0000',  # PF   20   nodes  Summit\n",
    "        're.session.login2.iyakushin.018598.0002',  # PF   92   nodes  Summit\n",
    "       ]\n",
    "nsids = len(suds) - len(skip)\n",
    "\n",
    "fwidth = 6*nsids\n",
    "fhight = 4\n",
    "fig, axarr = plt.subplots(1, nsids, sharey=True, figsize=(fwidth, fhight))\n",
    "\n",
    "i = 0\n",
    "j = 'a'\n",
    "for sid in suds:\n",
    "\n",
    "    if sid in skip:\n",
    "        continue\n",
    "\n",
    "    if nsids > 1:\n",
    "        ax = axarr[i]\n",
    "    else:\n",
    "        ax = axarr\n",
    "    \n",
    "    ax.title.set_text('%s/%s Tasks/Nodes' % (ss[sid]['nunit'], int(ss[sid]['nnodes'])))\n",
    "\n",
    "    ax.bar(x = 'OVH', height = ss[sid]['ovh_rtc'], color = tableau20[1])\n",
    "    ax.bar(x = 'TTX', height = ss[sid]['ttx_u']  , color = tableau20[3])\n",
    "\n",
    "    ax.set_xlabel('(%s)' % j, labelpad=45)\n",
    "\n",
    "    i = i+1\n",
    "    j = chr(ord(j) + 1)\n",
    "\n",
    "fig.text(-0.1 ,  0.5 , 'Time (s)', va='center', rotation='vertical', fontsize=24)\n",
    "fig.text( 0.5 , -0.05, 'Metric'  , ha='center', fontsize=24)\n",
    "fig.legend(['RADICAL Cybertools overhead (OVH)', 'Workflow time to completion (TTX)'], loc='upper center', \n",
    "           bbox_to_anchor=(0.52, 1.35), fontsize=24, ncol=1)\n",
    "    \n",
    "plt.savefig('figures/paper_12122020_ovh_ttx_lassen.pdf', dpi=300, bbox_inches='tight')\n",
    "plt.savefig('figures/paper_12122020_ovh_ttx_lassen.png', dpi=300, bbox_inches='tight')"
   ]
  },
  {
   "cell_type": "markdown",
   "metadata": {},
   "source": [
    "# Table PCL experiments overheads"
   ]
  },
  {
   "cell_type": "code",
   "execution_count": 15,
   "metadata": {
    "ExecuteTime": {
     "end_time": "2020-12-22T18:49:26.847249Z",
     "start_time": "2020-12-22T18:49:26.835124Z"
    }
   },
   "outputs": [
    {
     "data": {
      "text/html": [
       "<div>\n",
       "<style scoped>\n",
       "    .dataframe tbody tr th:only-of-type {\n",
       "        vertical-align: middle;\n",
       "    }\n",
       "\n",
       "    .dataframe tbody tr th {\n",
       "        vertical-align: top;\n",
       "    }\n",
       "\n",
       "    .dataframe thead th {\n",
       "        text-align: right;\n",
       "    }\n",
       "</style>\n",
       "<table border=\"1\" class=\"dataframe\">\n",
       "  <thead>\n",
       "    <tr style=\"text-align: right;\">\n",
       "      <th></th>\n",
       "      <th>Exp. ID</th>\n",
       "      <th>Mean TTX</th>\n",
       "      <th>Mean OVH</th>\n",
       "    </tr>\n",
       "  </thead>\n",
       "  <tbody>\n",
       "    <tr>\n",
       "      <th>0</th>\n",
       "      <td>PLC-1</td>\n",
       "      <td>1424.200000</td>\n",
       "      <td>334.219224</td>\n",
       "    </tr>\n",
       "    <tr>\n",
       "      <th>1</th>\n",
       "      <td>PLC-2</td>\n",
       "      <td>NaN</td>\n",
       "      <td>NaN</td>\n",
       "    </tr>\n",
       "    <tr>\n",
       "      <th>2</th>\n",
       "      <td>PLC-3</td>\n",
       "      <td>1518.333333</td>\n",
       "      <td>265.059289</td>\n",
       "    </tr>\n",
       "    <tr>\n",
       "      <th>3</th>\n",
       "      <td>PLC-4</td>\n",
       "      <td>7093.000000</td>\n",
       "      <td>135.343713</td>\n",
       "    </tr>\n",
       "    <tr>\n",
       "      <th>4</th>\n",
       "      <td>PLC-5</td>\n",
       "      <td>NaN</td>\n",
       "      <td>NaN</td>\n",
       "    </tr>\n",
       "    <tr>\n",
       "      <th>5</th>\n",
       "      <td>PLC-6</td>\n",
       "      <td>NaN</td>\n",
       "      <td>NaN</td>\n",
       "    </tr>\n",
       "    <tr>\n",
       "      <th>6</th>\n",
       "      <td>PLC-7</td>\n",
       "      <td>NaN</td>\n",
       "      <td>NaN</td>\n",
       "    </tr>\n",
       "  </tbody>\n",
       "</table>\n",
       "</div>"
      ],
      "text/plain": [
       "  Exp. ID     Mean TTX    Mean OVH\n",
       "0   PLC-1  1424.200000  334.219224\n",
       "1   PLC-2          NaN         NaN\n",
       "2   PLC-3  1518.333333  265.059289\n",
       "3   PLC-4  7093.000000  135.343713\n",
       "4   PLC-5          NaN         NaN\n",
       "5   PLC-6          NaN         NaN\n",
       "6   PLC-7          NaN         NaN"
      ]
     },
     "execution_count": 15,
     "metadata": {},
     "output_type": "execute_result"
    }
   ],
   "source": [
    "pcl_overheads = [\n",
    "    {'Exp. ID' : 'PLC-1',\n",
    "     'Mean TTX': nnodes[20]['TTX_mean'],\n",
    "     'Mean OVH': nnodes[20]['OVH_mean']},\n",
    "    {'Exp. ID' : 'PLC-2',\n",
    "     'Mean TTX': None,\n",
    "     'Mean OVH': None},\n",
    "    {'Exp. ID' : 'PLC-3',\n",
    "     'Mean TTX': nnodes[160]['TTX_mean'],\n",
    "     'Mean OVH': nnodes[160]['OVH_mean']},\n",
    "    {'Exp. ID' : 'PLC-4',\n",
    "     'Mean TTX': ss['re.session.lassen708.lee1078.018606.0011']['ttx_u'],\n",
    "     'Mean OVH': ss['re.session.lassen708.lee1078.018606.0011']['ovh_rtc']},\n",
    "    {'Exp. ID' : 'PLC-5',\n",
    "     'Mean TTX': None,\n",
    "     'Mean OVH': None},\n",
    "    {'Exp. ID' : 'PLC-6',\n",
    "     'Mean TTX': None,\n",
    "     'Mean OVH': None},\n",
    "    {'Exp. ID' : 'PLC-7',\n",
    "     'Mean TTX': None,\n",
    "     'Mean OVH': None}\n",
    "]\n",
    "\n",
    "df_pcl_overheads = pd.DataFrame(pcl_overheads) \n",
    "df_pcl_overheads"
   ]
  },
  {
   "cell_type": "code",
   "execution_count": 16,
   "metadata": {
    "ExecuteTime": {
     "end_time": "2020-12-22T18:49:26.852494Z",
     "start_time": "2020-12-22T18:49:26.849294Z"
    }
   },
   "outputs": [],
   "source": [
    "metrics_default = [\n",
    "\n",
    "        # pilot overheads (global)\n",
    "#         ['Pilot Startup',     ['boot', 'setup_1']],\n",
    "#         ['Pilot Termination', ['term' ]],\n",
    "\n",
    "        # derived pilot durations\n",
    "#         ['Agent Nodes',       ['agent']],\n",
    "#         ['Warmup',            ['warm' ]],\n",
    "#         ['Draining',          ['drain']],\n",
    "#         ['Idle',              ['idle' ]],\n",
    "\n",
    "        # unit durations\n",
    "#         ['Prepare Exec',      ['exec_queue', 'exec_prep']],\n",
    "#         ['Exec RP',           ['exec_rp', 'exec_sh', 'term_sh', 'term_rp']],\n",
    "        ['Exec Cmd',          ['exec_cmd']],\n",
    "#         ['Unschedule',        ['unschedule']],\n",
    "]"
   ]
  },
  {
   "cell_type": "code",
   "execution_count": 17,
   "metadata": {
    "ExecuteTime": {
     "end_time": "2020-12-22T18:49:38.192721Z",
     "start_time": "2020-12-22T18:49:26.854885Z"
    }
   },
   "outputs": [
    {
     "name": "stdout",
     "output_type": "stream",
     "text": [
      "cache read failed: [Errno 2] No such file or directory: '/Users/mturilli/.radical/analytics/cache//re.session.login2.hrlee.018599.0001.pickle'\n",
      "cache read failed: [Errno 2] No such file or directory: '/Users/mturilli/.radical/analytics/cache//re.session.login2.hrlee.018602.0014.pickle'\n",
      "WARNING: profile \"../data/raw/paper_12122020/re.session.login2.hrlee.018602.0014/pmgr_launching_queue.get.0000.prof\" not correctly closed.\n"
     ]
    }
   ],
   "source": [
    "# %%capture capt\n",
    "\n",
    "# Remove cache to avoid reloading errors\n",
    "! rm -r ~/.radical/analytics\n",
    "\n",
    "# Skipe sessions we do not need to plot\n",
    "skip = [\n",
    "        '../data/raw/paper_12122020/re.session.login5.hrlee.018606.0000',\n",
    "        '../data/raw/paper_12122020/re.session.login1.hrlee.018610.0002',\n",
    "        '../data/raw/paper_12122020/re.session.login1.hrlee.018610.0003',\n",
    "        '../data/raw/paper_12122020/re.session.login1.hrlee.018610.0005',\n",
    "        '../data/raw/paper_12122020/re.session.login2.hrlee.018610.0008',\n",
    "        '../data/raw/paper_12122020/re.session.login2.hrlee.018610.0007', \n",
    "        '../data/raw/paper_12122020/re.session.login2.iyakushin.018593.0000',  # borken, missing events\n",
    "        '../data/raw/paper_12122020/re.session.login2.iyakushin.018598.0002',  # borken, missing events\n",
    "        '../data/raw/paper_12122020/re.session.lassen708.lee1078.018606.0011'  # borken, missing events\n",
    "       ]\n",
    "sids_pruned = np.setdiff1d(sids, skip)\n",
    "\n",
    "sobjs = ra.Experiment(sids_pruned, stype='radical.pilot')\n",
    "provided, consumed, stats_abs, stats_rel, info = sobjs.utilization(metrics=metrics_default)"
   ]
  },
  {
   "cell_type": "code",
   "execution_count": 18,
   "metadata": {
    "ExecuteTime": {
     "end_time": "2020-12-22T18:49:38.207484Z",
     "start_time": "2020-12-22T18:49:38.194596Z"
    }
   },
   "outputs": [],
   "source": [
    "# x-axis labels\n",
    "xkeys = list()\n",
    "\n",
    "# get the numbers we actually want to plot\n",
    "for session in sobjs.sessions:\n",
    "\n",
    "    n_units = len(session.get(etype='unit'))\n",
    "    \n",
    "    p_size = 0\n",
    "    for pilot in session.get(etype='pilot'):\n",
    "        p_size += pilot.description['cores']\n",
    "\n",
    "    xkeys.append('%s / %s' % (n_units, p_size))\n",
    "\n",
    "# zero points to zero the axes of the plot.\n",
    "p_zeros = {}\n",
    "for session in sobjs.sessions:\n",
    "    for pilot in session.get(etype='pilot'):\n",
    "        p_zeros[session.uid] = pilot.timestamps(event={ru.EVENT: 'bootstrap_0_start'})[0]\n",
    "\n",
    "def update_ticks(x, pos):\n",
    "    return int(x/168)"
   ]
  },
  {
   "cell_type": "code",
   "execution_count": 19,
   "metadata": {
    "ExecuteTime": {
     "end_time": "2020-12-22T18:50:16.790810Z",
     "start_time": "2020-12-22T18:49:38.209828Z"
    },
    "scrolled": true
   },
   "outputs": [
    {
     "data": {
      "image/png": "[encoded data removed]",
      "text/plain": [
       "<Figure size 1728x576 with 2 Axes>"
      ]
     },
     "metadata": {},
     "output_type": "display_data"
    }
   ],
   "source": [
    "skip = ['re.session.login5.hrlee.018606.0000',\n",
    "        're.session.login1.hrlee.018610.0002',\n",
    "        're.session.login1.hrlee.018610.0003',\n",
    "        're.session.login1.hrlee.018610.0005',\n",
    "        're.session.login2.hrlee.018610.0008',\n",
    "        're.session.login2.hrlee.018610.0007',\n",
    "        're.session.login2.iyakushin.018593.0000', # borken, missing events\n",
    "        're.session.login2.iyakushin.018598.0002', # borken, missing events\n",
    "        're.session.lassen708.lee1078.018606.0011' # borken, missing events\n",
    "       ]\n",
    "nsids = len(suds) - len(skip)\n",
    "\n",
    "fwidth = 12*nsids\n",
    "fhight = 8\n",
    "fig, axarr = plt.subplots(1, nsids, sharex='col', figsize=(fwidth, fhight))\n",
    "\n",
    "i = 0\n",
    "j = 'a'\n",
    "for sid in suds:\n",
    "    \n",
    "    if sid in skip:\n",
    "        continue\n",
    "\n",
    "    if nsids > 1:\n",
    "        ax = axarr[i]\n",
    "        ax.set_xlabel('(%s)' % j, labelpad=45)\n",
    "    else:\n",
    "        ax = axarr\n",
    "\n",
    "    cmap = mpl.cm.get_cmap('tab20c')\n",
    "\n",
    "    step = 1.0 / (len(metrics_default) + 1)\n",
    "    this = step / 1.0\n",
    "    legend = list()\n",
    "\n",
    "    x_min = None\n",
    "    x_max = None\n",
    "    y_min = None\n",
    "    y_max = None\n",
    "    \n",
    "    ax.set_title('%s/%s Tasks/Nodes' % (ss[sid]['nunit'], int(ss[sid]['nnodes'])), fontdict={'fontsize': 30})\n",
    "\n",
    "    for metric in metrics_default:\n",
    "\n",
    "        color = tableau20[8] #cmap(this)\n",
    "        this += step\n",
    "\n",
    "        legend.append(mpl.lines.Line2D([0], [0], color=color, lw=6))\n",
    "\n",
    "        if isinstance(metric, list):\n",
    "            name = metric[0]\n",
    "            parts = metric[1]\n",
    "        else:\n",
    "            name = metric\n",
    "            parts = [metric]\n",
    "\n",
    "        for part in parts:\n",
    "            for uid in consumed[sid][part]:\n",
    "                for block in consumed[sid][part][uid]:\n",
    "                    orig_x = block[0] - p_zeros[sid]\n",
    "                    orig_y = block[2] - 0.5\n",
    "                    width = block[1] - block[0]\n",
    "                    height = block[3] - block[2] + 1.0\n",
    "\n",
    "                    if x_min is None:\n",
    "                        x_min = orig_x\n",
    "                    if x_max is None:\n",
    "                        x_max = orig_x + width\n",
    "                    if y_min is None:\n",
    "                        y_min = orig_x\n",
    "                    if y_max is None:\n",
    "                        y_max = orig_x + height\n",
    "\n",
    "                    x_min = min(x_min, orig_x)\n",
    "                    y_min = min(y_min, orig_y)\n",
    "                    x_max = max(x_max, orig_x + width)\n",
    "                    y_max = max(y_max, orig_y + height)\n",
    "\n",
    "                    patch = mpl.patches.Rectangle((orig_x, orig_y),\n",
    "                                                  width, height,\n",
    "                                                  facecolor=color,\n",
    "                                                  edgecolor='black',\n",
    "                                                  fill=True, lw=0.0)\n",
    "                    ax.add_patch(patch)\n",
    "\n",
    "    ax.set_xlim([x_min, x_max])\n",
    "    ax.set_ylim([y_min, y_max])\n",
    "    \n",
    "    ax.set_xlabel('Time (s)', fontsize=30)\n",
    "    ax.set_ylabel('Node', fontsize=30)\n",
    "    \n",
    "    ax.yaxis.set_major_formatter(mticker.FuncFormatter(update_ticks))\n",
    "\n",
    "    i = i+1\n",
    "    j = chr(ord(j) + 1)\n",
    "    \n",
    "# Add legend\n",
    "ax.legend(legend, [m[0] for m in metrics_default], loc='upper center',\n",
    "          fontsize=30, ncol=4, bbox_to_anchor=(-0.05, 1.15))\n",
    "\n",
    "plt.savefig('figures/paper_12122020_ru.pdf', dpi=300, bbox_inches='tight')\n",
    "plt.savefig('figures/paper_12122020_ru.png', dpi=300, bbox_inches='tight')"
   ]
  },
  {
   "cell_type": "code",
   "execution_count": null,
   "metadata": {},
   "outputs": [],
   "source": []
  }
 ],
 "metadata": {
  "kernelspec": {
   "display_name": "Python 3",
   "language": "python",
   "name": "python3"
  },
  "language_info": {
   "codemirror_mode": {
    "name": "ipython",
    "version": 3
   },
   "file_extension": ".py",
   "mimetype": "text/x-python",
   "name": "python",
   "nbconvert_exporter": "python",
   "pygments_lexer": "ipython3",
   "version": "3.8.6"
  }
 },
 "nbformat": 4,
 "nbformat_minor": 4
}
