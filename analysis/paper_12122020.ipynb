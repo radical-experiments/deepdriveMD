{
 "cells": [
  {
   "cell_type": "code",
   "execution_count": 1,
   "metadata": {
    "ExecuteTime": {
     "end_time": "2020-12-10T03:52:56.221160Z",
     "start_time": "2020-12-10T03:52:55.039703Z"
    }
   },
   "outputs": [
    {
     "data": {
      "text/html": [
       "<style>.container { width:100% !important; }</style>"
      ],
      "text/plain": [
       "<IPython.core.display.HTML object>"
      ]
     },
     "metadata": {},
     "output_type": "display_data"
    }
   ],
   "source": [
    "%matplotlib inline\n",
    "%run 'bin/notebook_utils.py'\n",
    "%run 'bin/plot_utilization.py'\n",
    "import matplotlib.ticker as mticker"
   ]
  },
  {
   "cell_type": "code",
   "execution_count": 2,
   "metadata": {
    "ExecuteTime": {
     "end_time": "2020-12-10T03:52:56.728447Z",
     "start_time": "2020-12-10T03:52:56.223049Z"
    }
   },
   "outputs": [
    {
     "name": "stdout",
     "output_type": "stream",
     "text": [
      "\r\n",
      "  python               : 3.8.6\r\n",
      "  pythonpath           : \r\n",
      "  virtualenv           : /Users/mturilli/.virtualenvs/analytics-devel\r\n",
      "\r\n",
      "  radical.analytics    : 1.5.0-v1.5.0-5-g2ad4481@feature-ru-option\r\n",
      "  radical.entk         : 1.5.1\r\n",
      "  radical.gtod         : 1.5.0\r\n",
      "  radical.pilot        : 1.5.4-v1.5.4@devel\r\n",
      "  radical.saga         : 1.5.2\r\n",
      "  radical.utils        : 1.5.4-v1.5.4@devel\r\n",
      "\r\n"
     ]
    }
   ],
   "source": [
    "! radical-stack"
   ]
  },
  {
   "cell_type": "code",
   "execution_count": 3,
   "metadata": {
    "ExecuteTime": {
     "end_time": "2020-12-10T03:52:56.735410Z",
     "start_time": "2020-12-10T03:52:56.731468Z"
    }
   },
   "outputs": [],
   "source": [
    "suds = [\n",
    "        're.session.login2.hrlee.018599.0001',\n",
    "        're.session.login2.hrlee.018602.0014'\n",
    "       ] \n",
    "sdir = '../data/raw/paper_12122020/'\n",
    "sids = [sdir+s for s in suds]"
   ]
  },
  {
   "cell_type": "code",
   "execution_count": 4,
   "metadata": {
    "ExecuteTime": {
     "end_time": "2020-12-10T03:53:11.610846Z",
     "start_time": "2020-12-10T03:52:56.739360Z"
    }
   },
   "outputs": [],
   "source": [
    "%%capture capt\n",
    "\n",
    "ss = {}\n",
    "for sid in suds:\n",
    "    sp = sdir+sid\n",
    "    ss[sid] = {'s': ra.Session(sp, 'radical.pilot')}\n",
    "    ss[sid].update({'p': ss[sid]['s'].filter(etype='pilot'   , inplace=False),\n",
    "                    'u': ss[sid]['s'].filter(etype='unit'    , inplace=False),\n",
    "                    't': ss[sid]['s'].filter(etype='task'    , inplace=False),\n",
    "                    'w': ss[sid]['s'].filter(etype='pipeline', inplace=False)})\n"
   ]
  },
  {
   "cell_type": "code",
   "execution_count": 5,
   "metadata": {
    "ExecuteTime": {
     "end_time": "2020-12-10T03:53:11.634710Z",
     "start_time": "2020-12-10T03:53:11.612841Z"
    }
   },
   "outputs": [],
   "source": [
    "for sid in suds:\n",
    "    ss[sid].update({'sid'   : ss[sid]['s'].uid,\n",
    "                    'pid'   : ss[sid]['p'].list('uid'),\n",
    "                    'npilot': len(ss[sid]['p'].get()),\n",
    "                    'lm'    : ss[sid]['s'].get(etype='pilot')[0].cfg['agent_launch_method'],\n",
    "                    'npact' : len(ss[sid]['p'].timestamps(state='PMGR_ACTIVE')),\n",
    "                    'nunit' : len(ss[sid]['u'].get()),\n",
    "                    'nudone': len(ss[sid]['u'].timestamps(state='DONE')),\n",
    "                    'nufail': len(ss[sid]['u'].timestamps(state='FAILED'))})\n",
    "    ss[sid].update({'pres'  : ss[sid]['p'].get(uid=ss[sid]['pid'])[0].description['resource'],\n",
    "                    'ncores': ss[sid]['p'].get(uid=ss[sid]['pid'])[0].description['cores'],\n",
    "                    'ngpus' : ss[sid]['p'].get(uid=ss[sid]['pid'])[0].description['gpus']})                  \n",
    "    ss[sid].update({'nnodes': ss[sid]['ngpus']/6})"
   ]
  },
  {
   "cell_type": "code",
   "execution_count": 6,
   "metadata": {
    "ExecuteTime": {
     "end_time": "2020-12-10T03:53:11.663058Z",
     "start_time": "2020-12-10T03:53:11.637714Z"
    }
   },
   "outputs": [
    {
     "data": {
      "text/html": [
       "<div>\n",
       "<style scoped>\n",
       "    .dataframe tbody tr th:only-of-type {\n",
       "        vertical-align: middle;\n",
       "    }\n",
       "\n",
       "    .dataframe tbody tr th {\n",
       "        vertical-align: top;\n",
       "    }\n",
       "\n",
       "    .dataframe thead th {\n",
       "        text-align: right;\n",
       "    }\n",
       "</style>\n",
       "<table border=\"1\" class=\"dataframe\">\n",
       "  <thead>\n",
       "    <tr style=\"text-align: right;\">\n",
       "      <th></th>\n",
       "      <th>session</th>\n",
       "      <th>resource</th>\n",
       "      <th>pilot_lm</th>\n",
       "      <th>pilots</th>\n",
       "      <th>ps_active</th>\n",
       "      <th>cores</th>\n",
       "      <th>gpus</th>\n",
       "      <th>nodes</th>\n",
       "      <th>tasks</th>\n",
       "      <th>ts_done</th>\n",
       "      <th>ts_failed</th>\n",
       "    </tr>\n",
       "  </thead>\n",
       "  <tbody>\n",
       "    <tr>\n",
       "      <th>0</th>\n",
       "      <td>re.session.login2.hrlee.018599.0001</td>\n",
       "      <td>ornl.summit</td>\n",
       "      <td>JSRUN</td>\n",
       "      <td>1</td>\n",
       "      <td>1</td>\n",
       "      <td>840.0</td>\n",
       "      <td>120</td>\n",
       "      <td>20.0</td>\n",
       "      <td>250</td>\n",
       "      <td>236</td>\n",
       "      <td>0</td>\n",
       "    </tr>\n",
       "    <tr>\n",
       "      <th>1</th>\n",
       "      <td>re.session.login2.hrlee.018602.0014</td>\n",
       "      <td>ornl.summit</td>\n",
       "      <td>JSRUN</td>\n",
       "      <td>1</td>\n",
       "      <td>1</td>\n",
       "      <td>6720.0</td>\n",
       "      <td>960</td>\n",
       "      <td>160.0</td>\n",
       "      <td>2000</td>\n",
       "      <td>1984</td>\n",
       "      <td>7</td>\n",
       "    </tr>\n",
       "  </tbody>\n",
       "</table>\n",
       "</div>"
      ],
      "text/plain": [
       "                               session     resource pilot_lm  pilots  ps_active   cores  gpus  nodes  tasks  ts_done  ts_failed\n",
       "0  re.session.login2.hrlee.018599.0001  ornl.summit    JSRUN       1          1   840.0   120   20.0    250      236          0\n",
       "1  re.session.login2.hrlee.018602.0014  ornl.summit    JSRUN       1          1  6720.0   960  160.0   2000     1984          7"
      ]
     },
     "execution_count": 6,
     "metadata": {},
     "output_type": "execute_result"
    }
   ],
   "source": [
    "info = []\n",
    "for sid in suds:\n",
    "    info.append({'session'  : sid,\n",
    "                 'resource' : ss[sid]['pres'],\n",
    "                 'pilot_lm' : ss[sid]['lm'], \n",
    "                 'pilots'   : ss[sid]['npilot'],\n",
    "                 'ps_active': ss[sid]['npact'],\n",
    "                 'cores'    : ss[sid]['ncores']/4, \n",
    "                 'gpus'     : ss[sid]['ngpus'], \n",
    "                 'nodes'    : ss[sid]['nnodes'], \n",
    "                 'tasks'    : ss[sid]['nunit'], \n",
    "                 'ts_done'  : ss[sid]['nudone'],  \n",
    "                 'ts_failed': ss[sid]['nufail']})\n",
    "\n",
    "df_info = pd.DataFrame(info) \n",
    "df_info"
   ]
  },
  {
   "cell_type": "code",
   "execution_count": 7,
   "metadata": {
    "ExecuteTime": {
     "end_time": "2020-12-10T03:53:16.735124Z",
     "start_time": "2020-12-10T03:53:11.665256Z"
    }
   },
   "outputs": [],
   "source": [
    "%%capture capt\n",
    "\n",
    "u_durations = {}\n",
    "\n",
    "for sid in suds:\n",
    "    u_durations[sid] = {}\n",
    "\n",
    "for sid in suds:\n",
    "    for uid in ss[sid]['u'].list('uid'):\n",
    "        unit = ss[sid]['u'].get(etype='unit', uid=uid)[0]\n",
    "        durations = {}\n",
    "        for k,v in rp.utils.UNIT_DURATIONS_DEBUG.items():\n",
    "            try:\n",
    "                durations[k] = unit.duration(event=v)\n",
    "            except:\n",
    "                print(\"WARNING: %s: %s: event %s missing\" % (sid, uid, v))\n",
    "                durations[k] = 0\n",
    "        u_durations[sid].update({uid: durations})"
   ]
  },
  {
   "cell_type": "code",
   "execution_count": 8,
   "metadata": {
    "ExecuteTime": {
     "end_time": "2020-12-10T03:53:16.772761Z",
     "start_time": "2020-12-10T03:53:16.739161Z"
    }
   },
   "outputs": [],
   "source": [
    "%%capture capt\n",
    "\n",
    "p_durations = {}\n",
    "\n",
    "for sid in suds:\n",
    "    p_durations[sid] = {}\n",
    "\n",
    "for sid in suds:\n",
    "    for pid in ss[sid]['p'].list('uid'):\n",
    "        pilot = ss[sid]['p'].get(etype='pilot', uid=pid)[0]\n",
    "        durations = {}\n",
    "        for k,v in rp.utils.PILOT_DURATIONS_DEBUG.items():\n",
    "            try:\n",
    "                durations[k] = pilot.duration(event=v)\n",
    "            except:\n",
    "                print(\"WARNING: %s: %s: event %s missing\" % (sid, pid, v))\n",
    "                durations[k] = 0\n",
    "        p_durations[sid].update({pid: durations})"
   ]
  },
  {
   "cell_type": "code",
   "execution_count": 9,
   "metadata": {
    "ExecuteTime": {
     "end_time": "2020-12-10T03:53:16.925485Z",
     "start_time": "2020-12-10T03:53:16.775567Z"
    }
   },
   "outputs": [],
   "source": [
    "# With RP < 1.5.2, on Summit, bootstrap_0_stop, cu_pre_start|stop are \n",
    "# not recorded. We cannot use the default durations.\n",
    "\n",
    "for sid in suds:\n",
    "    w  = ss[sid]['w']\n",
    "    u  = ss[sid]['u']\n",
    "    t  = ss[sid]['t']\n",
    "    p  = ss[sid]['p']\n",
    "    p0 = p.get(uid=ss[sid]['pid'])[0]\n",
    "\n",
    "    ss[sid].update({\n",
    "      'ttx_p': p0.duration(event=[ {ru.EVENT: 'bootstrap_0_start', ru.STATE: None   },\n",
    "                                 # {ru.EVENT: 'bootstrap_0_stop', ru.STATE: None    }]),\n",
    "                                  [{ru.EVENT: 'state'        , ru.STATE: rp.DONE    },\n",
    "                                   {ru.EVENT: 'state'        , ru.STATE: rp.FAILED  },\n",
    "                                   {ru.EVENT: 'state'        , ru.STATE: rp.CANCELED}]]),\n",
    "      'ttx_u': u.duration( event=[ {ru.EVENT: 'cu_exec_start', ru.STATE: None       },      \n",
    "                                   {ru.EVENT: 'cu_exec_stop' , ru.STATE: None       } ])})\n",
    "    \n",
    "    ss[sid].update({'ovh_rtc': ss[sid]['ttx_p'] - ss[sid]['ttx_u']})"
   ]
  },
  {
   "cell_type": "code",
   "execution_count": 10,
   "metadata": {
    "ExecuteTime": {
     "end_time": "2020-12-10T03:53:19.694965Z",
     "start_time": "2020-12-10T03:53:16.927488Z"
    }
   },
   "outputs": [
    {
     "data": {
      "image/png": "[encoded data removed]",
      "text/plain": [
       "<Figure size 864x288 with 2 Axes>"
      ]
     },
     "metadata": {},
     "output_type": "display_data"
    }
   ],
   "source": [
    "fwidth = 6*len(suds)\n",
    "fhight = 4\n",
    "fig, axarr = plt.subplots(1, len(suds), sharey=True, figsize=(fwidth, fhight))\n",
    "\n",
    "i = 0\n",
    "j = 'a'\n",
    "for sid in suds:\n",
    "    if len(suds) > 1:\n",
    "        ax = axarr[i]\n",
    "    else:\n",
    "        ax = axarr\n",
    "    \n",
    "    ax.title.set_text('%s/%s Tasks/Nodes' % (ss[sid]['nunit'], int(ss[sid]['nnodes'])))\n",
    "\n",
    "    ax.bar(x = 'OVH', height = ss[sid]['ovh_rtc'], color = tableau20[1])\n",
    "    ax.bar(x = 'TTX', height = ss[sid]['ttx_u']  , color = tableau20[3])\n",
    "\n",
    "    ax.set_xlabel('(%s)' % j, labelpad=45)\n",
    "\n",
    "    i = i+1\n",
    "    j = chr(ord(j) + 1)\n",
    "\n",
    "fig.text(-0.1,  0.5 , 'Time (s)', va='center', rotation='vertical', fontsize=24)\n",
    "fig.text( 0.5, -0.05, 'Metric'  , ha='center', fontsize=24)\n",
    "fig.legend(['RADICAL Cybertools overhead (OVH)', 'Workflow time to completion (TTX)'], loc='upper center', \n",
    "           bbox_to_anchor=(0.52, 1.35), fontsize=24, ncol=1)\n",
    "    \n",
    "plt.savefig('figures/paper_12122020_ovh_ttx.pdf', dpi=300, bbox_inches='tight')\n",
    "plt.savefig('figures/paper_12122020_ovh_ttx.png', dpi=300, bbox_inches='tight')"
   ]
  },
  {
   "cell_type": "code",
   "execution_count": null,
   "metadata": {},
   "outputs": [],
   "source": []
  }
 ],
 "metadata": {
  "kernelspec": {
   "display_name": "Python 3",
   "language": "python",
   "name": "python3"
  },
  "language_info": {
   "codemirror_mode": {
    "name": "ipython",
    "version": 3
   },
   "file_extension": ".py",
   "mimetype": "text/x-python",
   "name": "python",
   "nbconvert_exporter": "python",
   "pygments_lexer": "ipython3",
   "version": "3.8.6"
  }
 },
 "nbformat": 4,
 "nbformat_minor": 4
}
