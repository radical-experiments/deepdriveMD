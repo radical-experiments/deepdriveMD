{
 "cells": [
  {
   "cell_type": "code",
   "execution_count": 1,
   "metadata": {},
   "outputs": [],
   "source": [
    "%matplotlib inline\n",
    "import pandas as pd"
   ]
  },
  {
   "cell_type": "markdown",
   "metadata": {},
   "source": [
    "## Configuration\n",
    "- compute nodes: 16 to 64 nodes\n",
    "- task ratio: 12 : 10 : 10 : 10 : 1\n",
    "- task TX: T_7200s (mdrun),\tT_3900s (CVAE),\tT_840s (TICA),\tT_600s (Inference),\tT_5s (RLDock)\n",
    "\n",
    "ref: https://github.com/radical-experiments/deepdriveMD/issues/1#issuecomment-574750587"
   ]
  },
  {
   "cell_type": "code",
   "execution_count": 2,
   "metadata": {},
   "outputs": [],
   "source": [
    "data_actual = {\"16\": \n",
    "              [\"16\", 1587795.900/2174934.298 * 100, 100 * (((720 * 336) + (390 * 280) + (84 * 280) + (60 * 280) + (1 * 4)) \n",
    "                                                     / (640 * 720))],\n",
    "              \"32\": \n",
    "              [\"32\", 3181453.370/4359906.237 * 100, 100 * (((720 * 672) + (390 * 560) + (84 * 560) + (60 * 560) + (1 * 4)) \n",
    "                                                     / (1280 * 720))],\n",
    "              \"64\": \n",
    "              [\"64\", 7596872.311/9174387.647 * 100, 100 * (((720 * 1344) + (390 * 1120) + (84 * 1120) + (60 * 1120) + (1 * 4)) \n",
    "                                                     / (2560 * 720))],\n",
    "             }\n",
    "df_actual = pd.DataFrame.from_dict(data_actual, orient='index', columns=['ratio','empirical (%)','theoretical (%)'])"
   ]
  },
  {
   "cell_type": "code",
   "execution_count": 3,
   "metadata": {},
   "outputs": [
    {
     "data": {
      "text/plain": [
       "Text(0, 0.5, '% of Resource Utilization')"
      ]
     },
     "execution_count": 3,
     "metadata": {},
     "output_type": "execute_result"
    },
    {
     "data": {
      "image/png": "[encoded data removed]",
      "text/plain": [
       "<Figure size 432x288 with 1 Axes>"
      ]
     },
     "metadata": {
      "needs_background": "light"
     },
     "output_type": "display_data"
    }
   ],
   "source": [
    "ax = df_actual.plot.bar('ratio', rot=15)\n",
    "ax.legend(loc='center left', bbox_to_anchor=(1.0, 0.5))\n",
    "\n",
    "ax.set_xlabel(\"Number of compute nodes\")\n",
    "ax.set_ylabel(\"% of Resource Utilization\")"
   ]
  },
  {
   "cell_type": "code",
   "execution_count": 4,
   "metadata": {},
   "outputs": [
    {
     "data": {
      "text/html": [
       "<div>\n",
       "<style scoped>\n",
       "    .dataframe tbody tr th:only-of-type {\n",
       "        vertical-align: middle;\n",
       "    }\n",
       "\n",
       "    .dataframe tbody tr th {\n",
       "        vertical-align: top;\n",
       "    }\n",
       "\n",
       "    .dataframe thead th {\n",
       "        text-align: right;\n",
       "    }\n",
       "</style>\n",
       "<table border=\"1\" class=\"dataframe\">\n",
       "  <thead>\n",
       "    <tr style=\"text-align: right;\">\n",
       "      <th></th>\n",
       "      <th>ratio</th>\n",
       "      <th>empirical (%)</th>\n",
       "      <th>theoretical (%)</th>\n",
       "    </tr>\n",
       "  </thead>\n",
       "  <tbody>\n",
       "    <tr>\n",
       "      <th>16</th>\n",
       "      <td>16</td>\n",
       "      <td>73.004316</td>\n",
       "      <td>84.948785</td>\n",
       "    </tr>\n",
       "    <tr>\n",
       "      <th>32</th>\n",
       "      <td>32</td>\n",
       "      <td>72.970683</td>\n",
       "      <td>84.948351</td>\n",
       "    </tr>\n",
       "    <tr>\n",
       "      <th>64</th>\n",
       "      <td>64</td>\n",
       "      <td>82.805225</td>\n",
       "      <td>84.948134</td>\n",
       "    </tr>\n",
       "  </tbody>\n",
       "</table>\n",
       "</div>"
      ],
      "text/plain": [
       "   ratio  empirical (%)  theoretical (%)\n",
       "16    16      73.004316        84.948785\n",
       "32    32      72.970683        84.948351\n",
       "64    64      82.805225        84.948134"
      ]
     },
     "execution_count": 4,
     "metadata": {},
     "output_type": "execute_result"
    }
   ],
   "source": [
    "df_actual"
   ]
  }
 ],
 "metadata": {
  "kernelspec": {
   "display_name": "Python 3",
   "language": "python",
   "name": "python3"
  },
  "language_info": {
   "codemirror_mode": {
    "name": "ipython",
    "version": 3
   },
   "file_extension": ".py",
   "mimetype": "text/x-python",
   "name": "python",
   "nbconvert_exporter": "python",
   "pygments_lexer": "ipython3",
   "version": "3.6.7"
  }
 },
 "nbformat": 4,
 "nbformat_minor": 2
}
