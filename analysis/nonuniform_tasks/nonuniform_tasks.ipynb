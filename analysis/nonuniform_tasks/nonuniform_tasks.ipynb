{
 "cells": [
  {
   "cell_type": "code",
   "execution_count": 1,
   "metadata": {},
   "outputs": [
    {
     "data": {
      "text/html": [
       "<style>.container { width:100% !important; }</style>"
      ],
      "text/plain": [
       "<IPython.core.display.HTML object>"
      ]
     },
     "metadata": {},
     "output_type": "display_data"
    },
    {
     "name": "stderr",
     "output_type": "stream",
     "text": [
      "/Users/mturilli/Virtualenvs/hyperspace_experiments/lib/python3.7/site-packages/matplotlib/__init__.py:846: MatplotlibDeprecationWarning: \n",
      "The text.latex.unicode rcparam was deprecated in Matplotlib 2.2 and will be removed in 3.1.\n",
      "  \"2.2\", name=key, obj_type=\"rcparam\", addendum=addendum)\n"
     ]
    }
   ],
   "source": [
    "%matplotlib inline\n",
    "%run '../bin/notebook_utils.py'\n",
    "import matplotlib.ticker as mticker"
   ]
  },
  {
   "cell_type": "markdown",
   "metadata": {},
   "source": [
    "# Exp2\n",
    "## Ratio 1:1:1\n",
    "* 40_40_40tasks.bz2 = rp.session.login4.hrlee.018242.0020\n",
    "\n",
    "## 10s dominant\n",
    "* 58_31_31tasks.bz2 = rp.session.login4.hrlee.018242.0035\n",
    "* 76_22_22tasks.bz2 = rp.session.login4.hrlee.018242.0036\n",
    "* 94_13_13tasks.bz2 = rp.session.login4.hrlee.018242.0037\n",
    "* 112_4_4tasks.bz2  = rp.session.login4.hrlee.018242.0039\n",
    "\n",
    "## 100s dominant\n",
    "* 31_58_31tasks.bz2 = rp.session.login4.hrlee.018242.0040\n",
    "* 22_76_22tasks.bz2 = rp.session.login4.hrlee.018242.0041\n",
    "* 13_94_13tasks.bz2 = rp.session.login4.hrlee.018242.0042\n",
    "* 4_112_4tasks.bz2  = rp.session.login4.hrlee.018242.0043\n",
    "\n",
    "## 1000s dominant\n",
    "* 31_31_58tasks.bz2 = rp.session.login4.hrlee.018242.0044\n",
    "* 22_22_76tasks.bz2 = rp.session.login4.hrlee.018242.0045\n",
    "* 13_13_94tasks.bz2 = rp.session.login4.hrlee.018242.0046\n",
    "* 4_4_112tasks.bz2  = rp.session.login4.hrlee.018242.0047\n",
    "\n",
    "# Exp3\n",
    "## Dominant 10s\n",
    "* 60_30_30tasks  = rp.session.login4.hrlee.018243.0000.bz2\n",
    "* 80_20_20tasks  = rp.session.login4.hrlee.018243.0001.bz2\n",
    "* 100_10_10tasks = rp.session.login4.hrlee.018243.0002.bz2\n",
    "* 118_1_1tasks   = rp.session.login4.hrlee.018243.0003.bz2\n",
    "\n",
    "## Dominant 100s\n",
    "* 30_60_30tasks  = rp.session.login4.hrlee.018243.0004.bz2\n",
    "* 20_80_20tasks  = rp.session.login4.hrlee.018243.0005.bz2\n",
    "* 10_100_10tasks = rp.session.login4.hrlee.018243.0006.bz2\n",
    "* 1_118_1tasks   = rp.session.login4.hrlee.018243.0007.bz2\n",
    "\n",
    "## Dominant 1000s\n",
    "* 30_30_60tasks  = rp.session.login4.hrlee.018243.0008.bz2\n",
    "* 20_20_80tasks  = rp.session.login4.hrlee.018243.0009.bz2\n",
    "* 10_10_100tasks = rp.session.login4.hrlee.018243.0010.bz2\n",
    "* 1_1_118tasks   = rp.session.login4.hrlee.018243.0011.bz2"
   ]
  },
  {
   "cell_type": "code",
   "execution_count": 2,
   "metadata": {},
   "outputs": [],
   "source": [
    "exp2_sids = ['../../data/nonuniform_tasks/exp2/rp.session.login4.hrlee.018242.0020',\n",
    "             '../../data/nonuniform_tasks/exp2/rp.session.login4.hrlee.018242.0035',\n",
    "             '../../data/nonuniform_tasks/exp2/rp.session.login4.hrlee.018242.0036',\n",
    "             '../../data/nonuniform_tasks/exp2/rp.session.login4.hrlee.018242.0037',\n",
    "             '../../data/nonuniform_tasks/exp2/rp.session.login4.hrlee.018242.0039',\n",
    "             '../../data/nonuniform_tasks/exp2/rp.session.login4.hrlee.018242.0040',\n",
    "             '../../data/nonuniform_tasks/exp2/rp.session.login4.hrlee.018242.0041',\n",
    "             '../../data/nonuniform_tasks/exp2/rp.session.login4.hrlee.018242.0042',\n",
    "             '../../data/nonuniform_tasks/exp2/rp.session.login4.hrlee.018242.0043',\n",
    "             '../../data/nonuniform_tasks/exp2/rp.session.login4.hrlee.018242.0044',\n",
    "             '../../data/nonuniform_tasks/exp2/rp.session.login4.hrlee.018242.0045',\n",
    "             '../../data/nonuniform_tasks/exp2/rp.session.login4.hrlee.018242.0046',\n",
    "             '../../data/nonuniform_tasks/exp2/rp.session.login4.hrlee.018242.0047']\n",
    "\n",
    "exp3_sids = ['../../data/nonuniform_tasks/exp3/rp.session.login4.hrlee.018243.0000',\n",
    "             '../../data/nonuniform_tasks/exp3/rp.session.login4.hrlee.018243.0001',\n",
    "             '../../data/nonuniform_tasks/exp3/rp.session.login4.hrlee.018243.0002',\n",
    "             '../../data/nonuniform_tasks/exp3/rp.session.login4.hrlee.018243.0003',\n",
    "             '../../data/nonuniform_tasks/exp3/rp.session.login4.hrlee.018243.0004',\n",
    "             '../../data/nonuniform_tasks/exp3/rp.session.login4.hrlee.018243.0005',\n",
    "             '../../data/nonuniform_tasks/exp3/rp.session.login4.hrlee.018243.0006',\n",
    "             '../../data/nonuniform_tasks/exp3/rp.session.login4.hrlee.018243.0007',\n",
    "             '../../data/nonuniform_tasks/exp3/rp.session.login4.hrlee.018243.0008',\n",
    "             '../../data/nonuniform_tasks/exp3/rp.session.login4.hrlee.018243.0009',\n",
    "             '../../data/nonuniform_tasks/exp3/rp.session.login4.hrlee.018243.0010',\n",
    "             '../../data/nonuniform_tasks/exp3/rp.session.login4.hrlee.018243.0011']"
   ]
  },
  {
   "cell_type": "code",
   "execution_count": 14,
   "metadata": {},
   "outputs": [],
   "source": [
    "# session ID, renamed ID, utilization, number of tasks, ratio\n",
    "columns=['rid', 'util-work', 'util-over', 'util-miss', 'num-task', 'num-task-10', 'num-task-100', 'num-task-1000']\n",
    "data_exp3 = {'rp.session.login4.hrlee.018242.0020': ['40_40_40tasks' , 28.148, 57.513, 14.330, '40-40-40' , 40 , 40 , 40 ], \n",
    "             'rp.session.login4.hrlee.018243.0000': ['60_30_30tasks' , 21.106, 63.859, 15.035, '60-30-30' , 60 , 30 , 30 ],\n",
    "             'rp.session.login4.hrlee.018243.0001': ['80_20_20tasks' , 14.309, 70.551, 15.141, '80-20-20' , 80 , 20 , 20 ],\n",
    "             'rp.session.login4.hrlee.018243.0002': ['100_10_10tasks', 7.550 , 77.482, 14.968, '100-10-10', 100, 10 , 10 ],\n",
    "             'rp.session.login4.hrlee.018243.0003': ['118_1_1tasks'  , 1.446 , 83.532, 15.021, '118-1-1'  , 118, 1  , 1  ],\n",
    "             'rp.session.login4.hrlee.018243.0004': ['30_60_30tasks' , 22.734, 62.052, 15.214, '30-60-30' , 30 , 60 , 30 ],\n",
    "             'rp.session.login4.hrlee.018243.0005': ['20_80_20tasks' , 17.787, 67.527, 14.686, '20-80-20' , 20 , 80 , 20 ],\n",
    "             'rp.session.login4.hrlee.018243.0006': ['10_100_10tasks', 12.661, 72.411, 14.929, '10-100-10', 10 , 100, 10 ],\n",
    "             'rp.session.login4.hrlee.018243.0007': ['1_118_1tasks'  , 8.063 , 76.853, 15.085, '1-118-1'  , 1  , 118, 1  ],\n",
    "             'rp.session.login4.hrlee.018243.0008': ['30_30_60tasks' , 39.842, 45.287, 14.870, '30-30-60' , 30 , 30 , 60 ],\n",
    "             'rp.session.login4.hrlee.018243.0009': ['20_20_80tasks' , 51.362, 33.416, 15.222, '20-20-80' , 20 , 20 , 80 ],\n",
    "             'rp.session.login4.hrlee.018243.0010': ['10_10_100tasks', 63.257, 21.477, 15.266, '10-10-100', 10 , 10 , 100],\n",
    "             'rp.session.login4.hrlee.018243.0011': ['1_1_118tasks'  , 73.912, 10.901, 15.187, '1-1-118'  , 1  , 1  , 118]}"
   ]
  },
  {
   "cell_type": "code",
   "execution_count": 40,
   "metadata": {},
   "outputs": [
    {
     "data": {
      "text/html": [
       "<div>\n",
       "<style scoped>\n",
       "    .dataframe tbody tr th:only-of-type {\n",
       "        vertical-align: middle;\n",
       "    }\n",
       "\n",
       "    .dataframe tbody tr th {\n",
       "        vertical-align: top;\n",
       "    }\n",
       "\n",
       "    .dataframe thead th {\n",
       "        text-align: right;\n",
       "    }\n",
       "</style>\n",
       "<table border=\"1\" class=\"dataframe\">\n",
       "  <thead>\n",
       "    <tr style=\"text-align: right;\">\n",
       "      <th></th>\n",
       "      <th>num-task</th>\n",
       "      <th>util-work</th>\n",
       "      <th>unutil</th>\n",
       "    </tr>\n",
       "  </thead>\n",
       "  <tbody>\n",
       "    <tr>\n",
       "      <th>rp.session.login4.hrlee.018242.0020</th>\n",
       "      <td>40-40-40</td>\n",
       "      <td>28.148</td>\n",
       "      <td>71.843</td>\n",
       "    </tr>\n",
       "    <tr>\n",
       "      <th>rp.session.login4.hrlee.018243.0000</th>\n",
       "      <td>60-30-30</td>\n",
       "      <td>21.106</td>\n",
       "      <td>78.894</td>\n",
       "    </tr>\n",
       "    <tr>\n",
       "      <th>rp.session.login4.hrlee.018243.0001</th>\n",
       "      <td>80-20-20</td>\n",
       "      <td>14.309</td>\n",
       "      <td>85.692</td>\n",
       "    </tr>\n",
       "    <tr>\n",
       "      <th>rp.session.login4.hrlee.018243.0002</th>\n",
       "      <td>100-10-10</td>\n",
       "      <td>7.550</td>\n",
       "      <td>92.450</td>\n",
       "    </tr>\n",
       "    <tr>\n",
       "      <th>rp.session.login4.hrlee.018243.0003</th>\n",
       "      <td>118-1-1</td>\n",
       "      <td>1.446</td>\n",
       "      <td>98.553</td>\n",
       "    </tr>\n",
       "    <tr>\n",
       "      <th>rp.session.login4.hrlee.018243.0004</th>\n",
       "      <td>30-60-30</td>\n",
       "      <td>22.734</td>\n",
       "      <td>77.266</td>\n",
       "    </tr>\n",
       "    <tr>\n",
       "      <th>rp.session.login4.hrlee.018243.0005</th>\n",
       "      <td>20-80-20</td>\n",
       "      <td>17.787</td>\n",
       "      <td>82.213</td>\n",
       "    </tr>\n",
       "    <tr>\n",
       "      <th>rp.session.login4.hrlee.018243.0006</th>\n",
       "      <td>10-100-10</td>\n",
       "      <td>12.661</td>\n",
       "      <td>87.340</td>\n",
       "    </tr>\n",
       "    <tr>\n",
       "      <th>rp.session.login4.hrlee.018243.0007</th>\n",
       "      <td>1-118-1</td>\n",
       "      <td>8.063</td>\n",
       "      <td>91.938</td>\n",
       "    </tr>\n",
       "    <tr>\n",
       "      <th>rp.session.login4.hrlee.018243.0008</th>\n",
       "      <td>30-30-60</td>\n",
       "      <td>39.842</td>\n",
       "      <td>60.157</td>\n",
       "    </tr>\n",
       "    <tr>\n",
       "      <th>rp.session.login4.hrlee.018243.0009</th>\n",
       "      <td>20-20-80</td>\n",
       "      <td>51.362</td>\n",
       "      <td>48.638</td>\n",
       "    </tr>\n",
       "    <tr>\n",
       "      <th>rp.session.login4.hrlee.018243.0010</th>\n",
       "      <td>10-10-100</td>\n",
       "      <td>63.257</td>\n",
       "      <td>36.743</td>\n",
       "    </tr>\n",
       "    <tr>\n",
       "      <th>rp.session.login4.hrlee.018243.0011</th>\n",
       "      <td>1-1-118</td>\n",
       "      <td>73.912</td>\n",
       "      <td>26.088</td>\n",
       "    </tr>\n",
       "  </tbody>\n",
       "</table>\n",
       "</div>"
      ],
      "text/plain": [
       "                                      num-task  util-work  unutil\n",
       "rp.session.login4.hrlee.018242.0020   40-40-40     28.148  71.843\n",
       "rp.session.login4.hrlee.018243.0000   60-30-30     21.106  78.894\n",
       "rp.session.login4.hrlee.018243.0001   80-20-20     14.309  85.692\n",
       "rp.session.login4.hrlee.018243.0002  100-10-10      7.550  92.450\n",
       "rp.session.login4.hrlee.018243.0003    118-1-1      1.446  98.553\n",
       "rp.session.login4.hrlee.018243.0004   30-60-30     22.734  77.266\n",
       "rp.session.login4.hrlee.018243.0005   20-80-20     17.787  82.213\n",
       "rp.session.login4.hrlee.018243.0006  10-100-10     12.661  87.340\n",
       "rp.session.login4.hrlee.018243.0007    1-118-1      8.063  91.938\n",
       "rp.session.login4.hrlee.018243.0008   30-30-60     39.842  60.157\n",
       "rp.session.login4.hrlee.018243.0009   20-20-80     51.362  48.638\n",
       "rp.session.login4.hrlee.018243.0010  10-10-100     63.257  36.743\n",
       "rp.session.login4.hrlee.018243.0011    1-1-118     73.912  26.088"
      ]
     },
     "execution_count": 40,
     "metadata": {},
     "output_type": "execute_result"
    }
   ],
   "source": [
    "util_ext3 = pd.DataFrame.from_dict(data_exp3, orient='index', columns=columns)\n",
    "util_ext3['unutil'] = util_ext3['util-over'] + util_ext3['util-miss']\n",
    "util_ext3[['num-task', 'util-work', 'unutil']]"
   ]
  },
  {
   "cell_type": "code",
   "execution_count": 61,
   "metadata": {},
   "outputs": [
    {
     "data": {
      "image/png": "[encoded data removed]",
      "text/plain": [
       "<Figure size 2592x288 with 3 Axes>"
      ]
     },
     "metadata": {},
     "output_type": "display_data"
    }
   ],
   "source": [
    "fwidth = 36\n",
    "fhight = 4\n",
    "fig, axarr = plt.subplots(1, # Number of rows\n",
    "                          3, # Number of columns\n",
    "                          sharex='col',\n",
    "                          figsize=(fwidth, fhight),\n",
    "                          sharey='row')\n",
    "\n",
    "i = 0\n",
    "j = 'a'\n",
    "for nt in ['num-task-10', 'num-task-100', 'num-task-1000']:\n",
    "    ax = axarr[i]\n",
    "    ax.title.set_text('Increasing ratio of %ss tasks' % nt.split('-')[-1])\n",
    "    util_ext3[util_ext3[nt] >= 40][['util-work', 'unutil', 'num-task']].plot(x='num-task', ax=ax, legend=False)\n",
    "    \n",
    "    ax.set_xlabel('(%s)' % j, labelpad=45)\n",
    "\n",
    "    i = i+1\n",
    "    j = chr(ord(j) + 1)\n",
    "    \n",
    "# Add common axes lables\n",
    "fig.text(0.095, 0.5, '\\% Resource Utilization', va='center', rotation='vertical', fontsize=24)\n",
    "fig.text(0.55, -0.08, '\\# tasks (10s-100s-1000s)', ha='center', fontsize=24)\n",
    "    \n",
    "# Add legend\n",
    "fig.legend(['\\% resources utilized to execute the workload', '\\% untilized resources'], \n",
    "           loc='upper center', \n",
    "           bbox_to_anchor=(0.44, 1.5),\n",
    "           fontsize=26,\n",
    "           ncol=2)\n",
    "\n",
    "plt.savefig('figures/paper_ru_ration.pdf', dpi=300, bbox_inches='tight')\n",
    "plt.savefig('figures/paper_ru_ratio.png', dpi=300, bbox_inches='tight')"
   ]
  },
  {
   "cell_type": "code",
   "execution_count": null,
   "metadata": {},
   "outputs": [],
   "source": []
  }
 ],
 "metadata": {
  "hide_input": false,
  "kernelspec": {
   "display_name": "Python 3",
   "language": "python",
   "name": "python3"
  },
  "language_info": {
   "codemirror_mode": {
    "name": "ipython",
    "version": 3
   },
   "file_extension": ".py",
   "mimetype": "text/x-python",
   "name": "python",
   "nbconvert_exporter": "python",
   "pygments_lexer": "ipython3",
   "version": "3.7.5"
  },
  "varInspector": {
   "cols": {
    "lenName": 16,
    "lenType": 16,
    "lenVar": 40
   },
   "kernels_config": {
    "python": {
     "delete_cmd_postfix": "",
     "delete_cmd_prefix": "del ",
     "library": "var_list.py",
     "varRefreshCmd": "print(var_dic_list())"
    },
    "r": {
     "delete_cmd_postfix": ") ",
     "delete_cmd_prefix": "rm(",
     "library": "var_list.r",
     "varRefreshCmd": "cat(var_dic_list()) "
    }
   },
   "types_to_exclude": [
    "module",
    "function",
    "builtin_function_or_method",
    "instance",
    "_Feature"
   ],
   "window_display": false
  }
 },
 "nbformat": 4,
 "nbformat_minor": 2
}
