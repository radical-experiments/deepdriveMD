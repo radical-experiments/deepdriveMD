{
 "cells": [
  {
   "cell_type": "markdown",
   "metadata": {},
   "source": [
    "## Increasing resource utilization\n",
    "\n",
    "Workload can start with 1 core/1 task but sharing core for short running tasks would increase resource utilization."
   ]
  },
  {
   "cell_type": "markdown",
   "metadata": {},
   "source": [
    "## Configuration\n",
    "- (Variant) Number of nodes: from 6 to 4 (240 cores to 160 cores, 33% reduced)\n",
    "- 295 number of tasks\n",
    "- types of tasks 7200s:3900s:840s:600s:5s (MDRUN:CVAE:TICA:Inference:RLDock)\n",
    "- Fixed ratio is 12:10:10:10:1\n",
    "- 2 hours of TTX\n"
   ]
  },
  {
   "cell_type": "code",
   "execution_count": 1,
   "metadata": {},
   "outputs": [],
   "source": [
    "%matplotlib inline\n",
    "import pandas as pd\n",
    "import matplotlib.pyplot as plt "
   ]
  },
  {
   "cell_type": "code",
   "execution_count": 10,
   "metadata": {},
   "outputs": [],
   "source": [
    "data = {\"126\": [\"1:10\", 126,47.293,158017.989,397007.915],\n",
    "       \"168\": [\"{:.02f}\".format(295/160),168,56.325,84276.823,396550.600],\n",
    "       \"210\": [\"{:.02f}\".format(295/200),210,46.027,206054.547,396593.495],\n",
    "       \"252\": [\"{:.02f}\".format(295/240),252,47.293,326067.400,396637.251]}\n",
    "pd_data = pd.DataFrame.from_dict(data, orient='index', columns=['ratio (cpu/task)','cores','utilization','draining','Execution Cmd'])\n",
    "pd_data['idled_sec'] = pd_data['draining'] / pd_data['cores']\n",
    "pd_data['util_rate'] = (pd_data['Execution Cmd'] / (pd_data['Execution Cmd'] + pd_data['draining'])) * 100"
   ]
  },
  {
   "cell_type": "code",
   "execution_count": 11,
   "metadata": {},
   "outputs": [
    {
     "data": {
      "text/plain": [
       "Text(0, 0.5, 'Resource Utilization (%)')"
      ]
     },
     "execution_count": 11,
     "metadata": {},
     "output_type": "execute_result"
    },
    {
     "data": {
      "image/png": "[encoded data removed]",
      "text/plain": [
       "<Figure size 432x288 with 1 Axes>"
      ]
     },
     "metadata": {
      "needs_background": "light"
     },
     "output_type": "display_data"
    }
   ],
   "source": [
    "pd_data_except_126 = pd_data[pd_data['cores']!=126]\n",
    "ax = pd_data_except_126.plot.bar('ratio (cpu/task)','util_rate',legend=False, rot=1)\n",
    "ax.invert_xaxis()\n",
    "\n",
    "ax.set_xlabel(\"Ratio CPU per Task\")\n",
    "ax.set_ylabel(\"Resource Utilization (%)\")"
   ]
  },
  {
   "cell_type": "code",
   "execution_count": 4,
   "metadata": {},
   "outputs": [
    {
     "data": {
      "text/html": [
       "<div>\n",
       "<style scoped>\n",
       "    .dataframe tbody tr th:only-of-type {\n",
       "        vertical-align: middle;\n",
       "    }\n",
       "\n",
       "    .dataframe tbody tr th {\n",
       "        vertical-align: top;\n",
       "    }\n",
       "\n",
       "    .dataframe thead th {\n",
       "        text-align: right;\n",
       "    }\n",
       "</style>\n",
       "<table border=\"1\" class=\"dataframe\">\n",
       "  <thead>\n",
       "    <tr style=\"text-align: right;\">\n",
       "      <th></th>\n",
       "      <th>ratio (cpu/task)</th>\n",
       "      <th>cores</th>\n",
       "      <th>utilization</th>\n",
       "      <th>draining</th>\n",
       "      <th>Execution Cmd</th>\n",
       "      <th>idled_sec</th>\n",
       "      <th>util_rate</th>\n",
       "    </tr>\n",
       "  </thead>\n",
       "  <tbody>\n",
       "    <tr>\n",
       "      <th>168</th>\n",
       "      <td>1.75</td>\n",
       "      <td>168</td>\n",
       "      <td>56.325</td>\n",
       "      <td>84276.823</td>\n",
       "      <td>396550.600</td>\n",
       "      <td>501.647756</td>\n",
       "      <td>82.472542</td>\n",
       "    </tr>\n",
       "    <tr>\n",
       "      <th>210</th>\n",
       "      <td>1.40</td>\n",
       "      <td>210</td>\n",
       "      <td>46.027</td>\n",
       "      <td>206054.547</td>\n",
       "      <td>396593.495</td>\n",
       "      <td>981.212129</td>\n",
       "      <td>65.808476</td>\n",
       "    </tr>\n",
       "    <tr>\n",
       "      <th>252</th>\n",
       "      <td>1.17</td>\n",
       "      <td>252</td>\n",
       "      <td>47.293</td>\n",
       "      <td>326067.400</td>\n",
       "      <td>396637.251</td>\n",
       "      <td>1293.918254</td>\n",
       "      <td>54.882344</td>\n",
       "    </tr>\n",
       "  </tbody>\n",
       "</table>\n",
       "</div>"
      ],
      "text/plain": [
       "    ratio (cpu/task)  cores  utilization    draining  Execution Cmd  \\\n",
       "168             1.75    168       56.325   84276.823     396550.600   \n",
       "210             1.40    210       46.027  206054.547     396593.495   \n",
       "252             1.17    252       47.293  326067.400     396637.251   \n",
       "\n",
       "       idled_sec  util_rate  \n",
       "168   501.647756  82.472542  \n",
       "210   981.212129  65.808476  \n",
       "252  1293.918254  54.882344  "
      ]
     },
     "execution_count": 4,
     "metadata": {},
     "output_type": "execute_result"
    }
   ],
   "source": [
    "pd_data_except_126"
   ]
  }
 ],
 "metadata": {
  "kernelspec": {
   "display_name": "Python 3",
   "language": "python",
   "name": "python3"
  },
  "language_info": {
   "codemirror_mode": {
    "name": "ipython",
    "version": 3
   },
   "file_extension": ".py",
   "mimetype": "text/x-python",
   "name": "python",
   "nbconvert_exporter": "python",
   "pygments_lexer": "ipython3",
   "version": "3.6.10"
  }
 },
 "nbformat": 4,
 "nbformat_minor": 4
}
