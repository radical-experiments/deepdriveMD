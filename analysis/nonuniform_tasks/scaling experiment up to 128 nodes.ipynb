{
 "cells": [
  {
   "cell_type": "code",
   "execution_count": 1,
   "metadata": {},
   "outputs": [],
   "source": [
    "%matplotlib inline\n",
    "import pandas as pd\n",
    "import matplotlib.pyplot as plt"
   ]
  },
  {
   "cell_type": "markdown",
   "metadata": {},
   "source": [
    "## Configuration\n",
    "- compute nodes: 16 to 128 nodes\n",
    "- task ratio: 12 : 10 : 10 : 10 : 1\n",
    "- task TX: T_7200s (mdrun),\tT_3900s (CVAE),\tT_840s (TICA),\tT_600s (Inference),\tT_60s (RLDock)\n",
    "\n",
    "ref: https://github.com/radical-experiments/deepdriveMD/issues/1#issuecomment-574750587"
   ]
  },
  {
   "cell_type": "code",
   "execution_count": 2,
   "metadata": {},
   "outputs": [],
   "source": [
    "data_actual = {\"16\":\n",
    "               [\"16\", \n",
    "                1587795.900 / 2174934.298 * 100,\n",
    "                1587578.024 / 2158283.472 * 100,\n",
    "                1587492.020 / 2158289.040 * 100,\n",
    "                100 * ((720 * 21 + 390 * 17.5 + 84 * 17.5 + 60 * 17.5 + 6 * 1) * 2**4 / (720 * 40 * 2**4))],\n",
    "               \"32\": \n",
    "               [\"32\", \n",
    "                3181453.370 / 4359906.237 * 100,\n",
    "                3183668.131 / (3183668.131 + 1160044.211) * 100,\n",
    "                3185649.652 / (3185649.652 + 1138477.144) * 100,\n",
    "                100 * ((720 * 21 + 390 * 17.5 + 84 * 17.5 + 60 * 17.5 + 6 * 1) * 2**5 / (720 * 40 * 2**5))],\n",
    "               \"64\": \n",
    "               [\"64\", \n",
    "                7596872.311 / 9174387.647 * 100, \n",
    "                7479945.045 / (7479945.045 + 1565261.592) * 100,\n",
    "                7615915.321 / (7615915.321 + 1588575.537) * 100,\n",
    "                100 * ((720 * 21 + 390 * 17.5 + 84 * 17.5 + 60 * 17.5 + 6 * 1) * 2**6 / (720 * 40 * 2**6))],\n",
    "               \"128\":\n",
    "               [\"128\",\n",
    "                5865233.991 / (5865233.991 + 4154447.863) * 100,\n",
    "                25506531.112 / (25506531.112 + 7152782.350) * 100,\n",
    "                26503741.426 / (26503741.426 + 8167733.763) * 100,\n",
    "                100 * ((720 * 21 + 390 * 17.5 + 84 * 17.5 + 60 * 17.5 + 6 * 1) * 2**7 / (720 * 40 * 2**7))]\n",
    "             }\n",
    "df_actual = pd.DataFrame.from_dict(data_actual, orient='index', columns=['ratio','1st empirical (%)','2nd empirical (%)','3rd empirical (%)','theoretical (%)'])"
   ]
  },
  {
   "cell_type": "code",
   "execution_count": 3,
   "metadata": {},
   "outputs": [],
   "source": [
    "means=df_actual.mean(axis=1)\n",
    "errors=df_actual.std(axis=1)"
   ]
  },
  {
   "cell_type": "code",
   "execution_count": 4,
   "metadata": {},
   "outputs": [
    {
     "data": {
      "text/plain": [
       "Text(0, 0.5, 'Resource Utilization (%)')"
      ]
     },
     "execution_count": 4,
     "metadata": {},
     "output_type": "execute_result"
    },
    {
     "data": {
      "image/png": "[encoded data removed]",
      "text/plain": [
       "<Figure size 432x288 with 1 Axes>"
      ]
     },
     "metadata": {
      "needs_background": "light"
     },
     "output_type": "display_data"
    }
   ],
   "source": [
    "fig, ax = plt.subplots()\n",
    "means.plot.bar(yerr=errors, ax=ax, capsize=4, rot=1)\n",
    "theoretical = 100 * ((720 * 21 + 390 * 17.5 + 84 * 17.5 + 60 * 17.5 + 60 * 1) * 2**7 / (720 * 40 * 2**7))\n",
    "plt.axhline(y=theoretical,linewidth=1, linestyle='dotted', color='red')\n",
    "ax.set_xlabel(\"Number of compute nodes\")\n",
    "ax.set_ylabel(\"Resource Utilization (%)\")"
   ]
  },
  {
   "cell_type": "code",
   "execution_count": 5,
   "metadata": {},
   "outputs": [
    {
     "data": {
      "text/html": [
       "<div>\n",
       "<style scoped>\n",
       "    .dataframe tbody tr th:only-of-type {\n",
       "        vertical-align: middle;\n",
       "    }\n",
       "\n",
       "    .dataframe tbody tr th {\n",
       "        vertical-align: top;\n",
       "    }\n",
       "\n",
       "    .dataframe thead th {\n",
       "        text-align: right;\n",
       "    }\n",
       "</style>\n",
       "<table border=\"1\" class=\"dataframe\">\n",
       "  <thead>\n",
       "    <tr style=\"text-align: right;\">\n",
       "      <th></th>\n",
       "      <th>ratio</th>\n",
       "      <th>1st empirical (%)</th>\n",
       "      <th>2nd empirical (%)</th>\n",
       "      <th>3rd empirical (%)</th>\n",
       "      <th>theoretical (%)</th>\n",
       "      <th>means</th>\n",
       "      <th>errors</th>\n",
       "    </tr>\n",
       "  </thead>\n",
       "  <tbody>\n",
       "    <tr>\n",
       "      <th>16</th>\n",
       "      <td>16</td>\n",
       "      <td>73.004316</td>\n",
       "      <td>73.557438</td>\n",
       "      <td>73.553263</td>\n",
       "      <td>84.96875</td>\n",
       "      <td>76.270942</td>\n",
       "      <td>5.804355</td>\n",
       "    </tr>\n",
       "    <tr>\n",
       "      <th>32</th>\n",
       "      <td>32</td>\n",
       "      <td>72.970683</td>\n",
       "      <td>73.293715</td>\n",
       "      <td>73.671513</td>\n",
       "      <td>84.96875</td>\n",
       "      <td>76.226165</td>\n",
       "      <td>5.835422</td>\n",
       "    </tr>\n",
       "    <tr>\n",
       "      <th>64</th>\n",
       "      <td>64</td>\n",
       "      <td>82.805225</td>\n",
       "      <td>82.695126</td>\n",
       "      <td>82.741299</td>\n",
       "      <td>84.96875</td>\n",
       "      <td>83.302600</td>\n",
       "      <td>1.111684</td>\n",
       "    </tr>\n",
       "    <tr>\n",
       "      <th>128</th>\n",
       "      <td>128</td>\n",
       "      <td>58.537128</td>\n",
       "      <td>78.098798</td>\n",
       "      <td>76.442497</td>\n",
       "      <td>84.96875</td>\n",
       "      <td>74.511793</td>\n",
       "      <td>11.271381</td>\n",
       "    </tr>\n",
       "  </tbody>\n",
       "</table>\n",
       "</div>"
      ],
      "text/plain": [
       "    ratio  1st empirical (%)  2nd empirical (%)  3rd empirical (%)  \\\n",
       "16     16          73.004316          73.557438          73.553263   \n",
       "32     32          72.970683          73.293715          73.671513   \n",
       "64     64          82.805225          82.695126          82.741299   \n",
       "128   128          58.537128          78.098798          76.442497   \n",
       "\n",
       "     theoretical (%)      means     errors  \n",
       "16          84.96875  76.270942   5.804355  \n",
       "32          84.96875  76.226165   5.835422  \n",
       "64          84.96875  83.302600   1.111684  \n",
       "128         84.96875  74.511793  11.271381  "
      ]
     },
     "execution_count": 5,
     "metadata": {},
     "output_type": "execute_result"
    }
   ],
   "source": [
    "df_actual['means'] = means\n",
    "df_actual['errors'] = errors\n",
    "df_actual"
   ]
  }
 ],
 "metadata": {
  "kernelspec": {
   "display_name": "Python 3",
   "language": "python",
   "name": "python3"
  },
  "language_info": {
   "codemirror_mode": {
    "name": "ipython",
    "version": 3
   },
   "file_extension": ".py",
   "mimetype": "text/x-python",
   "name": "python",
   "nbconvert_exporter": "python",
   "pygments_lexer": "ipython3",
   "version": "3.6.7"
  }
 },
 "nbformat": 4,
 "nbformat_minor": 2
}
