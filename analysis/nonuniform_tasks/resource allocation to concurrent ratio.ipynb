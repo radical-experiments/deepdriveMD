{
 "cells": [
  {
   "cell_type": "code",
   "execution_count": 1,
   "metadata": {},
   "outputs": [],
   "source": [
    "%matplotlib inline\n",
    "import pandas as pd\n",
    "import matplotlib.pyplot as plt"
   ]
  },
  {
   "cell_type": "code",
   "execution_count": 2,
   "metadata": {},
   "outputs": [],
   "source": [
    "data = { \"160\": [\"160\",\n",
    "450386.265 / 738920.093 * 100 ,\n",
    "450600.461 / 735594.535 * 100 ,\n",
    "450433.469 / 736353.245 * 100 ,\n",
    "],\n",
    "\"240\": [\"240\",\n",
    "450035.605 / 1100303.233 * 100 ,\n",
    "449921.486 / 1105513.42 * 100 ,\n",
    "450035.664 / 1100188.602 * 100 ,\n",
    "],\n",
    "\"320\": [\"320\",\n",
    "450110.088 / 1470773.837 * 100 ,\n",
    "450108.931 / 1483341.787 * 100 ,\n",
    "450261.954 / 1467181.085 * 100 ,\n",
    "], }\n",
    "df = pd.DataFrame.from_dict(data, orient='index', columns=['ratio','1st empirical (%)','2nd empirical (%)','3rd empirical (%)'])"
   ]
  },
  {
   "cell_type": "code",
   "execution_count": 3,
   "metadata": {},
   "outputs": [],
   "source": [
    "means=df.mean(axis=1)\n",
    "errors=df.std(axis=1)"
   ]
  },
  {
   "cell_type": "code",
   "execution_count": 4,
   "metadata": {},
   "outputs": [],
   "source": [
    "ttx_data = { \"160\": [\"160\",\n",
    "450386.265 ,\n",
    "450600.461 ,\n",
    "450433.469 ,\n",
    "],\n",
    "\"240\": [\"240\",\n",
    "450035.605  ,\n",
    "449921.486  ,\n",
    "450035.664 ,\n",
    "],\n",
    "\"320\": [\"320\",\n",
    "450110.088  ,\n",
    "450108.931  ,\n",
    "450261.954  ,\n",
    "], }\n",
    "ttx_df = pd.DataFrame.from_dict(ttx_data, orient='index', columns=['ratio','1st empirical (%)','2nd empirical (%)','3rd empirical (%)'])\n",
    "means_ttx=ttx_df.mean(axis=1)\n",
    "means_ttx /= 300"
   ]
  },
  {
   "cell_type": "code",
   "execution_count": 5,
   "metadata": {},
   "outputs": [
    {
     "data": {
      "image/png": "[encoded data removed]",
      "text/plain": [
       "<Figure size 432x288 with 2 Axes>"
      ]
     },
     "metadata": {
      "needs_background": "light"
     },
     "output_type": "display_data"
    }
   ],
   "source": [
    "fig, ax = plt.subplots()\n",
    "means.plot.bar(yerr=errors, ax=ax, capsize=4, rot=1)\n",
    "ax1 = ax.twinx()\n",
    "ax1_color = 'tab:blue'\n",
    "means_ttx.plot(ax=ax1, style='--', color=ax1_color, marker='o')\n",
    "ax.set_ylim(0,70)\n",
    "ax1.set_ylim(0, 1600)\n",
    "ax1.set_ylabel('TTX (s)', color=ax1_color)\n",
    "ax1.tick_params(axis='y', labelcolor=ax1_color)\n",
    "ax.set_xlabel(\"Ratio of concurrent task allocation to resource (task/cpu counts)\")\n",
    "ax.set_ylabel(\"Resource allocation (%)\")\n",
    "labels = [\"1.875 (300/160)\", \"1.25 (300/240)\" , \"1.0 (300/300)\"]\n",
    "ax.set_xticklabels(labels)\n",
    "ax.invert_xaxis()"
   ]
  },
  {
   "cell_type": "code",
   "execution_count": 6,
   "metadata": {},
   "outputs": [
    {
     "data": {
      "text/html": [
       "<div>\n",
       "<style scoped>\n",
       "    .dataframe tbody tr th:only-of-type {\n",
       "        vertical-align: middle;\n",
       "    }\n",
       "\n",
       "    .dataframe tbody tr th {\n",
       "        vertical-align: top;\n",
       "    }\n",
       "\n",
       "    .dataframe thead th {\n",
       "        text-align: right;\n",
       "    }\n",
       "</style>\n",
       "<table border=\"1\" class=\"dataframe\">\n",
       "  <thead>\n",
       "    <tr style=\"text-align: right;\">\n",
       "      <th></th>\n",
       "      <th>ratio</th>\n",
       "      <th>1st empirical (%)</th>\n",
       "      <th>2nd empirical (%)</th>\n",
       "      <th>3rd empirical (%)</th>\n",
       "      <th>means</th>\n",
       "      <th>errors</th>\n",
       "    </tr>\n",
       "  </thead>\n",
       "  <tbody>\n",
       "    <tr>\n",
       "      <th>160</th>\n",
       "      <td>160</td>\n",
       "      <td>60.951958</td>\n",
       "      <td>61.256635</td>\n",
       "      <td>61.170840</td>\n",
       "      <td>61.126478</td>\n",
       "      <td>0.157108</td>\n",
       "    </tr>\n",
       "    <tr>\n",
       "      <th>240</th>\n",
       "      <td>240</td>\n",
       "      <td>40.901053</td>\n",
       "      <td>40.697967</td>\n",
       "      <td>40.905320</td>\n",
       "      <td>40.834780</td>\n",
       "      <td>0.118503</td>\n",
       "    </tr>\n",
       "    <tr>\n",
       "      <th>320</th>\n",
       "      <td>320</td>\n",
       "      <td>30.603624</td>\n",
       "      <td>30.344249</td>\n",
       "      <td>30.688915</td>\n",
       "      <td>30.545596</td>\n",
       "      <td>0.179510</td>\n",
       "    </tr>\n",
       "  </tbody>\n",
       "</table>\n",
       "</div>"
      ],
      "text/plain": [
       "    ratio  1st empirical (%)  2nd empirical (%)  3rd empirical (%)      means  \\\n",
       "160   160          60.951958          61.256635          61.170840  61.126478   \n",
       "240   240          40.901053          40.697967          40.905320  40.834780   \n",
       "320   320          30.603624          30.344249          30.688915  30.545596   \n",
       "\n",
       "       errors  \n",
       "160  0.157108  \n",
       "240  0.118503  \n",
       "320  0.179510  "
      ]
     },
     "execution_count": 6,
     "metadata": {},
     "output_type": "execute_result"
    }
   ],
   "source": [
    "df['means'] = means\n",
    "df['errors'] = errors\n",
    "df"
   ]
  }
 ],
 "metadata": {
  "kernelspec": {
   "display_name": "Python 3",
   "language": "python",
   "name": "python3"
  },
  "language_info": {
   "codemirror_mode": {
    "name": "ipython",
    "version": 3
   },
   "file_extension": ".py",
   "mimetype": "text/x-python",
   "name": "python",
   "nbconvert_exporter": "python",
   "pygments_lexer": "ipython3",
   "version": "3.6.10"
  }
 },
 "nbformat": 4,
 "nbformat_minor": 2
}
