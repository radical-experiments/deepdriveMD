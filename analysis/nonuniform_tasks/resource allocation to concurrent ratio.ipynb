{
 "cells": [
  {
   "cell_type": "code",
   "execution_count": 1,
   "metadata": {},
   "outputs": [],
   "source": [
    "%matplotlib inline\n",
    "import pandas as pd\n",
    "import matplotlib.pyplot as plt"
   ]
  },
  {
   "cell_type": "code",
   "execution_count": 2,
   "metadata": {},
   "outputs": [],
   "source": [
    "data = { \"160\": [\"160\",\n",
    "450386.265 / 738920.093 * 100 ,\n",
    "450600.461 / 735594.535 * 100 ,\n",
    "450433.469 / 736353.245 * 100 ,\n",
    "],\n",
    "\"240\": [\"240\",\n",
    "450035.605 / 1100303.233 * 100 ,\n",
    "449921.486 / 1105513.42 * 100 ,\n",
    "450035.664 / 1100188.602 * 100 ,\n",
    "],\n",
    "\"320\": [\"320\",\n",
    "450110.088 / 1470773.837 * 100 ,\n",
    "450108.931 / 1483341.787 * 100 ,\n",
    "450261.954 / 1467181.085 * 100 ,\n",
    "], }\n",
    "df = pd.DataFrame.from_dict(data, orient='index', columns=['ratio','1st empirical (%)','2nd empirical (%)','3rd empirical (%)'])"
   ]
  },
  {
   "cell_type": "code",
   "execution_count": 3,
   "metadata": {},
   "outputs": [],
   "source": [
    "means=df.mean(axis=1)\n",
    "errors=df.std(axis=1)"
   ]
  },
  {
   "cell_type": "code",
   "execution_count": 6,
   "metadata": {},
   "outputs": [
    {
     "data": {
      "image/png": "[encoded data removed]",
      "text/plain": [
       "<Figure size 432x288 with 1 Axes>"
      ]
     },
     "metadata": {
      "needs_background": "light"
     },
     "output_type": "display_data"
    }
   ],
   "source": [
    "fig, ax = plt.subplots()\n",
    "means.plot.bar(yerr=errors, ax=ax, capsize=4, rot=1)\n",
    "ax.set_xlabel(\"Ratio of concurrent task allocation to resource (task/cpu counts)\")\n",
    "ax.set_ylabel(\"Resource allocation (%)\")\n",
    "labels = [\"1.875 (300/160)\", \"1.25 (300/240)\" , \"1.0 (300/300)\"]\n",
    "ax.set_xticklabels(labels)\n",
    "ax.invert_xaxis()"
   ]
  }
 ],
 "metadata": {
  "kernelspec": {
   "display_name": "Python 3",
   "language": "python",
   "name": "python3"
  },
  "language_info": {
   "codemirror_mode": {
    "name": "ipython",
    "version": 3
   },
   "file_extension": ".py",
   "mimetype": "text/x-python",
   "name": "python",
   "nbconvert_exporter": "python",
   "pygments_lexer": "ipython3",
   "version": "3.6.10"
  }
 },
 "nbformat": 4,
 "nbformat_minor": 2
}
