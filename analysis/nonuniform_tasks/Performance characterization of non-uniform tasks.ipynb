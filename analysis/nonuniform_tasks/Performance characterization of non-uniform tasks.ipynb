{
 "cells": [
  {
   "cell_type": "markdown",
   "metadata": {},
   "source": [
    "## Performance characterization\n",
    "\n",
    "Task heterogeneity with variant ratio shows different resource utilization. The gaps between empirical and theoretical lines may indicate overheads of processing tasks."
   ]
  },
  {
   "cell_type": "code",
   "execution_count": 2,
   "metadata": {},
   "outputs": [],
   "source": [
    "%matplotlib inline\n",
    "import pandas as pd"
   ]
  },
  {
   "cell_type": "markdown",
   "metadata": {},
   "source": [
    "## Configuration\n",
    "- 3 compute nodes: 40 cores * 3 (120 cores in total) \n",
    "- 120 tasks in total\n",
    "- 3 types of tasks; 1000s/100s/10s\n",
    "- ratio range from 1:1:1, 2:1:1, 4:1:1, and 10:1:1 (variant)\n",
    "\n"
   ]
  },
  {
   "cell_type": "markdown",
   "metadata": {},
   "source": [
    "### Equation for theoretical resource utilization\n",
    "\n",
    "$$RU (percentile) = 100 \\times (\\frac{T_A}{TTX} \\times \\frac{n_A}{N_{core}} + \\frac{T_B}{TTX} \\times \\frac{n_B}{N_{core}} + \\frac{T_C}{TTX} \\times \\frac{n_C}{N_{core}})$$"
   ]
  },
  {
   "cell_type": "code",
   "execution_count": 2,
   "metadata": {},
   "outputs": [],
   "source": [
    "data_1000s = {\"40-40-40\": \n",
    "              [\"1x (40-40-40)\", 28.148, 100 * ((1000/1000 * 40/120) + (100/1000 * 40/120) + (10/1000 * 40/120))],\n",
    "              \"60-30-30\": \n",
    "              [\"2x (60-30-30)\", 39.842, 100 * ((1000/1000 * 60/120) + (100/1000 * 30/120) + (10/1000 * 30/120))],\n",
    "              \"80-20-20\": \n",
    "              [\"4x (80-20-20)\", 51.362, 100 * ((1000/1000 * 80/120) + (100/1000 * 20/120) + (10/1000 * 20/120))],\n",
    "              \"100-10-10\": \n",
    "              [\"10x (100-10-10)\", 63.257, 100 * ((1000/1000 * 100/120) + (100/1000 * 10/120) + (10/1000 * 10/120))],\n",
    "             }\n",
    "df_1000s = pd.DataFrame.from_dict(data_1000s, orient='index', columns=['ratio','empirical (%)','theoretical (%)'])"
   ]
  },
  {
   "cell_type": "markdown",
   "metadata": {},
   "source": [
    "### 1000s weighted"
   ]
  },
  {
   "cell_type": "code",
   "execution_count": 3,
   "metadata": {},
   "outputs": [
    {
     "data": {
      "text/plain": [
       "Text(0, 0.5, '% of Resource Utilization')"
      ]
     },
     "execution_count": 3,
     "metadata": {},
     "output_type": "execute_result"
    },
    {
     "data": {
      "image/png": "[encoded data removed]",
      "text/plain": [
       "<Figure size 432x288 with 1 Axes>"
      ]
     },
     "metadata": {
      "needs_background": "light"
     },
     "output_type": "display_data"
    }
   ],
   "source": [
    "ax = df_1000s.plot.bar('ratio', rot=15)\n",
    "ax.set_xlabel(\"Ratio (1x to 10x)\")\n",
    "ax.set_ylabel(\"% of Resource Utilization\")"
   ]
  },
  {
   "cell_type": "code",
   "execution_count": 4,
   "metadata": {},
   "outputs": [
    {
     "data": {
      "text/html": [
       "<div>\n",
       "<style scoped>\n",
       "    .dataframe tbody tr th:only-of-type {\n",
       "        vertical-align: middle;\n",
       "    }\n",
       "\n",
       "    .dataframe tbody tr th {\n",
       "        vertical-align: top;\n",
       "    }\n",
       "\n",
       "    .dataframe thead th {\n",
       "        text-align: right;\n",
       "    }\n",
       "</style>\n",
       "<table border=\"1\" class=\"dataframe\">\n",
       "  <thead>\n",
       "    <tr style=\"text-align: right;\">\n",
       "      <th></th>\n",
       "      <th>ratio</th>\n",
       "      <th>empirical (%)</th>\n",
       "      <th>theoretical (%)</th>\n",
       "    </tr>\n",
       "  </thead>\n",
       "  <tbody>\n",
       "    <tr>\n",
       "      <th>40-40-40</th>\n",
       "      <td>1x (40-40-40)</td>\n",
       "      <td>28.148</td>\n",
       "      <td>37.00</td>\n",
       "    </tr>\n",
       "    <tr>\n",
       "      <th>60-30-30</th>\n",
       "      <td>2x (60-30-30)</td>\n",
       "      <td>39.842</td>\n",
       "      <td>52.75</td>\n",
       "    </tr>\n",
       "    <tr>\n",
       "      <th>80-20-20</th>\n",
       "      <td>4x (80-20-20)</td>\n",
       "      <td>51.362</td>\n",
       "      <td>68.50</td>\n",
       "    </tr>\n",
       "    <tr>\n",
       "      <th>100-10-10</th>\n",
       "      <td>10x (100-10-10)</td>\n",
       "      <td>63.257</td>\n",
       "      <td>84.25</td>\n",
       "    </tr>\n",
       "  </tbody>\n",
       "</table>\n",
       "</div>"
      ],
      "text/plain": [
       "                     ratio  empirical (%)  theoretical (%)\n",
       "40-40-40     1x (40-40-40)         28.148            37.00\n",
       "60-30-30     2x (60-30-30)         39.842            52.75\n",
       "80-20-20     4x (80-20-20)         51.362            68.50\n",
       "100-10-10  10x (100-10-10)         63.257            84.25"
      ]
     },
     "execution_count": 4,
     "metadata": {},
     "output_type": "execute_result"
    }
   ],
   "source": [
    "df_1000s"
   ]
  },
  {
   "cell_type": "code",
   "execution_count": 6,
   "metadata": {},
   "outputs": [],
   "source": [
    "data_100s = {\"40-40-40\": \n",
    "              [\"1x (40-40-40)\", 28.148, 100 * ((1000/1000 * 40/120) + (100/1000 * 40/120) + (10/1000 * 40/120))],\n",
    "              \"30-60-30\": \n",
    "              [\"2x (30-60-30)\", 22.734, 100 * ((1000/1000 * 30/120) + (100/1000 * 60/120) + (10/1000 * 30/120))],\n",
    "              \"20-80-20\": \n",
    "              [\"4x (20-80-20)\", 17.787, 100 * ((1000/1000 * 20/120) + (100/1000 * 80/120) + (10/1000 * 20/120))],\n",
    "              \"10-100-10\": \n",
    "              [\"10x (10-100-10)\", 12.661, 100 * ((1000/1000 * 10/120) + (100/1000 * 100/120) + (10/1000 * 10/120))],\n",
    "             }\n",
    "df_100s = pd.DataFrame.from_dict(data_100s, orient='index', columns=['ratio','empirical (%)','theoretical (%)'])"
   ]
  },
  {
   "cell_type": "markdown",
   "metadata": {},
   "source": [
    "### 100s weighted"
   ]
  },
  {
   "cell_type": "code",
   "execution_count": 7,
   "metadata": {},
   "outputs": [
    {
     "data": {
      "text/plain": [
       "Text(0, 0.5, '% of Resource Utilization')"
      ]
     },
     "execution_count": 7,
     "metadata": {},
     "output_type": "execute_result"
    },
    {
     "data": {
      "image/png": "[encoded data removed]",
      "text/plain": [
       "<Figure size 432x288 with 1 Axes>"
      ]
     },
     "metadata": {
      "needs_background": "light"
     },
     "output_type": "display_data"
    }
   ],
   "source": [
    "ax = df_100s.plot.bar('ratio', rot=15)\n",
    "ax.set_xlabel(\"Ratio (1x to 10x)\")\n",
    "ax.set_ylabel(\"% of Resource Utilization\")"
   ]
  },
  {
   "cell_type": "markdown",
   "metadata": {},
   "source": [
    "## New equation for resource utilization\n",
    "\n",
    "$$RU = {\\frac{(n_A \\times T_A + n_B \\times T_B + n_C \\times T_C )}{ N_{core} \\times TTX}}$$"
   ]
  },
  {
   "cell_type": "code",
   "execution_count": 9,
   "metadata": {},
   "outputs": [],
   "source": [
    "data_100s_2nd = {\"40-40-40\": \n",
    "              [\"1x (40-40-40)\", 40 * (1000 + 100 + 10) / 120 * 1000],\n",
    "              \"30-60-30\": \n",
    "              [\"2x (30-60-30)\", (30 * 1000 + 60 * 100 + 30 * 10) / 120 * 1000],\n",
    "              \"20-80-20\": \n",
    "              [\"4x (20-80-20)\", (20 * 1000 + 80 * 100 + 20 * 10) / 120 * 1000],\n",
    "              \"10-100-10\": \n",
    "              [\"10x (10-100-10)\", (10 * 1000 + 100 * 100 + 10 * 10) / 120 * 1000],\n",
    "             }\n",
    "df_100s_2nd = pd.DataFrame.from_dict(data_100s_2nd, orient='index', columns=['ratio','Theoretical-Jha'])"
   ]
  },
  {
   "cell_type": "code",
   "execution_count": 11,
   "metadata": {},
   "outputs": [
    {
     "data": {
      "text/plain": [
       "Text(0, 0.5, 'Resource Utilization')"
      ]
     },
     "execution_count": 11,
     "metadata": {},
     "output_type": "execute_result"
    },
    {
     "data": {
      "image/png": "[encoded data removed]",
      "text/plain": [
       "<Figure size 432x288 with 1 Axes>"
      ]
     },
     "metadata": {
      "needs_background": "light"
     },
     "output_type": "display_data"
    }
   ],
   "source": [
    "ax = df_100s_2nd.plot.bar('ratio', rot=15)\n",
    "ax.set_xlabel(\"Ratio (1x to 10x)\")\n",
    "ax.set_ylabel(\"Resource Utilization\")"
   ]
  },
  {
   "cell_type": "code",
   "execution_count": 7,
   "metadata": {},
   "outputs": [
    {
     "data": {
      "text/html": [
       "<div>\n",
       "<style scoped>\n",
       "    .dataframe tbody tr th:only-of-type {\n",
       "        vertical-align: middle;\n",
       "    }\n",
       "\n",
       "    .dataframe tbody tr th {\n",
       "        vertical-align: top;\n",
       "    }\n",
       "\n",
       "    .dataframe thead th {\n",
       "        text-align: right;\n",
       "    }\n",
       "</style>\n",
       "<table border=\"1\" class=\"dataframe\">\n",
       "  <thead>\n",
       "    <tr style=\"text-align: right;\">\n",
       "      <th></th>\n",
       "      <th>ratio</th>\n",
       "      <th>empirical (%)</th>\n",
       "      <th>theoretical (%)</th>\n",
       "    </tr>\n",
       "  </thead>\n",
       "  <tbody>\n",
       "    <tr>\n",
       "      <th>40-40-40</th>\n",
       "      <td>1x (40-40-40)</td>\n",
       "      <td>28.148</td>\n",
       "      <td>37.00</td>\n",
       "    </tr>\n",
       "    <tr>\n",
       "      <th>30-60-30</th>\n",
       "      <td>2x (30-60-30)</td>\n",
       "      <td>22.734</td>\n",
       "      <td>30.25</td>\n",
       "    </tr>\n",
       "    <tr>\n",
       "      <th>20-80-20</th>\n",
       "      <td>4x (20-80-20)</td>\n",
       "      <td>17.787</td>\n",
       "      <td>23.50</td>\n",
       "    </tr>\n",
       "    <tr>\n",
       "      <th>10-100-10</th>\n",
       "      <td>10x (10-100-10)</td>\n",
       "      <td>12.661</td>\n",
       "      <td>16.75</td>\n",
       "    </tr>\n",
       "  </tbody>\n",
       "</table>\n",
       "</div>"
      ],
      "text/plain": [
       "                     ratio  empirical (%)  theoretical (%)\n",
       "40-40-40     1x (40-40-40)         28.148            37.00\n",
       "30-60-30     2x (30-60-30)         22.734            30.25\n",
       "20-80-20     4x (20-80-20)         17.787            23.50\n",
       "10-100-10  10x (10-100-10)         12.661            16.75"
      ]
     },
     "execution_count": 7,
     "metadata": {},
     "output_type": "execute_result"
    }
   ],
   "source": [
    "df_100s"
   ]
  },
  {
   "cell_type": "code",
   "execution_count": 8,
   "metadata": {},
   "outputs": [],
   "source": [
    "data_10s = {\"40-40-40\": \n",
    "              [\"1x (40-40-40)\", 28.148, 100 * ((1000/1000 * 40/120) + (100/1000 * 40/120) + (10/1000 * 40/120))],\n",
    "              \"30-30-60\": \n",
    "              [\"2x (30-30-60)\", 21.106, 100 * ((1000/1000 * 30/120) + (100/1000 * 30/120) + (10/1000 * 60/120))],\n",
    "              \"20-20-80\": \n",
    "              [\"4x (20-20-80)\", 14.309, 100 * ((1000/1000 * 20/120) + (100/1000 * 20/120) + (10/1000 * 80/120))],\n",
    "              \"10-10-100\": \n",
    "              [\"10x (10-10-100)\", 7.550, 100 * ((1000/1000 * 10/120) + (100/1000 * 10/120) + (10/1000 * 100/120))],\n",
    "             }\n",
    "df_10s = pd.DataFrame.from_dict(data_10s, orient='index', columns=['ratio','empirical (%)','theoretical (%)'])"
   ]
  },
  {
   "cell_type": "markdown",
   "metadata": {},
   "source": [
    "### 10s weighted"
   ]
  },
  {
   "cell_type": "code",
   "execution_count": 9,
   "metadata": {},
   "outputs": [
    {
     "data": {
      "text/plain": [
       "Text(0, 0.5, '% of Resource Utilization')"
      ]
     },
     "execution_count": 9,
     "metadata": {},
     "output_type": "execute_result"
    },
    {
     "data": {
      "image/png": "[encoded data removed]",
      "text/plain": [
       "<Figure size 432x288 with 1 Axes>"
      ]
     },
     "metadata": {
      "needs_background": "light"
     },
     "output_type": "display_data"
    }
   ],
   "source": [
    "ax = df_10s.plot.bar('ratio', rot=15)\n",
    "ax.set_xlabel(\"Ratio (1x to 10x)\")\n",
    "ax.set_ylabel(\"% of Resource Utilization\")"
   ]
  },
  {
   "cell_type": "code",
   "execution_count": 10,
   "metadata": {},
   "outputs": [
    {
     "data": {
      "text/html": [
       "<div>\n",
       "<style scoped>\n",
       "    .dataframe tbody tr th:only-of-type {\n",
       "        vertical-align: middle;\n",
       "    }\n",
       "\n",
       "    .dataframe tbody tr th {\n",
       "        vertical-align: top;\n",
       "    }\n",
       "\n",
       "    .dataframe thead th {\n",
       "        text-align: right;\n",
       "    }\n",
       "</style>\n",
       "<table border=\"1\" class=\"dataframe\">\n",
       "  <thead>\n",
       "    <tr style=\"text-align: right;\">\n",
       "      <th></th>\n",
       "      <th>ratio</th>\n",
       "      <th>empirical (%)</th>\n",
       "      <th>theoretical (%)</th>\n",
       "    </tr>\n",
       "  </thead>\n",
       "  <tbody>\n",
       "    <tr>\n",
       "      <th>40-40-40</th>\n",
       "      <td>1x (40-40-40)</td>\n",
       "      <td>28.148</td>\n",
       "      <td>37.0</td>\n",
       "    </tr>\n",
       "    <tr>\n",
       "      <th>30-30-60</th>\n",
       "      <td>2x (30-30-60)</td>\n",
       "      <td>21.106</td>\n",
       "      <td>28.0</td>\n",
       "    </tr>\n",
       "    <tr>\n",
       "      <th>20-20-80</th>\n",
       "      <td>4x (20-20-80)</td>\n",
       "      <td>14.309</td>\n",
       "      <td>19.0</td>\n",
       "    </tr>\n",
       "    <tr>\n",
       "      <th>10-10-100</th>\n",
       "      <td>10x (10-10-100)</td>\n",
       "      <td>7.550</td>\n",
       "      <td>10.0</td>\n",
       "    </tr>\n",
       "  </tbody>\n",
       "</table>\n",
       "</div>"
      ],
      "text/plain": [
       "                     ratio  empirical (%)  theoretical (%)\n",
       "40-40-40     1x (40-40-40)         28.148             37.0\n",
       "30-30-60     2x (30-30-60)         21.106             28.0\n",
       "20-20-80     4x (20-20-80)         14.309             19.0\n",
       "10-10-100  10x (10-10-100)          7.550             10.0"
      ]
     },
     "execution_count": 10,
     "metadata": {},
     "output_type": "execute_result"
    }
   ],
   "source": [
    "df_10s"
   ]
  }
 ],
 "metadata": {
  "kernelspec": {
   "display_name": "Python 3",
   "language": "python",
   "name": "python3"
  },
  "language_info": {
   "codemirror_mode": {
    "name": "ipython",
    "version": 3
   },
   "file_extension": ".py",
   "mimetype": "text/x-python",
   "name": "python",
   "nbconvert_exporter": "python",
   "pygments_lexer": "ipython3",
   "version": "3.6.7"
  }
 },
 "nbformat": 4,
 "nbformat_minor": 1
}
