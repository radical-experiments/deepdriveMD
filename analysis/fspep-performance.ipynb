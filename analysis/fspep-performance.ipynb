{
 "cells": [
  {
   "cell_type": "markdown",
   "metadata": {},
   "source": [
    "# DeepDriveMD with fs-peptide"
   ]
  },
  {
   "cell_type": "markdown",
   "metadata": {},
   "source": [
    "## Configuration\n",
    "\n",
    "- Node count: 10 nodes on Summit, 60 GPUs\n",
    "- Iteration count: 5\n",
    "- contact matrix size: [22,22,1] for fs-peptide\n",
    "- Simulation length: 5ns for the first and then 1ns\n",
    "- Retraining interval: every 5th iteration i.e. iter1 out of 5 iterations\n",
    "- Walltime: 1+ hours\n"
   ]
  },
  {
   "cell_type": "code",
   "execution_count": 2,
   "metadata": {},
   "outputs": [],
   "source": [
    "import pandas as pd"
   ]
  },
  {
   "cell_type": "markdown",
   "metadata": {},
   "source": [
    "## Raw data (collected manually)"
   ]
  },
  {
   "cell_type": "code",
   "execution_count": 1,
   "metadata": {},
   "outputs": [
    {
     "data": {
      "text/plain": [
       "{'md': [349, 340, 420, 443, 785],\n",
       " 'hdf5': [4, 0, 0, 0, 0],\n",
       " 'cvae': [637, 0, 0, 0, 0],\n",
       " 'infer': [4, 5, 335, 334, 335]}"
      ]
     },
     "execution_count": 1,
     "metadata": {},
     "output_type": "execute_result"
    }
   ],
   "source": [
    "res={'md': [349, 340, 420, 443, 785], \n",
    "     'hdf5': [4, 0, 0, 0, 0], \n",
    "     'cvae': [637, 0, 0, 0, 0], \n",
    "     'infer': [4, 5, 335, 334, 335]}\n",
    "res"
   ]
  },
  {
   "cell_type": "markdown",
   "metadata": {},
   "source": [
    "## Accumulated stage durations"
   ]
  },
  {
   "cell_type": "code",
   "execution_count": 8,
   "metadata": {},
   "outputs": [
    {
     "data": {
      "text/plain": [
       "Text(0.5, 0, 'fs-pep/1hr/60GPUs')"
      ]
     },
     "execution_count": 8,
     "metadata": {},
     "output_type": "execute_result"
    },
    {
     "data": {
      "image/png": "[encoded data removed]",
      "text/plain": [
       "<Figure size 432x288 with 1 Axes>"
      ]
     },
     "metadata": {
      "needs_background": "light"
     },
     "output_type": "display_data"
    }
   ],
   "source": [
    "df = pd.DataFrame({\"OpenMM\": sum(res['md'])/3600,\n",
    "                  \"HDF5\":sum(res['hdf5'])/3600,\n",
    "                  \"CVAE\":sum(res['cvae'])/3600,\n",
    "                  \"INFER\":sum(res['infer'])/3600},index=[''])\n",
    "ax=df.plot.bar(rot=0)\n",
    "ax.set_ylabel('Duration in Hour')\n",
    "ax.set_xlabel('fs-pep/1hr/60GPUs')"
   ]
  },
  {
   "cell_type": "markdown",
   "metadata": {},
   "source": [
    "## Stage duration on each iteration"
   ]
  },
  {
   "cell_type": "code",
   "execution_count": 5,
   "metadata": {},
   "outputs": [],
   "source": [
    "index = [ \"iter-%s\" % x for x in range(1,6) ]"
   ]
  },
  {
   "cell_type": "code",
   "execution_count": 9,
   "metadata": {},
   "outputs": [
    {
     "data": {
      "text/plain": [
       "Text(0, 0.5, 'Duration in Minute')"
      ]
     },
     "execution_count": 9,
     "metadata": {},
     "output_type": "execute_result"
    },
    {
     "data": {
      "image/png": "[encoded data removed]",
      "text/plain": [
       "<Figure size 1080x360 with 1 Axes>"
      ]
     },
     "metadata": {
      "needs_background": "light"
     },
     "output_type": "display_data"
    }
   ],
   "source": [
    "df = pd.DataFrame({\"OpenMM\": [ x / 60 for x in res['md']],\n",
    "                  \"HDF5\":[ x / 60 for x in res['hdf5']],\n",
    "                  \"CVAE\":[ x / 60 for x in res['cvae']],\n",
    "                  \"INFER\":[ x / 60 for x in res['infer']]}, index=index)\n",
    "ax=df.plot.bar(rot=0,figsize=(15,5))\n",
    "ax.set_xlabel(\"System: fs-pep / Total runtime: 1 Hour / Total GPUs: 60\")\n",
    "ax.set_ylabel('Duration in Minute')"
   ]
  },
  {
   "cell_type": "markdown",
   "metadata": {},
   "source": [
    "## TTX in seconds"
   ]
  },
  {
   "cell_type": "code",
   "execution_count": 7,
   "metadata": {},
   "outputs": [
    {
     "data": {
      "text/plain": [
       "3991"
      ]
     },
     "execution_count": 7,
     "metadata": {},
     "output_type": "execute_result"
    }
   ],
   "source": [
    "ttx=0\n",
    "for x in res:\n",
    "    ttx += sum(res[x])\n",
    "ttx"
   ]
  }
 ],
 "metadata": {
  "kernelspec": {
   "display_name": "Python 3",
   "language": "python",
   "name": "python3"
  },
  "language_info": {
   "codemirror_mode": {
    "name": "ipython",
    "version": 3
   },
   "file_extension": ".py",
   "mimetype": "text/x-python",
   "name": "python",
   "nbconvert_exporter": "python",
   "pygments_lexer": "ipython3",
   "version": "3.6.10"
  }
 },
 "nbformat": 4,
 "nbformat_minor": 2
}
