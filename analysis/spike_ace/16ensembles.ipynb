{
 "cells": [
  {
   "cell_type": "code",
   "execution_count": 1,
   "metadata": {},
   "outputs": [],
   "source": [
    "import pandas as pd"
   ]
  },
  {
   "cell_type": "code",
   "execution_count": 2,
   "metadata": {},
   "outputs": [],
   "source": [
    "data = {\n",
    "    \"1 ensemble\": {'md_counts':1,\n",
    "                   'node_counts': 64,\n",
    "                  'durations': {\"unit.000000\":828,\n",
    "\"unit.000001\":699,\n",
    "\"unit.000002\":36,\n",
    "\"unit.000003\":695,\n",
    "}},\n",
    "    \"4 ensembles\": {'md_counts':4,\n",
    "                    'node_counts': 256,\n",
    "                    'durations': {\n",
    "                        \"unit.000000\":828,\n",
    "                        \"unit.000001\":832,\n",
    "                        \"unit.000002\":829,\n",
    "                        \"unit.000003\":836,\n",
    "                        \"unit.000004\":1288,\n",
    "                        \"unit.000005\":48,\n",
    "                        \"unit.000006\":730,\n",
    "                    }},\n",
    "    \"8 ensembles\": {\"md_counts\":8,\n",
    "                    'node_counts': 512,\n",
    "                   'durations':{\"unit.000000\":828,\n",
    "\"unit.000001\":828,\n",
    "\"unit.000002\":833,\n",
    "\"unit.000003\":827,\n",
    "\"unit.000004\":829,\n",
    "\"unit.000005\":830,\n",
    "\"unit.000006\":830,\n",
    "\"unit.000007\":837,\n",
    "\"unit.000008\":3460,\n",
    "\"unit.000009\":49,\n",
    "\"unit.000010\":6,\n",
    "}},\n",
    "\"16 ensembles\": {\"md_counts\": 16,\n",
    "                 'node_counts': 1024,\n",
    "                'durations': {\"unit.000000\":829,\n",
    "\"unit.000001\":828,\n",
    "\"unit.000002\":826,\n",
    "\"unit.000003\":827,\n",
    "\"unit.000004\":1661,\n",
    "\"unit.000005\":1655,\n",
    "\"unit.000006\":1653,\n",
    "\"unit.000007\":1654,\n",
    "\"unit.000008\":1654,\n",
    "\"unit.000009\":1653,\n",
    "\"unit.000010\":1651,\n",
    "\"unit.000011\":1649,\n",
    "\"unit.000012\":1654,\n",
    "\"unit.000013\":1650,\n",
    "\"unit.000014\":1656,\n",
    "\"unit.000015\":1651,\n",
    "\"unit.000016\":3466,\n",
    "\"unit.000017\":78,\n",
    "\"unit.000018\":9,\n",
    "}}}"
   ]
  },
  {
   "cell_type": "code",
   "execution_count": 3,
   "metadata": {},
   "outputs": [],
   "source": [
    "mdruns = []\n",
    "aggregations = []\n",
    "aaes = []\n",
    "outliers = []\n",
    "for k, v in data.items():\n",
    "    md_cnt = v['md_counts']\n",
    "    avg = []\n",
    "    aggregation = aae = outlier = 0 \n",
    "    for k2, v2 in v['durations'].items():\n",
    "        if md_cnt > 0:\n",
    "            avg.append(v2)\n",
    "        elif md_cnt == 0:\n",
    "            aggregation = v2\n",
    "        elif md_cnt == -1:   \n",
    "            aae = v2\n",
    "        else:\n",
    "            outlier = v2\n",
    "        md_cnt -= 1\n",
    "    mdruns.append(sum(avg)//len(avg))\n",
    "    aggregations.append(aggregation)\n",
    "    aaes.append(aae)\n",
    "    outliers.append(outlier)"
   ]
  },
  {
   "cell_type": "code",
   "execution_count": 11,
   "metadata": {},
   "outputs": [],
   "source": [
    "df = pd.DataFrame({\"NAMD\":mdruns, \n",
    "                  \"Preprocessing\":aggregations,\n",
    "                  \"Training\": aaes,\n",
    "                  \"Outlier\": outliers},\n",
    "                 index = data.keys())"
   ]
  },
  {
   "cell_type": "code",
   "execution_count": 16,
   "metadata": {},
   "outputs": [
    {
     "data": {
      "text/html": [
       "<div>\n",
       "<style scoped>\n",
       "    .dataframe tbody tr th:only-of-type {\n",
       "        vertical-align: middle;\n",
       "    }\n",
       "\n",
       "    .dataframe tbody tr th {\n",
       "        vertical-align: top;\n",
       "    }\n",
       "\n",
       "    .dataframe thead th {\n",
       "        text-align: right;\n",
       "    }\n",
       "</style>\n",
       "<table border=\"1\" class=\"dataframe\">\n",
       "  <thead>\n",
       "    <tr style=\"text-align: right;\">\n",
       "      <th></th>\n",
       "      <th>NAMD</th>\n",
       "      <th>Preprocessing</th>\n",
       "      <th>Training</th>\n",
       "      <th>Outlier</th>\n",
       "    </tr>\n",
       "  </thead>\n",
       "  <tbody>\n",
       "    <tr>\n",
       "      <th>1 ensemble</th>\n",
       "      <td>828</td>\n",
       "      <td>699</td>\n",
       "      <td>36</td>\n",
       "      <td>695</td>\n",
       "    </tr>\n",
       "    <tr>\n",
       "      <th>4 ensembles</th>\n",
       "      <td>831</td>\n",
       "      <td>1288</td>\n",
       "      <td>48</td>\n",
       "      <td>730</td>\n",
       "    </tr>\n",
       "    <tr>\n",
       "      <th>8 ensembles</th>\n",
       "      <td>830</td>\n",
       "      <td>3460</td>\n",
       "      <td>49</td>\n",
       "      <td>6</td>\n",
       "    </tr>\n",
       "    <tr>\n",
       "      <th>16 ensembles</th>\n",
       "      <td>1446</td>\n",
       "      <td>3466</td>\n",
       "      <td>78</td>\n",
       "      <td>9</td>\n",
       "    </tr>\n",
       "  </tbody>\n",
       "</table>\n",
       "</div>"
      ],
      "text/plain": [
       "              NAMD  Preprocessing  Training  Outlier\n",
       "1 ensemble     828            699        36      695\n",
       "4 ensembles    831           1288        48      730\n",
       "8 ensembles    830           3460        49        6\n",
       "16 ensembles  1446           3466        78        9"
      ]
     },
     "execution_count": 16,
     "metadata": {},
     "output_type": "execute_result"
    },
    {
     "data": {
      "image/png": "[encoded data removed]",
      "text/plain": [
       "<Figure size 720x288 with 1 Axes>"
      ]
     },
     "metadata": {
      "needs_background": "light"
     },
     "output_type": "display_data"
    }
   ],
   "source": [
    "ax=df.plot.bar(stacked=True, rot=0, figsize=(10,4), edgecolor='black')\n",
    "ax.grid('on', which='minor', axis='x' )\n",
    "ax.grid('off', which='major', axis='x' )\n",
    "ax.set_ylabel('Execution time (s)')\n",
    "ax.set_xticklabels(['1 ensemble / 64 nodes', '4 ensembles / 256 nodes', '8 ensembles / 512 nodes', '16 ensembles / 1024 nodes'])\n",
    "df"
   ]
  },
  {
   "cell_type": "markdown",
   "metadata": {},
   "source": [
    "* 8 and 16 ensembles do not have outlier data\n",
    "* NAMD runs on 16 ensembles show 1.7x overhead\n",
    "* Preprocessing can be efficient with a better implementation taking new data only for the concatenation with existing data set"
   ]
  }
 ],
 "metadata": {
  "kernelspec": {
   "display_name": "Python 3",
   "language": "python",
   "name": "python3"
  },
  "language_info": {
   "codemirror_mode": {
    "name": "ipython",
    "version": 3
   },
   "file_extension": ".py",
   "mimetype": "text/x-python",
   "name": "python",
   "nbconvert_exporter": "python",
   "pygments_lexer": "ipython3",
   "version": "3.7.9"
  }
 },
 "nbformat": 4,
 "nbformat_minor": 4
}
