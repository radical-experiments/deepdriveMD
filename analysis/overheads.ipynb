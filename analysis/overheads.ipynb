{
 "cells": [
  {
   "cell_type": "code",
   "execution_count": 1,
   "metadata": {},
   "outputs": [
    {
     "data": {
      "text/html": [
       "<style>.container { width:100% !important; }</style>"
      ],
      "text/plain": [
       "<IPython.core.display.HTML object>"
      ]
     },
     "metadata": {},
     "output_type": "display_data"
    }
   ],
   "source": [
    "%matplotlib inline\n",
    "%run 'bin/notebook_utils.py'"
   ]
  },
  {
   "cell_type": "code",
   "execution_count": 2,
   "metadata": {},
   "outputs": [],
   "source": [
    "# 20 nodes JSRUN\n",
    "exp1_sessions = pd.read_csv('../data/exp1/sessions.csv', index_col=0)\n",
    "exp1_pilots = pd.read_csv('../data/exp1/pilots.csv', index_col=0)\n",
    "exp1_units = pd.read_csv('../data/exp1/units.csv', index_col=0)"
   ]
  },
  {
   "cell_type": "code",
   "execution_count": 3,
   "metadata": {},
   "outputs": [],
   "source": [
    "# Cleanup Exp4 spurious runs\n",
    "# exp4_sessions.drop('rp.session.login4.mturilli1.018122.0001', axis=0, inplace=True)\n",
    "# exp4_sessions.drop('rp.session.login4.mturilli1.018122.0000', axis=0, inplace=True)\n",
    "# exp4_sessions.drop('rp.session.login4.mturilli1.018127.0003', axis=0, inplace=True)"
   ]
  },
  {
   "cell_type": "code",
   "execution_count": 4,
   "metadata": {},
   "outputs": [
    {
     "name": "stdout",
     "output_type": "stream",
     "text": [
      "Experiment 1: Baseline: Total number of successful runs: 1\n",
      "Experiment 1: Baseline: Total number of pilots: 1\n",
      "Experiment 1: Baseline: Total number of units: 736\n",
      "\n"
     ]
    }
   ],
   "source": [
    "print 'Experiment 1: Baseline: Total number of successful runs: %s' % exp1_sessions.shape[0]\n",
    "print 'Experiment 1: Baseline: Total number of pilots: %s' % exp1_pilots.shape[0]\n",
    "print 'Experiment 1: Baseline: Total number of units: %s\\n' % exp1_units.shape[0]"
   ]
  },
  {
   "cell_type": "code",
   "execution_count": 5,
   "metadata": {},
   "outputs": [
    {
     "data": {
      "text/html": [
       "<div>\n",
       "<style scoped>\n",
       "    .dataframe tbody tr th:only-of-type {\n",
       "        vertical-align: middle;\n",
       "    }\n",
       "\n",
       "    .dataframe tbody tr th {\n",
       "        vertical-align: top;\n",
       "    }\n",
       "\n",
       "    .dataframe thead tr th {\n",
       "        text-align: left;\n",
       "    }\n",
       "\n",
       "    .dataframe thead tr:last-of-type th {\n",
       "        text-align: right;\n",
       "    }\n",
       "</style>\n",
       "<table border=\"1\" class=\"dataframe\">\n",
       "  <thead>\n",
       "    <tr>\n",
       "      <th></th>\n",
       "      <th></th>\n",
       "      <th colspan=\"2\" halign=\"left\">TTQ</th>\n",
       "      <th>nunit_failed</th>\n",
       "      <th colspan=\"2\" halign=\"left\">TTC</th>\n",
       "      <th colspan=\"2\" halign=\"left\">Agent scheduling</th>\n",
       "      <th colspan=\"2\" halign=\"left\">TTX Unit</th>\n",
       "      <th colspan=\"2\" halign=\"left\">Agent queueing</th>\n",
       "      <th colspan=\"2\" halign=\"left\">Agent queueing execution</th>\n",
       "      <th colspan=\"2\" halign=\"left\">TTX Agent</th>\n",
       "    </tr>\n",
       "    <tr>\n",
       "      <th></th>\n",
       "      <th></th>\n",
       "      <th>mean</th>\n",
       "      <th>std</th>\n",
       "      <th>mean</th>\n",
       "      <th>mean</th>\n",
       "      <th>std</th>\n",
       "      <th>mean</th>\n",
       "      <th>std</th>\n",
       "      <th>mean</th>\n",
       "      <th>std</th>\n",
       "      <th>mean</th>\n",
       "      <th>std</th>\n",
       "      <th>mean</th>\n",
       "      <th>std</th>\n",
       "      <th>mean</th>\n",
       "      <th>std</th>\n",
       "    </tr>\n",
       "    <tr>\n",
       "      <th>nunit</th>\n",
       "      <th>nunitnode</th>\n",
       "      <th></th>\n",
       "      <th></th>\n",
       "      <th></th>\n",
       "      <th></th>\n",
       "      <th></th>\n",
       "      <th></th>\n",
       "      <th></th>\n",
       "      <th></th>\n",
       "      <th></th>\n",
       "      <th></th>\n",
       "      <th></th>\n",
       "      <th></th>\n",
       "      <th></th>\n",
       "      <th></th>\n",
       "      <th></th>\n",
       "    </tr>\n",
       "  </thead>\n",
       "  <tbody>\n",
       "    <tr>\n",
       "      <th>736</th>\n",
       "      <th>736/5</th>\n",
       "      <td>766.598583</td>\n",
       "      <td>NaN</td>\n",
       "      <td>2</td>\n",
       "      <td>1.566407e+09</td>\n",
       "      <td>NaN</td>\n",
       "      <td>2.108758</td>\n",
       "      <td>NaN</td>\n",
       "      <td>45038.155729</td>\n",
       "      <td>NaN</td>\n",
       "      <td>0.235149</td>\n",
       "      <td>NaN</td>\n",
       "      <td>10.577011</td>\n",
       "      <td>NaN</td>\n",
       "      <td>45083.610606</td>\n",
       "      <td>NaN</td>\n",
       "    </tr>\n",
       "  </tbody>\n",
       "</table>\n",
       "</div>"
      ],
      "text/plain": [
       "                        TTQ     nunit_failed           TTC     Agent scheduling          TTX Unit     Agent queueing     Agent queueing execution         TTX Agent    \n",
       "                       mean std         mean          mean std             mean std          mean std           mean std                     mean std          mean std\n",
       "nunit nunitnode                                                                                                                                                        \n",
       "736   736/5      766.598583 NaN            2  1.566407e+09 NaN         2.108758 NaN  45038.155729 NaN       0.235149 NaN                10.577011 NaN  45083.610606 NaN"
      ]
     },
     "execution_count": 5,
     "metadata": {},
     "output_type": "execute_result"
    }
   ],
   "source": [
    "exp1_sessions['nnode'] = exp1_sessions.ncore/168\n",
    "exp1_sessions['list'] = exp1_sessions[['nunit','nnode']].astype(int, errors='ignore').astype('str').values.tolist()\n",
    "exp1_sessions['nunitnode'] = exp1_sessions['list'].apply('/'.join)\n",
    "\n",
    "exp1_ws = exp1_sessions[['nunit','nunitnode','TTC','P_LRMS_QUEUING','U_AGENT_QUEUING',\n",
    "                         'U_AGENT_SCHEDULING','U_AGENT_QUEUING_EXEC','U_AGENT_EXECUTING',\n",
    "                         'cu_exec_start_stop','nunit_failed']\n",
    "                       ].groupby(['nunit','nunitnode']).aggregate(\n",
    "                {'TTC'                 : ['mean','std'],\n",
    "                 'P_LRMS_QUEUING'      : ['mean','std'],\n",
    "                 'U_AGENT_QUEUING'     : ['mean','std'],\n",
    "                 'U_AGENT_SCHEDULING'  : ['mean','std'],\n",
    "                 'U_AGENT_QUEUING_EXEC': ['mean','std'],\n",
    "                 'U_AGENT_EXECUTING'   : ['mean','std'],\n",
    "                 'cu_exec_start_stop'  : ['mean','std'],\n",
    "                 'nunit_failed'        : ['mean']\n",
    "                })\n",
    "\n",
    "exp1_ws.rename({'P_LRMS_QUEUING'      :'TTQ'}, axis='columns', inplace=True)\n",
    "exp1_ws.rename({'U_AGENT_QUEUING'     :'Agent queueing'}, axis='columns', inplace=True)\n",
    "exp1_ws.rename({'U_AGENT_SCHEDULING'  :'Agent scheduling'}, axis='columns', inplace=True)\n",
    "exp1_ws.rename({'U_AGENT_QUEUING_EXEC':'Agent queueing execution'}, axis='columns', inplace=True)\n",
    "exp1_ws.rename({'U_AGENT_EXECUTING'   :'TTX Agent'}, axis='columns', inplace=True)\n",
    "exp1_ws.rename({'cu_exec_start_stop'  :'TTX Unit'}, axis='columns', inplace=True)\n",
    "exp1_ws = exp1_ws.sort_values(\"nunit\")\n",
    "exp1_ws"
   ]
  },
  {
   "cell_type": "code",
   "execution_count": 6,
   "metadata": {},
   "outputs": [
    {
     "data": {
      "text/html": [
       "<div>\n",
       "<style scoped>\n",
       "    .dataframe tbody tr th:only-of-type {\n",
       "        vertical-align: middle;\n",
       "    }\n",
       "\n",
       "    .dataframe tbody tr th {\n",
       "        vertical-align: top;\n",
       "    }\n",
       "\n",
       "    .dataframe thead th {\n",
       "        text-align: right;\n",
       "    }\n",
       "</style>\n",
       "<table border=\"1\" class=\"dataframe\">\n",
       "  <thead>\n",
       "    <tr style=\"text-align: right;\">\n",
       "      <th></th>\n",
       "      <th>nunit</th>\n",
       "      <th>nunitnode</th>\n",
       "      <th>TTQ mean</th>\n",
       "      <th>TTQ std</th>\n",
       "      <th>nunit_failed mean</th>\n",
       "      <th>TTC mean</th>\n",
       "      <th>TTC std</th>\n",
       "      <th>Agent scheduling mean</th>\n",
       "      <th>Agent scheduling std</th>\n",
       "      <th>TTX Unit mean</th>\n",
       "      <th>TTX Unit std</th>\n",
       "      <th>Agent queueing mean</th>\n",
       "      <th>Agent queueing std</th>\n",
       "      <th>Agent queueing execution mean</th>\n",
       "      <th>Agent queueing execution std</th>\n",
       "      <th>TTX Agent mean</th>\n",
       "      <th>TTX Agent std</th>\n",
       "    </tr>\n",
       "  </thead>\n",
       "  <tbody>\n",
       "    <tr>\n",
       "      <th>0</th>\n",
       "      <td>736</td>\n",
       "      <td>736/5</td>\n",
       "      <td>766.598583</td>\n",
       "      <td>NaN</td>\n",
       "      <td>2.0</td>\n",
       "      <td>1.566407e+09</td>\n",
       "      <td>NaN</td>\n",
       "      <td>2.108758</td>\n",
       "      <td>NaN</td>\n",
       "      <td>45038.155729</td>\n",
       "      <td>NaN</td>\n",
       "      <td>0.235149</td>\n",
       "      <td>NaN</td>\n",
       "      <td>10.577011</td>\n",
       "      <td>NaN</td>\n",
       "      <td>58.375794</td>\n",
       "      <td>NaN</td>\n",
       "    </tr>\n",
       "  </tbody>\n",
       "</table>\n",
       "</div>"
      ],
      "text/plain": [
       "   nunit nunitnode    TTQ mean  TTQ std  nunit_failed mean      TTC mean  TTC std  Agent scheduling mean  Agent scheduling std  TTX Unit mean  TTX Unit std  Agent queueing mean  Agent queueing std  Agent queueing execution mean  Agent queueing execution std  TTX Agent mean  TTX Agent std\n",
       "0    736     736/5  766.598583      NaN                2.0  1.566407e+09      NaN               2.108758                   NaN   45038.155729           NaN             0.235149                 NaN                      10.577011                           NaN       58.375794            NaN"
      ]
     },
     "execution_count": 6,
     "metadata": {},
     "output_type": "execute_result"
    }
   ],
   "source": [
    "# Total agent time = \n",
    "#    ru.STATE: rp.AGENT_SCHEDULING             - ru.STATE: rp.AGENT_SCHEDULING_PENDING +\n",
    "#    ru.STATE: rp.AGENT_EXECUTING_PENDING      - ru.STATE: rp.AGENT_SCHEDULING         +\n",
    "#    ru.STATE: rp.AGENT_EXECUTING              - ru.STATE: rp.AGENT_EXECUTING_PENDING  +\n",
    "#    ru.STATE: rp.AGENT_STAGING_OUTPUT_PENDING - ru.STATE: rp.AGENT_EXECUTING          -\n",
    "#    ru.EVENT: 'cu_exec_stop'                  - ru.EVENT: 'cu_exec_start'\n",
    "#\n",
    "# Total task execution time = 900 (derived analytically from the time passed to stress)\n",
    "\n",
    "oh1 = exp1_ws.copy(deep=True)\n",
    "oh1.loc[:,('TTX Agent','mean')] = (oh1.loc[:,('Agent queueing','mean')]            + \\\n",
    "                                   oh1.loc[:,('Agent scheduling','mean')]          + \\\n",
    "                                   oh1.loc[:,('Agent queueing execution','mean')]) + \\\n",
    "                                  oh1.loc[:,('TTX Agent','mean')]                  - \\\n",
    "                                  oh1.loc[:,('TTX Unit','mean')]\n",
    "\n",
    "oh1.loc[:,('nunit_failed','mean')] = oh1.loc[:,('nunit_failed','mean')].apply(np.ceil)\n",
    "\n",
    "oh1.columns = [' '.join(col).strip() for col in oh1.columns.values]\n",
    "\n",
    "oh1 = oh1.sort_values(\"nunit\")\n",
    "oh1 = oh1.reset_index()\n",
    "oh1"
   ]
  },
  {
   "cell_type": "code",
   "execution_count": 7,
   "metadata": {},
   "outputs": [
    {
     "name": "stderr",
     "output_type": "stream",
     "text": [
      "/Users/mturilli/Virtualenvs/summit_jsrun_prte/lib/python2.7/site-packages/matplotlib/font_manager.py:1331: UserWarning: findfont: Font family [u'serif'] not found. Falling back to DejaVu Sans\n",
      "  (prop.get_family(), self.defaultFamily[fontext]))\n"
     ]
    },
    {
     "data": {
      "image/png": "[encoded data removed]",
      "text/plain": [
       "<Figure size 936x432 with 1 Axes>"
      ]
     },
     "metadata": {
      "needs_background": "light"
     },
     "output_type": "display_data"
    }
   ],
   "source": [
    "fig, ax = fig_setup(figsize=(13,6))\n",
    "\n",
    "# oh = oh.fillna(0)\n",
    "\n",
    "oh1.plot.bar(\n",
    "    x = 'nunitnode', \n",
    "    y = 'TTX Unit mean', \n",
    "#     yerr= 'TTX Unit std',\n",
    "#     logy=True,\n",
    "#     stacked=True,\n",
    "    width = 0.1, color = tableau20[3], ax = ax, rot = 45)\n",
    "\n",
    "ax.set_xlabel('Number of Tasks/Nodes')\n",
    "ax.set_ylabel('Time (s)')\n",
    "ax.set_ylim(0)\n",
    "# ax.set_xlim(-0.5)\n",
    "\n",
    "plt.savefig('figures/paper_hyperrct_weak_scaling_ttx_subagent.pdf', dpi=300, bbox_inches='tight')\n",
    "plt.savefig('figures/paper_hyperrct_weak_scaling_ttx_subagent.png', dpi=300, bbox_inches='tight')"
   ]
  },
  {
   "cell_type": "code",
   "execution_count": 8,
   "metadata": {},
   "outputs": [
    {
     "data": {
      "image/png": "[encoded data removed]",
      "text/plain": [
       "<Figure size 936x432 with 1 Axes>"
      ]
     },
     "metadata": {
      "needs_background": "light"
     },
     "output_type": "display_data"
    }
   ],
   "source": [
    "fig, ax = fig_setup(figsize=(13,6))\n",
    "\n",
    "# oh = oh.fillna(0)\n",
    "\n",
    "oh1.plot.bar(\n",
    "    x = 'nunitnode', \n",
    "    y = 'TTX Agent mean', \n",
    "#     yerr = 'TTX Agent std']],\n",
    "#     logy=True,\n",
    "#     stacked=True,\n",
    "    width=0.1, color=tableau20[2], ax=ax, rot=45)\n",
    "\n",
    "\n",
    "ax.set_xlabel('Number of Tasks/Nodes')\n",
    "ax.set_ylabel('Time (s)')\n",
    "ax.set_ylim(0)\n",
    "# ax.set_xlim(-0.5)\n",
    "\n",
    "plt.savefig('figures/paper_hyperrct_weak_scaling_rp_overhead_subagent.pdf', dpi=300, bbox_inches='tight')\n",
    "plt.savefig('figures/paper_hyperrct_weak_scaling_rp_overhead_subagent.png', dpi=300, bbox_inches='tight')"
   ]
  },
  {
   "cell_type": "code",
   "execution_count": 9,
   "metadata": {},
   "outputs": [],
   "source": [
    "# oh4_prrte.rename({'sending launch msg mean': 'pending app launch $>$ sending launch msg'}, axis='columns', inplace=True)\n",
    "# oh4_prrte.rename({'prte running 0 mean'    : 'sending launch msg $>$ running'}, axis='columns', inplace=True)\n",
    "# oh4_prrte.rename({'notify completed mean'  : 'normally terminated $>$ notify completed'}, axis='columns', inplace=True)\n",
    "\n",
    "# oh4_prrte['other'] = (oh4_prrte['pending allocation mean']        + \\\n",
    "#                       oh4_prrte['allocation complete mean']       + \\\n",
    "#                       oh4_prrte['pending daemon launch mean']     + \\\n",
    "#                       oh4_prrte['all daemons reported mean']      + \\\n",
    "#                       oh4_prrte['vm ready mean']                  + \\\n",
    "#                       oh4_prrte['pending mapping mean']           + \\\n",
    "#                       oh4_prrte['prte map complete mean']         + \\\n",
    "#                       oh4_prrte['pending final system prep mean'] + \\\n",
    "#                       oh4_prrte['pending app launch mean']        + \\\n",
    "#                       oh4_prrte['launch complete mean']           + \\\n",
    "#                       oh4_prrte['prte running 1 mean']            + \\\n",
    "#                       oh4_prrte['prte running 2 mean']            + \\\n",
    "#                       # oh4_prrte['iof complete mean']            + \\\n",
    "#                       oh4_prrte['waitpid fired mean']             + \\\n",
    "#                       oh4_prrte['normally terminated 0 mean']     + \\\n",
    "#                       oh4_prrte['normally terminated 1 mean']     + \\\n",
    "#                       oh4_prrte['normally terminated 2 mean'])"
   ]
  },
  {
   "cell_type": "code",
   "execution_count": 10,
   "metadata": {},
   "outputs": [],
   "source": [
    "# fig, ax = fig_setup(figsize=(13,4))\n",
    "\n",
    "# oh4_prrte.plot.bar(x='nunitnode', \n",
    "#                    y=[\n",
    "# #                       'pending allocation mean', \n",
    "# #                       'allocation complete mean', \n",
    "# #                       'pending daemon launch mean', \n",
    "# #                       'all daemons reported mean', \n",
    "# #                       'vm ready mean', \n",
    "# #                       'pending mapping mean', \n",
    "# #                       'prte map complete mean', \n",
    "# #                       'pending final system prep mean', \n",
    "# #                       'pending app launch mean', \n",
    "#                       'pending app launch $>$ sending launch msg', #'sending launch msg mean', \n",
    "#                       'sending launch msg $>$ running',            # 'prte running 0 mean', \n",
    "# #                       'launch complete mean', \n",
    "# #                       'prte running 1 mean', \n",
    "# #                       'prte running 2 mean', \n",
    "# #                       'iof complete mean', \n",
    "# #                       'waitpid fired mean', \n",
    "# #                       'normally terminated 0 mean',\n",
    "# #                       'normally terminated 1 mean', \n",
    "# #                       'normally terminated 2 mean', \n",
    "#                       'normally terminated $>$ notify completed', # 'notify completed mean',\n",
    "#                       'other'],\n",
    "# #                  yerr=oh4_prrte.filter(like='std'),\n",
    "#                    stacked=True, \n",
    "# #                  logy=True, \n",
    "#                    width=0.5, color=[tableau20[12],tableau20[8],tableau20[16],tableau20[20]], ax=ax, rot=45)\n",
    "\n",
    "# ax.set_xlabel('Number of Tasks/Nodes')\n",
    "# ax.set_ylabel('Time (s)')\n",
    "\n",
    "# plt.savefig('figures/paper_prrte_weak_scaling_prrte_events.pdf', dpi=300, bbox_inches='tight')\n",
    "# plt.savefig('figures/paper_prrte_weak_scaling_prrte_events.png', dpi=300, bbox_inches='tight')"
   ]
  },
  {
   "cell_type": "code",
   "execution_count": 11,
   "metadata": {},
   "outputs": [
    {
     "name": "stdout",
     "output_type": "stream",
     "text": [
      "WARNING: profile \"../data/exp1/re.session.login3.hrlee.018129.0000/pilot.0000/agent_0.executing.0.child.prof\" not correctly closed.\n",
      "WARNING: profile \"../data/exp1/re.session.login3.hrlee.018129.0000/pilot.0000/agent_0.staging.input.0.child.prof\" not correctly closed.\n"
     ]
    }
   ],
   "source": [
    "# Load sessions for Synapse experiment 1\n",
    "ws_sras = load_sessions_units(\n",
    "    '../data',       # session directory  \n",
    "    exp1_sessions,   # sessions\n",
    "    sorted(exp1_sessions.nunit.unique().tolist()) # session nunits\n",
    ")"
   ]
  },
  {
   "cell_type": "code",
   "execution_count": 12,
   "metadata": {},
   "outputs": [
    {
     "data": {
      "image/png": "[encoded data removed]",
      "text/plain": [
       "<Figure size 1872x288 with 2 Axes>"
      ]
     },
     "metadata": {
      "needs_background": "light"
     },
     "output_type": "display_data"
    }
   ],
   "source": [
    "nunits = [736,736]\n",
    "fwidth = 26\n",
    "fhight = 4\n",
    "fig, axarr = plt.subplots(1, len(nunits), sharex='col', figsize=(fwidth,fhight))#, sharey='row')\n",
    "\n",
    "i = 0\n",
    "j = 'a'\n",
    "for nunit in nunits:\n",
    "    session  = ws_sras[nunit][0]\n",
    "\n",
    "    # Get events and order them by Scheduling\n",
    "    df = get_df_unit_events(session)\n",
    "    df = df.sort_values(by='Scheduler Queues CU')\n",
    "    df = df.reset_index(drop=True)\n",
    "    \n",
    "    # 'Executable Starts'       , 'Executable Stops'     ,\n",
    "    \n",
    "    df = df[['Scheduler Starts Schedule' , 'Scheduler Stops Schedule', 'Scheduler Queues CU'  , 'Executor Starts'            ,\n",
    "             'Executor Starts Mkdir'     , 'Executor Stops Mkdir'    , 'Executor Spawns CU'   , 'OS Accepts Spawned CU'      ,\n",
    "             'OS Spawns CU'              , 'CU Changes Dir'          , 'CU Starts Pre-execute', 'CU Stops Pre-execute'       ,\n",
    "             'CU Spawns Executable'      , 'CU Spawn Returns'        ,\n",
    "             'CU Starts Post-execute'    , 'CU Stops Post-execute'   , 'Executor Stops'       , 'Scheduler Starts Unschedule',\n",
    "             'Scheduler Stops Unschedule', 'DB Bridge Pulls']]\n",
    "    df = df.dropna(axis=1, how='all')\n",
    "    df = df.sub(df['Scheduler Starts Schedule'][0])\n",
    "\n",
    "    # Set axes properties\n",
    "    ax = axarr[i]\n",
    "    ax.spines[\"top\"].set_visible(False)  \n",
    "    ax.spines[\"right\"].set_visible(False)  \n",
    "    ax.get_xaxis().tick_bottom()  \n",
    "    ax.get_yaxis().tick_left()\n",
    "#     unode = np.ceil(nunit/42.0)+1\n",
    "#     nnode = unode+(int(np.ceil(unode/168.0)))\n",
    "#     ax.title.set_text('%s/%s Tasks/Nodes' % (nunit, int(nnode)))\n",
    "\n",
    "    # Plot data\n",
    "    ax.scatter(df['DB Bridge Pulls'].index    , df['DB Bridge Pulls']    , marker='.', color=tableau20[18]) # Agent Scheduling Component\n",
    "    ax.scatter(df['Scheduler Queues CU'].index, df['Scheduler Queues CU'], marker='.', color=tableau20[0] ) # Agent Scheduling Component\n",
    "    ax.scatter(df['Executor Starts'].index    , df['Executor Starts']    , marker='.', color=tableau20[2] ) # Agent Executing Component\n",
    "    # ax.scatter(df['Executable Starts'].index  , df['Executable Starts']  , marker='.', color=tableau20[4] ) # Synapse\n",
    "    # ax.scatter(df['Executable Stops'].index   , df['Executable Stops']   , marker='.', color=tableau20[6] ) # Synapse, orterun [orterun spawner]\n",
    "    ax.scatter(df['CU Spawn Returns'].index   , df['CU Spawn Returns']   , marker='.', color=tableau20[8] ) # CU script\n",
    "    \n",
    "    # Add subfigure label and increment counters\n",
    "    ax.set_xlabel('(%s)' % j, labelpad=45)\n",
    "    i = i+1\n",
    "    j = chr(ord(j) + 1)\n",
    "\n",
    "# Add common axes lables\n",
    "fig.text(0.085, 0.5, 'Time (s)', va='center', rotation='vertical', fontsize=24)\n",
    "fig.text(0.5, -0.08, 'Task ID', ha='center', fontsize=24)\n",
    "    \n",
    "# Add common legend with f* proxy artists (https://matplotlib.org/users/legend_guide.html)\n",
    "fig.legend((\n",
    "                mpl.lines.Line2D([], [], color=tableau20[18]),\n",
    "                mpl.lines.Line2D([], [], color=tableau20[0] ), \n",
    "                mpl.lines.Line2D([], [], color=tableau20[2] ),\n",
    "                # mpl.lines.Line2D([], [], color=tableau20[4] ), \n",
    "                # mpl.lines.Line2D([], [], color=tableau20[6] ),\n",
    "                mpl.lines.Line2D([], [], color=tableau20[8] )\n",
    "           ),\n",
    "           (\n",
    "                'DB Bridge Pulls',\n",
    "                'Scheduler Queues CU',\n",
    "                'Executor Starts',\n",
    "                # 'Executable Starts',\n",
    "                # 'Executable Stops',\n",
    "                'CU Spawn Returns',\n",
    "           ), \n",
    "           'upper center',\n",
    "           bbox_to_anchor=(0.44, 1.4),\n",
    "           fontsize=20,\n",
    "           ncol=6)\n",
    "\n",
    "plt.savefig('figures/paper_prrte_weak_scaling_rp_events_timeline.pdf', dpi=300, bbox_inches='tight')\n",
    "plt.savefig('figures/paper_prrte_weak_scaling_rp_events_timeline.png', dpi=300, bbox_inches='tight')"
   ]
  },
  {
   "cell_type": "code",
   "execution_count": null,
   "metadata": {},
   "outputs": [],
   "source": []
  }
 ],
 "metadata": {
  "hide_input": false,
  "kernelspec": {
   "display_name": "Python 2",
   "language": "python",
   "name": "python2"
  },
  "language_info": {
   "codemirror_mode": {
    "name": "ipython",
    "version": 2
   },
   "file_extension": ".py",
   "mimetype": "text/x-python",
   "name": "python",
   "nbconvert_exporter": "python",
   "pygments_lexer": "ipython2",
   "version": "2.7.16"
  },
  "varInspector": {
   "cols": {
    "lenName": 16,
    "lenType": 16,
    "lenVar": 40
   },
   "kernels_config": {
    "python": {
     "delete_cmd_postfix": "",
     "delete_cmd_prefix": "del ",
     "library": "var_list.py",
     "varRefreshCmd": "print(var_dic_list())"
    },
    "r": {
     "delete_cmd_postfix": ") ",
     "delete_cmd_prefix": "rm(",
     "library": "var_list.r",
     "varRefreshCmd": "cat(var_dic_list()) "
    }
   },
   "types_to_exclude": [
    "module",
    "function",
    "builtin_function_or_method",
    "instance",
    "_Feature"
   ],
   "window_display": false
  }
 },
 "nbformat": 4,
 "nbformat_minor": 2
}
