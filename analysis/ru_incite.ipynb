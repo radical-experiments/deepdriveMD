{
 "cells": [
  {
   "cell_type": "code",
   "execution_count": 1,
   "metadata": {
    "ExecuteTime": {
     "end_time": "2020-06-19T15:02:00.675169Z",
     "start_time": "2020-06-19T15:01:59.446672Z"
    }
   },
   "outputs": [
    {
     "data": {
      "text/html": [
       "<style>.container { width:100% !important; }</style>"
      ],
      "text/plain": [
       "<IPython.core.display.HTML object>"
      ]
     },
     "metadata": {},
     "output_type": "display_data"
    }
   ],
   "source": [
    "%matplotlib inline\n",
    "%run 'bin/notebook_utils.py'\n",
    "%run 'bin/plot_utilization.py'\n",
    "import matplotlib.ticker as mticker\n",
    "import radical.entk as re"
   ]
  },
  {
   "cell_type": "code",
   "execution_count": 2,
   "metadata": {
    "ExecuteTime": {
     "end_time": "2020-06-19T15:02:01.193108Z",
     "start_time": "2020-06-19T15:02:00.677439Z"
    }
   },
   "outputs": [
    {
     "name": "stdout",
     "output_type": "stream",
     "text": [
      "\r\n",
      "  python               : 3.7.7\r\n",
      "  pythonpath           : \r\n",
      "  virtualenv           : /Users/mturilli/Virtualenvs/princeton-pa\r\n",
      "\r\n",
      "  radical.analytics    : 0.90.7-v0.72.0-44-ge31c6b0@fix-plot_origin\r\n",
      "  radical.entk         : 1.0.2\r\n",
      "  radical.pilot        : 1.4.1\r\n",
      "  radical.saga         : 1.3.0\r\n",
      "  radical.utils        : 1.4.0\r\n",
      "\r\n"
     ]
    }
   ],
   "source": [
    "! radical-stack"
   ]
  },
  {
   "cell_type": "code",
   "execution_count": 3,
   "metadata": {
    "ExecuteTime": {
     "end_time": "2020-06-19T15:02:01.200692Z",
     "start_time": "2020-06-19T15:02:01.196486Z"
    }
   },
   "outputs": [],
   "source": [
    "suds = ['re.session.login1.hrlee.018425.0026']\n",
    "sdir = '../data/raw/incite/'\n",
    "sids = [sdir+s for s in suds]"
   ]
  },
  {
   "cell_type": "code",
   "execution_count": 4,
   "metadata": {
    "ExecuteTime": {
     "end_time": "2020-06-19T15:03:34.633494Z",
     "start_time": "2020-06-19T15:02:01.203943Z"
    }
   },
   "outputs": [
    {
     "name": "stdout",
     "output_type": "stream",
     "text": [
      "WARNING: profile \"../data/raw/incite/re.session.login1.hrlee.018425.0026/state_pubsub.pub.0001.prof\" not correctly closed.\n",
      "WARNING: profile \"../data/raw/incite/re.session.login1.hrlee.018425.0026/cmgr.0002.prof\" not correctly closed.\n",
      "WARNING: profile \"../data/raw/incite/re.session.login1.hrlee.018425.0026/umgr_scheduling_queue.put.0000.prof\" not correctly closed.\n",
      "WARNING: profile \"../data/raw/incite/re.session.login1.hrlee.018425.0026/heartbeat.sub.0000.prof\" not correctly closed.\n",
      "WARNING: profile \"../data/raw/incite/re.session.login1.hrlee.018425.0026/heartbeat.sub.0001.prof\" not correctly closed.\n",
      "WARNING: profile \"../data/raw/incite/re.session.login1.hrlee.018425.0026/pmgr_launching_queue.get.0000.prof\" not correctly closed.\n",
      "WARNING: profile \"../data/raw/incite/re.session.login1.hrlee.018425.0026/umgr_staging_input_queue.put.0000.prof\" not correctly closed.\n",
      "WARNING: profile \"../data/raw/incite/re.session.login1.hrlee.018425.0026/umgr_unschedule_pubsub.prof\" not correctly closed.\n",
      "WARNING: profile \"../data/raw/incite/re.session.login1.hrlee.018425.0026/state_pubsub.pub.0000.prof\" not correctly closed.\n",
      "WARNING: profile \"../data/raw/incite/re.session.login1.hrlee.018425.0026/umgr_staging_input_queue.prof\" not correctly closed.\n",
      "WARNING: profile \"../data/raw/incite/re.session.login1.hrlee.018425.0026/state_pubsub.pub.0001.prof\" not correctly closed.\n",
      "WARNING: profile \"../data/raw/incite/re.session.login1.hrlee.018425.0026/cmgr.0002.prof\" not correctly closed.\n",
      "WARNING: profile \"../data/raw/incite/re.session.login1.hrlee.018425.0026/umgr_scheduling_queue.put.0000.prof\" not correctly closed.\n",
      "WARNING: profile \"../data/raw/incite/re.session.login1.hrlee.018425.0026/heartbeat.sub.0000.prof\" not correctly closed.\n",
      "WARNING: profile \"../data/raw/incite/re.session.login1.hrlee.018425.0026/heartbeat.sub.0001.prof\" not correctly closed.\n",
      "WARNING: profile \"../data/raw/incite/re.session.login1.hrlee.018425.0026/pmgr_launching_queue.get.0000.prof\" not correctly closed.\n",
      "WARNING: profile \"../data/raw/incite/re.session.login1.hrlee.018425.0026/umgr_staging_input_queue.put.0000.prof\" not correctly closed.\n",
      "WARNING: profile \"../data/raw/incite/re.session.login1.hrlee.018425.0026/umgr_unschedule_pubsub.prof\" not correctly closed.\n",
      "WARNING: profile \"../data/raw/incite/re.session.login1.hrlee.018425.0026/state_pubsub.pub.0000.prof\" not correctly closed.\n",
      "WARNING: profile \"../data/raw/incite/re.session.login1.hrlee.018425.0026/umgr_staging_input_queue.prof\" not correctly closed.\n",
      "WARNING: profile \"../data/raw/incite/re.session.login1.hrlee.018425.0026/state_pubsub.pub.0001.prof\" not correctly closed.\n",
      "WARNING: profile \"../data/raw/incite/re.session.login1.hrlee.018425.0026/cmgr.0002.prof\" not correctly closed.\n",
      "WARNING: profile \"../data/raw/incite/re.session.login1.hrlee.018425.0026/umgr_scheduling_queue.put.0000.prof\" not correctly closed.\n",
      "WARNING: profile \"../data/raw/incite/re.session.login1.hrlee.018425.0026/heartbeat.sub.0000.prof\" not correctly closed.\n",
      "WARNING: profile \"../data/raw/incite/re.session.login1.hrlee.018425.0026/heartbeat.sub.0001.prof\" not correctly closed.\n",
      "WARNING: profile \"../data/raw/incite/re.session.login1.hrlee.018425.0026/pmgr_launching_queue.get.0000.prof\" not correctly closed.\n",
      "WARNING: profile \"../data/raw/incite/re.session.login1.hrlee.018425.0026/umgr_staging_input_queue.put.0000.prof\" not correctly closed.\n",
      "WARNING: profile \"../data/raw/incite/re.session.login1.hrlee.018425.0026/umgr_unschedule_pubsub.prof\" not correctly closed.\n",
      "WARNING: profile \"../data/raw/incite/re.session.login1.hrlee.018425.0026/state_pubsub.pub.0000.prof\" not correctly closed.\n",
      "WARNING: profile \"../data/raw/incite/re.session.login1.hrlee.018425.0026/umgr_staging_input_queue.prof\" not correctly closed.\n",
      "WARNING: profile \"../data/raw/incite/re.session.login1.hrlee.018425.0026/state_pubsub.pub.0001.prof\" not correctly closed.\n",
      "WARNING: profile \"../data/raw/incite/re.session.login1.hrlee.018425.0026/cmgr.0002.prof\" not correctly closed.\n",
      "WARNING: profile \"../data/raw/incite/re.session.login1.hrlee.018425.0026/umgr_scheduling_queue.put.0000.prof\" not correctly closed.\n",
      "WARNING: profile \"../data/raw/incite/re.session.login1.hrlee.018425.0026/heartbeat.sub.0000.prof\" not correctly closed.\n",
      "WARNING: profile \"../data/raw/incite/re.session.login1.hrlee.018425.0026/heartbeat.sub.0001.prof\" not correctly closed.\n",
      "WARNING: profile \"../data/raw/incite/re.session.login1.hrlee.018425.0026/pmgr_launching_queue.get.0000.prof\" not correctly closed.\n",
      "WARNING: profile \"../data/raw/incite/re.session.login1.hrlee.018425.0026/umgr_staging_input_queue.put.0000.prof\" not correctly closed.\n",
      "WARNING: profile \"../data/raw/incite/re.session.login1.hrlee.018425.0026/umgr_unschedule_pubsub.prof\" not correctly closed.\n",
      "WARNING: profile \"../data/raw/incite/re.session.login1.hrlee.018425.0026/state_pubsub.pub.0000.prof\" not correctly closed.\n",
      "WARNING: profile \"../data/raw/incite/re.session.login1.hrlee.018425.0026/umgr_staging_input_queue.prof\" not correctly closed.\n",
      "WARNING: profile \"../data/raw/incite/re.session.login1.hrlee.018425.0026/state_pubsub.pub.0001.prof\" not correctly closed.\n",
      "WARNING: profile \"../data/raw/incite/re.session.login1.hrlee.018425.0026/cmgr.0002.prof\" not correctly closed.\n",
      "WARNING: profile \"../data/raw/incite/re.session.login1.hrlee.018425.0026/umgr_scheduling_queue.put.0000.prof\" not correctly closed.\n",
      "WARNING: profile \"../data/raw/incite/re.session.login1.hrlee.018425.0026/heartbeat.sub.0000.prof\" not correctly closed.\n",
      "WARNING: profile \"../data/raw/incite/re.session.login1.hrlee.018425.0026/heartbeat.sub.0001.prof\" not correctly closed.\n",
      "WARNING: profile \"../data/raw/incite/re.session.login1.hrlee.018425.0026/pmgr_launching_queue.get.0000.prof\" not correctly closed.\n",
      "WARNING: profile \"../data/raw/incite/re.session.login1.hrlee.018425.0026/umgr_staging_input_queue.put.0000.prof\" not correctly closed.\n",
      "WARNING: profile \"../data/raw/incite/re.session.login1.hrlee.018425.0026/umgr_unschedule_pubsub.prof\" not correctly closed.\n",
      "WARNING: profile \"../data/raw/incite/re.session.login1.hrlee.018425.0026/state_pubsub.pub.0000.prof\" not correctly closed.\n",
      "WARNING: profile \"../data/raw/incite/re.session.login1.hrlee.018425.0026/umgr_staging_input_queue.prof\" not correctly closed.\n"
     ]
    }
   ],
   "source": [
    "ss = {}\n",
    "for sid in suds:\n",
    "    sp = sdir+sid\n",
    "    ss[sid] = {'s': ra.Session(sp, 'radical.pilot')}\n",
    "    ss[sid].update({'p': ss[sid]['s'].filter(etype='pilot'   , inplace=False),\n",
    "                    'u': ss[sid]['s'].filter(etype='unit'    , inplace=False),\n",
    "                    't': ss[sid]['s'].filter(etype='task'    , inplace=False),\n",
    "                    'w': ss[sid]['s'].filter(etype='pipeline', inplace=False)})"
   ]
  },
  {
   "cell_type": "code",
   "execution_count": 5,
   "metadata": {
    "ExecuteTime": {
     "end_time": "2020-06-19T15:03:34.648892Z",
     "start_time": "2020-06-19T15:03:34.635841Z"
    }
   },
   "outputs": [],
   "source": [
    "for sid in suds:\n",
    "    ss[sid].update({'sid'   : ss[sid]['s'].uid,\n",
    "                    'pid'   : ss[sid]['p'].list('uid'),\n",
    "                    'npilot': len(ss[sid]['p'].get()),\n",
    "                    'lm'    : ss[sid]['s'].get(etype='pilot')[0].cfg['agent_launch_method'],\n",
    "                    'npact' : len(ss[sid]['p'].timestamps(state='PMGR_ACTIVE')),\n",
    "                    'nunit' : len(ss[sid]['u'].get()),\n",
    "                    'nudone': len(ss[sid]['u'].timestamps(state='DONE')),\n",
    "                    'nufail': len(ss[sid]['u'].timestamps(state='FAILED'))})\n",
    "    ss[sid].update({'pres'  : ss[sid]['p'].get(uid=ss[sid]['pid'])[0].description['resource'],\n",
    "                    'ncores': ss[sid]['p'].get(uid=ss[sid]['pid'])[0].description['cores'],\n",
    "                    'ngpus' : ss[sid]['p'].get(uid=ss[sid]['pid'])[0].description['gpus']})                  \n",
    "    ss[sid].update({'nnodes': ss[sid]['ngpus']/6})"
   ]
  },
  {
   "cell_type": "code",
   "execution_count": 6,
   "metadata": {
    "ExecuteTime": {
     "end_time": "2020-06-19T15:03:34.656969Z",
     "start_time": "2020-06-19T15:03:34.651032Z"
    }
   },
   "outputs": [
    {
     "name": "stdout",
     "output_type": "stream",
     "text": [
      "\n",
      "re.session.login1.hrlee.018425.0026:\n",
      "\tName of the HPC platform: ornl.summit\n",
      "\tPilot launch method: JSRUN\n",
      "\tNumber of pilots requested: 1\n",
      "\tNumber of pilots active: 1\n",
      "\tNumber of requested cores: 840\n",
      "\tNumber of requested GPUs: 120\n",
      "\tNumber of requested nodes: 20.0\n",
      "\tNumber of nodes asked by ENTK: 20\n",
      "\tNumber of tasks executed by EnTK: 496\n",
      "\tNumber of tasks successfully executed by EnTK: 361\n",
      "\tNumber of failed tasks: 15\n",
      "\n"
     ]
    }
   ],
   "source": [
    "for sid in suds:\n",
    "    print(\"\"\"\n",
    "%s:\n",
    "\\tName of the HPC platform: %s\n",
    "\\tPilot launch method: %s\n",
    "\\tNumber of pilots requested: %i\n",
    "\\tNumber of pilots active: %i\n",
    "\\tNumber of requested cores: %i\n",
    "\\tNumber of requested GPUs: %s\n",
    "\\tNumber of requested nodes: %s\n",
    "\\tNumber of nodes asked by ENTK: %i\n",
    "\\tNumber of tasks executed by EnTK: %i\n",
    "\\tNumber of tasks successfully executed by EnTK: %i\n",
    "\\tNumber of failed tasks: %i\n",
    "\"\"\" % (sid              , ss[sid]['pres']  , ss[sid]['lm'], \n",
    "       ss[sid]['npilot'], ss[sid]['npact'] , ss[sid]['ncores']/4, \n",
    "       ss[sid]['ngpus'] , ss[sid]['nnodes'], ss[sid]['ncores']/168, \n",
    "       ss[sid]['nunit'] , ss[sid]['nudone'], ss[sid]['nufail']))"
   ]
  },
  {
   "cell_type": "code",
   "execution_count": 7,
   "metadata": {
    "ExecuteTime": {
     "end_time": "2020-06-19T15:03:34.663792Z",
     "start_time": "2020-06-19T15:03:34.658944Z"
    }
   },
   "outputs": [],
   "source": [
    "metrics_default = [\n",
    "\n",
    "        # pilot overheads (global)\n",
    "        ['Pilot Startup',     ['boot', 'setup_1']],\n",
    "        ['Pilot Termination', ['term' ]],\n",
    "\n",
    "        # derived pilot durations\n",
    "        ['Agent Nodes',       ['agent']],\n",
    "        ['Warmup',            ['warm' ]],\n",
    "        ['Draining',          ['drain']],\n",
    "        ['Idle',              ['idle' ]],\n",
    "\n",
    "        # unit durations (PRTE)\n",
    "        ['Prepare Exec',      ['exec_queue', 'exec_prep']],\n",
    "        ['Exec RP',           ['exec_rp', 'exec_sh', 'term_sh', 'term_rp']],\n",
    "        ['Exec Cmd',          ['exec_cmd']],\n",
    "        ['Unschedule',        ['unschedule']],\n",
    "]"
   ]
  },
  {
   "cell_type": "code",
   "execution_count": 8,
   "metadata": {
    "ExecuteTime": {
     "end_time": "2020-06-19T15:04:03.867430Z",
     "start_time": "2020-06-19T15:03:34.667611Z"
    }
   },
   "outputs": [
    {
     "name": "stdout",
     "output_type": "stream",
     "text": [
      "cache read failed: [Errno 2] No such file or directory: '/Users/mturilli/.radical/analytics/cache//re.session.login1.hrlee.018425.0026.pickle'\n",
      "WARNING: profile \"../data/raw/incite/re.session.login1.hrlee.018425.0026/state_pubsub.pub.0001.prof\" not correctly closed.\n",
      "WARNING: profile \"../data/raw/incite/re.session.login1.hrlee.018425.0026/cmgr.0002.prof\" not correctly closed.\n",
      "WARNING: profile \"../data/raw/incite/re.session.login1.hrlee.018425.0026/umgr_scheduling_queue.put.0000.prof\" not correctly closed.\n",
      "WARNING: profile \"../data/raw/incite/re.session.login1.hrlee.018425.0026/heartbeat.sub.0000.prof\" not correctly closed.\n",
      "WARNING: profile \"../data/raw/incite/re.session.login1.hrlee.018425.0026/heartbeat.sub.0001.prof\" not correctly closed.\n",
      "WARNING: profile \"../data/raw/incite/re.session.login1.hrlee.018425.0026/pmgr_launching_queue.get.0000.prof\" not correctly closed.\n",
      "WARNING: profile \"../data/raw/incite/re.session.login1.hrlee.018425.0026/umgr_staging_input_queue.put.0000.prof\" not correctly closed.\n",
      "WARNING: profile \"../data/raw/incite/re.session.login1.hrlee.018425.0026/umgr_unschedule_pubsub.prof\" not correctly closed.\n",
      "WARNING: profile \"../data/raw/incite/re.session.login1.hrlee.018425.0026/state_pubsub.pub.0000.prof\" not correctly closed.\n",
      "WARNING: profile \"../data/raw/incite/re.session.login1.hrlee.018425.0026/umgr_staging_input_queue.prof\" not correctly closed.\n"
     ]
    }
   ],
   "source": [
    "# get utilization information\n",
    "# FIXME: remove bogus session\n",
    "suds = ['re.session.login1.hrlee.018425.0026']\n",
    "sdir = '../data/raw/incite/'\n",
    "sids = [sdir+s for s in suds]\n",
    "\n",
    "sobjs = ra.Experiment(sids, stype='radical.pilot')\n",
    "provided, consumed, stats_abs, stats_rel, info = sobjs.utilization(metrics=metrics_default)"
   ]
  },
  {
   "cell_type": "code",
   "execution_count": 9,
   "metadata": {
    "ExecuteTime": {
     "end_time": "2020-06-19T15:04:03.874520Z",
     "start_time": "2020-06-19T15:04:03.869554Z"
    }
   },
   "outputs": [],
   "source": [
    "# x-axis labels\n",
    "xkeys = list()\n",
    "\n",
    "# get the numbers we actually want to plot\n",
    "for session in sobjs.sessions:\n",
    "\n",
    "    n_units = len(session.get(etype='unit'))\n",
    "    \n",
    "    p_size = 0\n",
    "    for pilot in session.get(etype='pilot'):\n",
    "        p_size += pilot.description['cores']\n",
    "\n",
    "    xkeys.append('%s / %s' % (n_units, p_size))"
   ]
  },
  {
   "cell_type": "code",
   "execution_count": 10,
   "metadata": {
    "ExecuteTime": {
     "end_time": "2020-06-19T15:04:03.879406Z",
     "start_time": "2020-06-19T15:04:03.876574Z"
    }
   },
   "outputs": [],
   "source": [
    "def update_ticks(x, pos):\n",
    "    return int(x/168)"
   ]
  },
  {
   "cell_type": "code",
   "execution_count": 11,
   "metadata": {
    "ExecuteTime": {
     "end_time": "2020-06-19T15:04:45.983253Z",
     "start_time": "2020-06-19T15:04:03.881208Z"
    }
   },
   "outputs": [
    {
     "name": "stderr",
     "output_type": "stream",
     "text": [
      "/Users/mturilli/Virtualenvs/princeton-pa/lib/python3.7/site-packages/matplotlib/font_manager.py:1238: UserWarning: findfont: Font family ['serif'] not found. Falling back to DejaVu Sans.\n",
      "  (prop.get_family(), self.defaultFamily[fontext]))\n"
     ]
    },
    {
     "data": {
      "image/png": "[encoded data removed]",
      "text/plain": [
       "<Figure size 1728x432 with 1 Axes>"
      ]
     },
     "metadata": {},
     "output_type": "display_data"
    }
   ],
   "source": [
    "# core/gpu utilization over time (box plot)\n",
    "import matplotlib.colors as mcolors\n",
    "\n",
    "fig, ax  = fig_setup(figsize=(24,6))\n",
    "\n",
    "cmap = mpl.cm.get_cmap('tab20c')\n",
    "\n",
    "step = 1.0 / (len(metrics_default) + 1)\n",
    "this = step / 1.0\n",
    "legend = list()\n",
    "\n",
    "x_min = None\n",
    "x_max = None\n",
    "y_min = None\n",
    "y_max = None\n",
    "\n",
    "sid = 're.session.login1.hrlee.018425.0026'\n",
    "ax.set_title('496/20 Tasks/Nodes', fontdict={'fontsize': 30})\n",
    "\n",
    "colors = {0: mcolors.CSS4_COLORS['cornflowerblue'], # pilot startup\n",
    "          1: mcolors.CSS4_COLORS['red'],            # pilot termination\n",
    "          2: mcolors.CSS4_COLORS['linen'],         # agent nodes\n",
    "          3: mcolors.CSS4_COLORS['darkorange'],         # warmup\n",
    "          4: mcolors.CSS4_COLORS['green'],          # Draining\n",
    "          5: mcolors.CSS4_COLORS['whitesmoke'],          # idle\n",
    "          6: mcolors.CSS4_COLORS['gold'],         # prepare exec\n",
    "          7: mcolors.CSS4_COLORS['gray'],           # exec rp\n",
    "          8: mcolors.CSS4_COLORS['black'],          # exec cmd\n",
    "          9: mcolors.CSS4_COLORS['purple']}          # unschedule\n",
    "\n",
    "ccounter = 0\n",
    "for metric in metrics_default:\n",
    "\n",
    "    color = colors[ccounter]# cmap(this)\n",
    "    this += step\n",
    "\n",
    "    legend.append(mpl.lines.Line2D([0], [0], color=color, lw=6))\n",
    "\n",
    "    if isinstance(metric, list):\n",
    "        name = metric[0]\n",
    "        parts = metric[1]\n",
    "    else:\n",
    "        name = metric\n",
    "        parts = [metric]\n",
    "\n",
    "    for part in parts:\n",
    "        for uid in consumed[sid][part]:\n",
    "            for block in consumed[sid][part][uid]:\n",
    "                orig_x = block[0]\n",
    "                orig_y = block[2] - 0.5\n",
    "                width = block[1] - block[0]\n",
    "                height = block[3] - block[2] + 1.0\n",
    "\n",
    "                if x_min is None:\n",
    "                    x_min = orig_x\n",
    "                if x_max is None:\n",
    "                    x_max = orig_x + width\n",
    "                if y_min is None:\n",
    "                    y_min = orig_x\n",
    "                if y_max is None:\n",
    "                    y_max = orig_x + height\n",
    "\n",
    "                x_min = min(x_min, orig_x)\n",
    "                y_min = min(y_min, orig_y)\n",
    "                x_max = max(x_max, orig_x + width)\n",
    "                y_max = max(y_max, orig_y + height)\n",
    "\n",
    "                patch = mpl.patches.Rectangle((orig_x, orig_y),\n",
    "                                              width, height,\n",
    "                                              facecolor=color,\n",
    "                                              edgecolor='black',\n",
    "                                              fill=True, lw=0.0)\n",
    "                ax.add_patch(patch)\n",
    "    \n",
    "    ccounter += 1\n",
    "\n",
    "# The session did not close cleanly. EnTK waited for ~800 seconds before deciding \n",
    "# that the pilot had died. After that, it closed the sesison and exited. This is \n",
    "# a degenerate run and, as such, not representative of the actual overheads on \n",
    "# properly terminated sessions. We then normalize the plot to account for such a\n",
    "# condition. The analysis can be replicated by looking at the profile files in \n",
    "# the data/raw directory of this repository.\n",
    "# ax.set_xlim([x_min, x_max])\n",
    "ax.set_xlim([x_min, 7000])\n",
    "ax.set_ylim([y_min, y_max])\n",
    "\n",
    "# ax.set_xlabel('(%s)' % j, labelpad=45)\n",
    "ax.yaxis.set_major_formatter(mticker.FuncFormatter(update_ticks))\n",
    "\n",
    "\n",
    "# Add common axes lables\n",
    "fig.text(0.075,  0.5, 'Node ID' , va='center', rotation='vertical', fontsize=30)\n",
    "fig.text(0.5 , -0.1, 'Time (s)', ha='center', fontsize=30)\n",
    "    \n",
    "# Add legend\n",
    "fig.legend(legend, [m[0] for m in metrics_default], loc='upper center', \n",
    "           bbox_to_anchor=(0.45, 1.5), fontsize=30, ncol=4)\n",
    "\n",
    "plt.savefig('figures/incite2020_deepdrivemd.pdf', dpi=300, bbox_inches='tight')\n",
    "plt.savefig('figures/incite2020_deepdrivemd.png', dpi=300, bbox_inches='tight')"
   ]
  },
  {
   "cell_type": "code",
   "execution_count": 12,
   "metadata": {
    "ExecuteTime": {
     "end_time": "2020-06-19T15:04:45.989763Z",
     "start_time": "2020-06-19T15:04:45.985805Z"
    }
   },
   "outputs": [
    {
     "name": "stdout",
     "output_type": "stream",
     "text": [
      "re.session.login1.hrlee.018425.0026 [496]\n",
      "    Pilot Startup       :     105125.147     0.420%      ['boot', 'setup_1']\n",
      "    Pilot Termination   :          0.000     0.000%   !  ['term']\n",
      "    Agent Nodes         :          0.000     0.000%   !  ['agent']\n",
      "    Warmup              :      46793.517     0.187%      ['warm']\n",
      "    Draining            :     497597.646     1.987%      ['drain']\n",
      "    Idle                :   20636447.584    82.411%      ['idle']\n",
      "    Prepare Exec        :       1912.244     0.008%      ['exec_queue', 'exec_prep']\n",
      "    Exec RP             :        169.358     0.001%      ['exec_rp', 'exec_sh', 'term_sh', 'term_rp']\n",
      "    Exec Cmd            :    3306455.000    13.204%      ['exec_cmd']\n",
      "    Unschedule          :        112.058     0.000%      ['unschedule']\n",
      "    total               :   25040832.644   100.000%      \n",
      "\n",
      "    total               :   25040832.644   100.000%\n",
      "    over                :   24594612.554    98.218%\n",
      "    work                :          0.000     0.000%\n",
      "    miss                :     446220.090     1.782%\n",
      "\n"
     ]
    }
   ],
   "source": [
    " print(info[sid])"
   ]
  },
  {
   "cell_type": "code",
   "execution_count": null,
   "metadata": {},
   "outputs": [],
   "source": []
  }
 ],
 "metadata": {
  "kernelspec": {
   "display_name": "Python 3",
   "language": "python",
   "name": "python3"
  },
  "language_info": {
   "codemirror_mode": {
    "name": "ipython",
    "version": 3
   },
   "file_extension": ".py",
   "mimetype": "text/x-python",
   "name": "python",
   "nbconvert_exporter": "python",
   "pygments_lexer": "ipython3",
   "version": "3.7.7"
  }
 },
 "nbformat": 4,
 "nbformat_minor": 4
}
