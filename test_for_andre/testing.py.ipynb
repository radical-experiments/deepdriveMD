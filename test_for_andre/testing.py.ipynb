{
 "cells": [
  {
   "cell_type": "code",
   "execution_count": 1,
   "metadata": {},
   "outputs": [
    {
     "name": "stderr",
     "output_type": "stream",
     "text": [
      "ERROR:root:File `u'notebook_utils.py'` not found.\n",
      "/Users/JumanaDakka/environments/hyperspace/lib/python2.7/site-packages/radical/utils/atfork/stdlib_fixer.py:72: UserWarning: logging handlers already registered.\n",
      "  warnings.warn('logging handlers already registered.')\n"
     ]
    }
   ],
   "source": [
    "%matplotlib inline\n",
    "%run 'notebook_utils.py'\n",
    "\n",
    "import sys\n",
    "import pprint\n",
    "import cProfile\n",
    "\n",
    "import matplotlib.pyplot as plt\n",
    "import numpy             as np\n",
    "\n",
    "import radical.utils     as ru\n",
    "import radical.pilot     as rp\n",
    "import radical.analytics as ra\n",
    "import radical.entk as re \n",
    "from   radical.utils.profile import *\n",
    "from   radical.pilot.states  import *\n",
    "import glob, os\n",
    "from matplotlib.ticker import MaxNLocator\n",
    "from matplotlib.ticker import AutoMinorLocator\n",
    "\n",
    "%matplotlib inline"
   ]
  },
  {
   "cell_type": "code",
   "execution_count": 7,
   "metadata": {},
   "outputs": [
    {
     "name": "stdout",
     "output_type": "stream",
     "text": [
      "11.1229999065 0 0\n"
     ]
    }
   ],
   "source": [
    "rp_folder = glob.glob('rp.*') \n",
    "re_folder = glob.glob('re.*') \n",
    "\n",
    "src = rp_folder[0]\n",
    "\n",
    "# enTK_session = ra.Session(stype = 'radical.entk', src = src , sid = 're.session.two.jdakka.017794.0034')\n",
    "# enTK_states = enTK_session.list('state') # EXECUTED\n",
    "# enTK_tasks = enTK_session.filter(etype = 'task') # , uid = task_ids\n",
    "\n",
    "# session\n",
    "\n",
    "rp_session = ra.Session(stype='radical.pilot', src=src)\n",
    "\n",
    "# pilot duration\n",
    "\n",
    "rp_pilots = rp_session.get(etype='pilot') \n",
    "rp_pilots = rp_session.filter(etype='pilot', inplace=False)\n",
    "pilot_duration = rp_pilots.duration([rp.PMGR_ACTIVE, rp.FINAL])\n",
    "\n",
    "# units\n",
    "\n",
    "rp_units = rp_session.filter(etype='unit', inplace=False)\n",
    "\n",
    "rp_dur = rp_units.duration([rp.NEW, rp.DONE])\n",
    "exec_dur = rp_units.duration(event=[{ru.EVENT: 'exec_start'}, {ru.EVENT: 'exec_stop'}])\n",
    "\n",
    "duration_exec = rp_units.duration([rp.AGENT_EXECUTING, rp.AGENT_STAGING_OUTPUT_PENDING])\n",
    "print rp_dur, exec_dur, duration_exec"
   ]
  },
  {
   "cell_type": "code",
   "execution_count": null,
   "metadata": {},
   "outputs": [],
   "source": []
  }
 ],
 "metadata": {
  "kernelspec": {
   "display_name": "Python 2",
   "language": "python",
   "name": "python2"
  },
  "language_info": {
   "codemirror_mode": {
    "name": "ipython",
    "version": 2
   },
   "file_extension": ".py",
   "mimetype": "text/x-python",
   "name": "python",
   "nbconvert_exporter": "python",
   "pygments_lexer": "ipython2",
   "version": "2.7.12"
  }
 },
 "nbformat": 4,
 "nbformat_minor": 2
}
